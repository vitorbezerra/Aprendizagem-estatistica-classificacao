{
 "cells": [
  {
   "cell_type": "markdown",
   "metadata": {},
   "source": [
    "# SENAI / INEP - Dados sobre evasão\n",
    "## Explicação do arquivo CSV\n",
    "---"
   ]
  },
  {
   "cell_type": "markdown",
   "metadata": {},
   "source": [
    "Este arquivo CSV está relacionado a demanda da Gerência de Educação: LUMNI - Assistente virtual.\n",
    "\n",
    "Um dos objetivos deste trabalho foi a previsão de evasão de alunos do SENAI-PR. Dados dados históricos de um grupo de alunos, como dados sobre notas em avaliações, frequência, condições socioeconômicas e outros, a tarefa seria determinar o potencial de evasão de um aluno com determinadas características.\n",
    "\n",
    "Como a gerência não disponibilizou nenhum dado (até o fim da primeira sprint), os residentes buscaram dados disponibilizados pelo INEP do Censo da Educação Superior, disponível na página de Microdados (http://inep.gov.br/microdados). A partir dos dados do censo de 2018, foi realizada uma filtragem para obter os dados de alunos das unidades do SENAI-PR. Após isso, foi realizada uma limpeza dos dados, eliminando informações que foram consideradas irrelevantes para os objetivos propostos.\n",
    "\n",
    "---"
   ]
  },
  {
   "cell_type": "code",
   "execution_count": 4,
   "metadata": {},
   "outputs": [],
   "source": [
    "import pandas as pd"
   ]
  },
  {
   "cell_type": "code",
   "execution_count": 5,
   "metadata": {},
   "outputs": [],
   "source": [
    "senai = pd.read_csv('senai_inep.csv')"
   ]
  },
  {
   "cell_type": "code",
   "execution_count": 6,
   "metadata": {},
   "outputs": [
    {
     "data": {
      "text/plain": [
       "(3309, 22)"
      ]
     },
     "execution_count": 6,
     "metadata": {},
     "output_type": "execute_result"
    }
   ],
   "source": [
    "senai.shape"
   ]
  },
  {
   "cell_type": "code",
   "execution_count": 7,
   "metadata": {},
   "outputs": [
    {
     "data": {
      "text/html": [
       "<div>\n",
       "<style scoped>\n",
       "    .dataframe tbody tr th:only-of-type {\n",
       "        vertical-align: middle;\n",
       "    }\n",
       "\n",
       "    .dataframe tbody tr th {\n",
       "        vertical-align: top;\n",
       "    }\n",
       "\n",
       "    .dataframe thead th {\n",
       "        text-align: right;\n",
       "    }\n",
       "</style>\n",
       "<table border=\"1\" class=\"dataframe\">\n",
       "  <thead>\n",
       "    <tr style=\"text-align: right;\">\n",
       "      <th></th>\n",
       "      <th>CO_IES</th>\n",
       "      <th>NO_IES</th>\n",
       "      <th>CO_CURSO</th>\n",
       "      <th>NO_CURSO</th>\n",
       "      <th>TP_TURNO</th>\n",
       "      <th>TP_GRAU_ACADEMICO</th>\n",
       "      <th>TP_MODALIDADE_ENSINO</th>\n",
       "      <th>ID_ALUNO</th>\n",
       "      <th>TP_COR_RACA</th>\n",
       "      <th>TP_SEXO</th>\n",
       "      <th>...</th>\n",
       "      <th>IN_DEFICIENCIA</th>\n",
       "      <th>DT_INGRESSO_CURSO</th>\n",
       "      <th>IN_RESERVA_VAGAS</th>\n",
       "      <th>IN_FINANCIAMENTO_ESTUDANTIL</th>\n",
       "      <th>IN_APOIO_SOCIAL</th>\n",
       "      <th>IN_ATIVIDADE_EXTRACURRICULAR</th>\n",
       "      <th>TP_ESCOLA_CONCLUSAO_ENS_MEDIO</th>\n",
       "      <th>IN_MATRICULA</th>\n",
       "      <th>IN_CONCLUINTE</th>\n",
       "      <th>TP_SITUACAO</th>\n",
       "    </tr>\n",
       "  </thead>\n",
       "  <tbody>\n",
       "    <tr>\n",
       "      <th>0</th>\n",
       "      <td>1400</td>\n",
       "      <td>FACULDADE DA INDÚSTRIA SÃO JOSÉ DOS PINHAIS</td>\n",
       "      <td>20516</td>\n",
       "      <td>ADMINISTRAÇÃO</td>\n",
       "      <td>3.0</td>\n",
       "      <td>1.0</td>\n",
       "      <td>1</td>\n",
       "      <td>C2E870F652B2299ED62D4AA8038A9422</td>\n",
       "      <td>1</td>\n",
       "      <td>1</td>\n",
       "      <td>...</td>\n",
       "      <td>0</td>\n",
       "      <td>01JUL2009:00:00:00</td>\n",
       "      <td>0</td>\n",
       "      <td>0.0</td>\n",
       "      <td>0</td>\n",
       "      <td>0</td>\n",
       "      <td>1</td>\n",
       "      <td>0</td>\n",
       "      <td>0</td>\n",
       "      <td>0</td>\n",
       "    </tr>\n",
       "    <tr>\n",
       "      <th>1</th>\n",
       "      <td>1400</td>\n",
       "      <td>FACULDADE DA INDÚSTRIA SÃO JOSÉ DOS PINHAIS</td>\n",
       "      <td>20516</td>\n",
       "      <td>ADMINISTRAÇÃO</td>\n",
       "      <td>3.0</td>\n",
       "      <td>1.0</td>\n",
       "      <td>1</td>\n",
       "      <td>81A4D85417E7123C8DF075A0A2629E8E</td>\n",
       "      <td>0</td>\n",
       "      <td>1</td>\n",
       "      <td>...</td>\n",
       "      <td>0</td>\n",
       "      <td>01JUL2009:00:00:00</td>\n",
       "      <td>0</td>\n",
       "      <td>0.0</td>\n",
       "      <td>0</td>\n",
       "      <td>0</td>\n",
       "      <td>1</td>\n",
       "      <td>1</td>\n",
       "      <td>1</td>\n",
       "      <td>1</td>\n",
       "    </tr>\n",
       "    <tr>\n",
       "      <th>2</th>\n",
       "      <td>1400</td>\n",
       "      <td>FACULDADE DA INDÚSTRIA SÃO JOSÉ DOS PINHAIS</td>\n",
       "      <td>20516</td>\n",
       "      <td>ADMINISTRAÇÃO</td>\n",
       "      <td>3.0</td>\n",
       "      <td>1.0</td>\n",
       "      <td>1</td>\n",
       "      <td>77F900FA4B592D61029032DCA66D9F55</td>\n",
       "      <td>2</td>\n",
       "      <td>2</td>\n",
       "      <td>...</td>\n",
       "      <td>0</td>\n",
       "      <td>01JAN2014:00:00:00</td>\n",
       "      <td>0</td>\n",
       "      <td>0.0</td>\n",
       "      <td>0</td>\n",
       "      <td>0</td>\n",
       "      <td>1</td>\n",
       "      <td>1</td>\n",
       "      <td>1</td>\n",
       "      <td>1</td>\n",
       "    </tr>\n",
       "    <tr>\n",
       "      <th>3</th>\n",
       "      <td>1400</td>\n",
       "      <td>FACULDADE DA INDÚSTRIA SÃO JOSÉ DOS PINHAIS</td>\n",
       "      <td>20516</td>\n",
       "      <td>ADMINISTRAÇÃO</td>\n",
       "      <td>3.0</td>\n",
       "      <td>1.0</td>\n",
       "      <td>1</td>\n",
       "      <td>4D21A9481680ED505C359CE9A0F8F212</td>\n",
       "      <td>0</td>\n",
       "      <td>2</td>\n",
       "      <td>...</td>\n",
       "      <td>0</td>\n",
       "      <td>01JAN2006:00:00:00</td>\n",
       "      <td>0</td>\n",
       "      <td>0.0</td>\n",
       "      <td>0</td>\n",
       "      <td>0</td>\n",
       "      <td>9</td>\n",
       "      <td>0</td>\n",
       "      <td>0</td>\n",
       "      <td>1</td>\n",
       "    </tr>\n",
       "    <tr>\n",
       "      <th>4</th>\n",
       "      <td>1400</td>\n",
       "      <td>FACULDADE DA INDÚSTRIA SÃO JOSÉ DOS PINHAIS</td>\n",
       "      <td>20516</td>\n",
       "      <td>ADMINISTRAÇÃO</td>\n",
       "      <td>3.0</td>\n",
       "      <td>1.0</td>\n",
       "      <td>1</td>\n",
       "      <td>63341AACBCB526FE3A929666DE581731</td>\n",
       "      <td>0</td>\n",
       "      <td>1</td>\n",
       "      <td>...</td>\n",
       "      <td>0</td>\n",
       "      <td>01JAN2010:00:00:00</td>\n",
       "      <td>0</td>\n",
       "      <td>0.0</td>\n",
       "      <td>0</td>\n",
       "      <td>0</td>\n",
       "      <td>1</td>\n",
       "      <td>0</td>\n",
       "      <td>0</td>\n",
       "      <td>0</td>\n",
       "    </tr>\n",
       "  </tbody>\n",
       "</table>\n",
       "<p>5 rows × 22 columns</p>\n",
       "</div>"
      ],
      "text/plain": [
       "   CO_IES                                       NO_IES  CO_CURSO  \\\n",
       "0    1400  FACULDADE DA INDÚSTRIA SÃO JOSÉ DOS PINHAIS     20516   \n",
       "1    1400  FACULDADE DA INDÚSTRIA SÃO JOSÉ DOS PINHAIS     20516   \n",
       "2    1400  FACULDADE DA INDÚSTRIA SÃO JOSÉ DOS PINHAIS     20516   \n",
       "3    1400  FACULDADE DA INDÚSTRIA SÃO JOSÉ DOS PINHAIS     20516   \n",
       "4    1400  FACULDADE DA INDÚSTRIA SÃO JOSÉ DOS PINHAIS     20516   \n",
       "\n",
       "        NO_CURSO  TP_TURNO  TP_GRAU_ACADEMICO  TP_MODALIDADE_ENSINO  \\\n",
       "0  ADMINISTRAÇÃO       3.0                1.0                     1   \n",
       "1  ADMINISTRAÇÃO       3.0                1.0                     1   \n",
       "2  ADMINISTRAÇÃO       3.0                1.0                     1   \n",
       "3  ADMINISTRAÇÃO       3.0                1.0                     1   \n",
       "4  ADMINISTRAÇÃO       3.0                1.0                     1   \n",
       "\n",
       "                           ID_ALUNO  TP_COR_RACA  TP_SEXO  ...  \\\n",
       "0  C2E870F652B2299ED62D4AA8038A9422            1        1  ...   \n",
       "1  81A4D85417E7123C8DF075A0A2629E8E            0        1  ...   \n",
       "2  77F900FA4B592D61029032DCA66D9F55            2        2  ...   \n",
       "3  4D21A9481680ED505C359CE9A0F8F212            0        2  ...   \n",
       "4  63341AACBCB526FE3A929666DE581731            0        1  ...   \n",
       "\n",
       "   IN_DEFICIENCIA   DT_INGRESSO_CURSO  IN_RESERVA_VAGAS  \\\n",
       "0               0  01JUL2009:00:00:00                 0   \n",
       "1               0  01JUL2009:00:00:00                 0   \n",
       "2               0  01JAN2014:00:00:00                 0   \n",
       "3               0  01JAN2006:00:00:00                 0   \n",
       "4               0  01JAN2010:00:00:00                 0   \n",
       "\n",
       "  IN_FINANCIAMENTO_ESTUDANTIL  IN_APOIO_SOCIAL  IN_ATIVIDADE_EXTRACURRICULAR  \\\n",
       "0                         0.0                0                             0   \n",
       "1                         0.0                0                             0   \n",
       "2                         0.0                0                             0   \n",
       "3                         0.0                0                             0   \n",
       "4                         0.0                0                             0   \n",
       "\n",
       "   TP_ESCOLA_CONCLUSAO_ENS_MEDIO  IN_MATRICULA  IN_CONCLUINTE  TP_SITUACAO  \n",
       "0                              1             0              0            0  \n",
       "1                              1             1              1            1  \n",
       "2                              1             1              1            1  \n",
       "3                              9             0              0            1  \n",
       "4                              1             0              0            0  \n",
       "\n",
       "[5 rows x 22 columns]"
      ]
     },
     "execution_count": 7,
     "metadata": {},
     "output_type": "execute_result"
    }
   ],
   "source": [
    "senai.head()"
   ]
  },
  {
   "cell_type": "code",
   "execution_count": 8,
   "metadata": {},
   "outputs": [
    {
     "data": {
      "text/plain": [
       "Index(['CO_IES', 'NO_IES', 'CO_CURSO', 'NO_CURSO', 'TP_TURNO',\n",
       "       'TP_GRAU_ACADEMICO', 'TP_MODALIDADE_ENSINO', 'ID_ALUNO', 'TP_COR_RACA',\n",
       "       'TP_SEXO', 'NU_IDADE', 'TP_NACIONALIDADE', 'IN_DEFICIENCIA',\n",
       "       'DT_INGRESSO_CURSO', 'IN_RESERVA_VAGAS', 'IN_FINANCIAMENTO_ESTUDANTIL',\n",
       "       'IN_APOIO_SOCIAL', 'IN_ATIVIDADE_EXTRACURRICULAR',\n",
       "       'TP_ESCOLA_CONCLUSAO_ENS_MEDIO', 'IN_MATRICULA', 'IN_CONCLUINTE',\n",
       "       'TP_SITUACAO'],\n",
       "      dtype='object')"
      ]
     },
     "execution_count": 8,
     "metadata": {},
     "output_type": "execute_result"
    }
   ],
   "source": [
    "senai.columns"
   ]
  },
  {
   "cell_type": "markdown",
   "metadata": {},
   "source": [
    "**A coluna 'TP_SITUACAO' indica a situação atual da matrícula do aluno (vinculado ou desvinculado) e pode ser utilizada como coluna-alvo**. A situação \"vinculado\" pode indicar diversas situações, como o aluno que está cursando de fato, ou alunos que estão com a matrícula temporariamente trancada, por exemplo.\n",
    "\n",
    "As classes desse atributo são:\n",
    "* 1: aluno vinculado;\n",
    "* 2: aluno desvinculado."
   ]
  },
  {
   "cell_type": "code",
   "execution_count": 9,
   "metadata": {},
   "outputs": [
    {
     "data": {
      "text/plain": [
       "1    2882\n",
       "0     427\n",
       "Name: TP_SITUACAO, dtype: int64"
      ]
     },
     "execution_count": 9,
     "metadata": {},
     "output_type": "execute_result"
    }
   ],
   "source": [
    "senai.TP_SITUACAO.value_counts()"
   ]
  },
  {
   "cell_type": "markdown",
   "metadata": {},
   "source": [
    "Entre as demais colunas, estão colunas descritivas da instituição, curso e aluno, e uma análise pode ser realizada para decidir quais atributos poderiam ser utilizados como características para o modelo. Entre as informações disponíveis estão a modalidade do curso, nacionalidade do aluno, informações sobre gênero, raça, modalidade de ingresso, entre outras informações.\n",
    "\n",
    "O arquivo \"Dicionаrio de Variаveis\" pode ser acessado para obter as descrições dos atributos presentes no CSV."
   ]
  },
  {
   "cell_type": "markdown",
   "metadata": {},
   "source": [
    "# PARTE DANIEL"
   ]
  },
  {
   "cell_type": "code",
   "execution_count": 10,
   "metadata": {},
   "outputs": [],
   "source": [
    "from sklearn.model_selection import train_test_split, GridSearchCV\n",
    "from sklearn import preprocessing\n",
    "from sklearn.tree import DecisionTreeClassifier\n",
    "from sklearn.neighbors import KNeighborsClassifier\n",
    "from sklearn.pipeline import Pipeline\n",
    "from sklearn.preprocessing import StandardScaler\n",
    "from sklearn.feature_selection import SelectKBest, chi2\n",
    "from sklearn.model_selection import KFold, cross_val_score\n",
    "from sklearn.linear_model import LinearRegression\n",
    "import numpy as np\n",
    "from sklearn.linear_model import SGDClassifier\n",
    "from sklearn.model_selection import StratifiedKFold"
   ]
  },
  {
   "cell_type": "code",
   "execution_count": 11,
   "metadata": {},
   "outputs": [],
   "source": [
    "X_1 = senai.loc[senai[\"TP_SITUACAO\"] == 1]\n",
    "X_0 = X = senai.loc[senai[\"TP_SITUACAO\"] == 0]\n",
    "X_1 = X_1[0:427]\n",
    "X = pd.concat([X_0,X_1])"
   ]
  },
  {
   "cell_type": "code",
   "execution_count": 12,
   "metadata": {},
   "outputs": [],
   "source": [
    "A = X[\"DT_INGRESSO_CURSO\"]\n",
    "X[\"DT_INGRESSO_CURSO\"] = A.iloc[:len(A)].str[3] + A.iloc[:len(A)].str[4] + A.iloc[:len(A)].str[5]\n",
    "\n",
    "le = preprocessing.LabelEncoder()\n",
    "X[\"NO_CURSO\"] = le.fit_transform(X[\"NO_CURSO\"])\n",
    "X[\"NO_IES\"] = le.fit_transform(X[\"NO_IES\"])\n",
    "X[\"DT_INGRESSO_CURSO\"] = le.fit_transform(X[\"DT_INGRESSO_CURSO\"])\n",
    "\n",
    "y = X[\"TP_SITUACAO\"]\n",
    "X = X.drop([\"NO_IES\", \"IN_CONCLUINTE\", \"TP_SITUACAO\", \"ID_ALUNO\"], axis = 1)"
   ]
  },
  {
   "cell_type": "code",
   "execution_count": 13,
   "metadata": {},
   "outputs": [
    {
     "data": {
      "text/html": [
       "<div>\n",
       "<style scoped>\n",
       "    .dataframe tbody tr th:only-of-type {\n",
       "        vertical-align: middle;\n",
       "    }\n",
       "\n",
       "    .dataframe tbody tr th {\n",
       "        vertical-align: top;\n",
       "    }\n",
       "\n",
       "    .dataframe thead th {\n",
       "        text-align: right;\n",
       "    }\n",
       "</style>\n",
       "<table border=\"1\" class=\"dataframe\">\n",
       "  <thead>\n",
       "    <tr style=\"text-align: right;\">\n",
       "      <th></th>\n",
       "      <th>CO_IES</th>\n",
       "      <th>CO_CURSO</th>\n",
       "      <th>NO_CURSO</th>\n",
       "      <th>TP_TURNO</th>\n",
       "      <th>TP_GRAU_ACADEMICO</th>\n",
       "      <th>TP_MODALIDADE_ENSINO</th>\n",
       "      <th>TP_COR_RACA</th>\n",
       "      <th>TP_SEXO</th>\n",
       "      <th>NU_IDADE</th>\n",
       "      <th>TP_NACIONALIDADE</th>\n",
       "      <th>IN_DEFICIENCIA</th>\n",
       "      <th>DT_INGRESSO_CURSO</th>\n",
       "      <th>IN_RESERVA_VAGAS</th>\n",
       "      <th>IN_FINANCIAMENTO_ESTUDANTIL</th>\n",
       "      <th>IN_APOIO_SOCIAL</th>\n",
       "      <th>IN_ATIVIDADE_EXTRACURRICULAR</th>\n",
       "      <th>TP_ESCOLA_CONCLUSAO_ENS_MEDIO</th>\n",
       "      <th>IN_MATRICULA</th>\n",
       "    </tr>\n",
       "  </thead>\n",
       "  <tbody>\n",
       "    <tr>\n",
       "      <th>0</th>\n",
       "      <td>1400</td>\n",
       "      <td>20516</td>\n",
       "      <td>0</td>\n",
       "      <td>3.0</td>\n",
       "      <td>1.0</td>\n",
       "      <td>1</td>\n",
       "      <td>1</td>\n",
       "      <td>1</td>\n",
       "      <td>30</td>\n",
       "      <td>1</td>\n",
       "      <td>0</td>\n",
       "      <td>1</td>\n",
       "      <td>0</td>\n",
       "      <td>0.0</td>\n",
       "      <td>0</td>\n",
       "      <td>0</td>\n",
       "      <td>1</td>\n",
       "      <td>0</td>\n",
       "    </tr>\n",
       "    <tr>\n",
       "      <th>4</th>\n",
       "      <td>1400</td>\n",
       "      <td>20516</td>\n",
       "      <td>0</td>\n",
       "      <td>3.0</td>\n",
       "      <td>1.0</td>\n",
       "      <td>1</td>\n",
       "      <td>0</td>\n",
       "      <td>1</td>\n",
       "      <td>31</td>\n",
       "      <td>1</td>\n",
       "      <td>0</td>\n",
       "      <td>0</td>\n",
       "      <td>0</td>\n",
       "      <td>0.0</td>\n",
       "      <td>0</td>\n",
       "      <td>0</td>\n",
       "      <td>1</td>\n",
       "      <td>0</td>\n",
       "    </tr>\n",
       "    <tr>\n",
       "      <th>10</th>\n",
       "      <td>1400</td>\n",
       "      <td>20516</td>\n",
       "      <td>0</td>\n",
       "      <td>3.0</td>\n",
       "      <td>1.0</td>\n",
       "      <td>1</td>\n",
       "      <td>0</td>\n",
       "      <td>2</td>\n",
       "      <td>29</td>\n",
       "      <td>1</td>\n",
       "      <td>0</td>\n",
       "      <td>1</td>\n",
       "      <td>0</td>\n",
       "      <td>0.0</td>\n",
       "      <td>0</td>\n",
       "      <td>0</td>\n",
       "      <td>2</td>\n",
       "      <td>0</td>\n",
       "    </tr>\n",
       "    <tr>\n",
       "      <th>11</th>\n",
       "      <td>1400</td>\n",
       "      <td>20516</td>\n",
       "      <td>0</td>\n",
       "      <td>3.0</td>\n",
       "      <td>1.0</td>\n",
       "      <td>1</td>\n",
       "      <td>1</td>\n",
       "      <td>1</td>\n",
       "      <td>37</td>\n",
       "      <td>1</td>\n",
       "      <td>0</td>\n",
       "      <td>1</td>\n",
       "      <td>0</td>\n",
       "      <td>0.0</td>\n",
       "      <td>0</td>\n",
       "      <td>0</td>\n",
       "      <td>9</td>\n",
       "      <td>0</td>\n",
       "    </tr>\n",
       "    <tr>\n",
       "      <th>14</th>\n",
       "      <td>1400</td>\n",
       "      <td>20516</td>\n",
       "      <td>0</td>\n",
       "      <td>3.0</td>\n",
       "      <td>1.0</td>\n",
       "      <td>1</td>\n",
       "      <td>1</td>\n",
       "      <td>1</td>\n",
       "      <td>29</td>\n",
       "      <td>1</td>\n",
       "      <td>0</td>\n",
       "      <td>0</td>\n",
       "      <td>0</td>\n",
       "      <td>0.0</td>\n",
       "      <td>0</td>\n",
       "      <td>0</td>\n",
       "      <td>1</td>\n",
       "      <td>0</td>\n",
       "    </tr>\n",
       "  </tbody>\n",
       "</table>\n",
       "</div>"
      ],
      "text/plain": [
       "    CO_IES  CO_CURSO  NO_CURSO  TP_TURNO  TP_GRAU_ACADEMICO  \\\n",
       "0     1400     20516         0       3.0                1.0   \n",
       "4     1400     20516         0       3.0                1.0   \n",
       "10    1400     20516         0       3.0                1.0   \n",
       "11    1400     20516         0       3.0                1.0   \n",
       "14    1400     20516         0       3.0                1.0   \n",
       "\n",
       "    TP_MODALIDADE_ENSINO  TP_COR_RACA  TP_SEXO  NU_IDADE  TP_NACIONALIDADE  \\\n",
       "0                      1            1        1        30                 1   \n",
       "4                      1            0        1        31                 1   \n",
       "10                     1            0        2        29                 1   \n",
       "11                     1            1        1        37                 1   \n",
       "14                     1            1        1        29                 1   \n",
       "\n",
       "    IN_DEFICIENCIA  DT_INGRESSO_CURSO  IN_RESERVA_VAGAS  \\\n",
       "0                0                  1                 0   \n",
       "4                0                  0                 0   \n",
       "10               0                  1                 0   \n",
       "11               0                  1                 0   \n",
       "14               0                  0                 0   \n",
       "\n",
       "    IN_FINANCIAMENTO_ESTUDANTIL  IN_APOIO_SOCIAL  \\\n",
       "0                           0.0                0   \n",
       "4                           0.0                0   \n",
       "10                          0.0                0   \n",
       "11                          0.0                0   \n",
       "14                          0.0                0   \n",
       "\n",
       "    IN_ATIVIDADE_EXTRACURRICULAR  TP_ESCOLA_CONCLUSAO_ENS_MEDIO  IN_MATRICULA  \n",
       "0                              0                              1             0  \n",
       "4                              0                              1             0  \n",
       "10                             0                              2             0  \n",
       "11                             0                              9             0  \n",
       "14                             0                              1             0  "
      ]
     },
     "execution_count": 13,
     "metadata": {},
     "output_type": "execute_result"
    }
   ],
   "source": [
    "X.head()"
   ]
  },
  {
   "cell_type": "code",
   "execution_count": 14,
   "metadata": {},
   "outputs": [],
   "source": [
    "#SELECIONANDO AS MELHORES FEATURES\n",
    "X2 = SelectKBest(chi2, k=5).fit_transform(X,y)"
   ]
  },
  {
   "cell_type": "code",
   "execution_count": 15,
   "metadata": {},
   "outputs": [],
   "source": [
    "#SPLIT DADOS\n",
    "X_train, X_test, y_train, y_test = train_test_split(X2, y, test_size = 0.2)"
   ]
  },
  {
   "cell_type": "code",
   "execution_count": 16,
   "metadata": {},
   "outputs": [
    {
     "name": "stdout",
     "output_type": "stream",
     "text": [
      "Acuracia: 88.30%\n"
     ]
    }
   ],
   "source": [
    "#SEM CROSS VALIDATION\n",
    "model = SGDClassifier()\n",
    "model.fit(X_train, y_train)\n",
    "y_pred = model.predict(X_test)\n",
    "print(\"Acuracia: %.2f%%\" % (model.score(X_test, y_test)*100.0)) "
   ]
  },
  {
   "cell_type": "code",
   "execution_count": 17,
   "metadata": {},
   "outputs": [
    {
     "name": "stdout",
     "output_type": "stream",
     "text": [
      "scores:  [0.86956522 0.86956522 0.89855072 0.91176471 0.82352941 0.91176471\n",
      " 0.80882353 0.88235294 0.47058824 0.86764706]\n",
      "Acuracia: 83.14%\n"
     ]
    }
   ],
   "source": [
    "#COM CROSS VALIDATION GRADIENTE DESCENDENTE\n",
    "kFold = KFold(n_splits = 10, random_state = 100)\n",
    "model = SGDClassifier()\n",
    "resultKFold = cross_val_score(model, X_train, y_train, cv = kFold)\n",
    "\n",
    "print(\"scores: \", resultKFold) \n",
    "\n",
    "print(\"Acuracia: %.2f%%\" % (resultKFold.mean() * 100.0)) "
   ]
  },
  {
   "cell_type": "code",
   "execution_count": 18,
   "metadata": {},
   "outputs": [
    {
     "name": "stdout",
     "output_type": "stream",
     "text": [
      "scores:  [0.89855072 0.88405797 0.92753623 0.95588235 0.88235294 0.89705882\n",
      " 0.83823529 0.94117647 0.92647059 0.92647059]\n",
      "Acuracia: 90.78%\n"
     ]
    }
   ],
   "source": [
    "#COM CROSS VALIDATION KNN\n",
    "kFold = KFold(n_splits = 10, random_state = 100)\n",
    "model = KNeighborsClassifier()\n",
    "resultKFold = cross_val_score(model, X_train, y_train, cv = kFold)\n",
    "\n",
    "print(\"scores: \", resultKFold) \n",
    "\n",
    "print(\"Acuracia: %.2f%%\" % (resultKFold.mean() * 100.0)) "
   ]
  },
  {
   "cell_type": "code",
   "execution_count": 19,
   "metadata": {},
   "outputs": [
    {
     "name": "stdout",
     "output_type": "stream",
     "text": [
      "scores:  [0.89855072 0.88405797 0.95652174 0.95588235 0.88235294 0.95588235\n",
      " 0.83823529 0.94117647 0.92647059 0.92647059]\n",
      "Acuracia: 91.66%\n"
     ]
    }
   ],
   "source": [
    "#COM CROSS VALIDATION DECISIONTREE\n",
    "kFold = KFold(n_splits = 10, random_state = 100)\n",
    "model = DecisionTreeClassifier()\n",
    "resultKFold = cross_val_score(model, X_train, y_train, cv = kFold)\n",
    "\n",
    "print(\"scores: \", resultKFold) \n",
    "\n",
    "print(\"Acuracia: %.2f%%\" % (resultKFold.mean() * 100.0)) "
   ]
  },
  {
   "cell_type": "code",
   "execution_count": 20,
   "metadata": {},
   "outputs": [
    {
     "name": "stdout",
     "output_type": "stream",
     "text": [
      "scores:  [0.75494043 0.6689127  0.78087122 0.81798765 0.68694982 0.74451575\n",
      " 0.62351699 0.73342161 0.78680183 0.78476422]\n",
      "Acuracia: 73.83%\n"
     ]
    }
   ],
   "source": [
    "#COM CROSS VALIDATION LINEAR REGRESSION\n",
    "kFold = KFold(n_splits = 10, random_state = 100)\n",
    "model = LinearRegression()\n",
    "resultKFold = cross_val_score(model, X_train, y_train, cv = kFold)\n",
    "\n",
    "print(\"scores: \", resultKFold) \n",
    "\n",
    "print(\"Acuracia: %.2f%%\" % (resultKFold.mean() * 100.0)) "
   ]
  },
  {
   "cell_type": "code",
   "execution_count": 21,
   "metadata": {},
   "outputs": [
    {
     "name": "stdout",
     "output_type": "stream",
     "text": [
      "scores:  [0.49275362 0.86956522 0.94202899 0.88405797 0.85507246 0.83823529\n",
      " 0.48529412 0.88235294 0.86567164 0.86567164]\n",
      "Acuracia: 79.81%\n"
     ]
    }
   ],
   "source": [
    "# ESTRATIFICACAO CROSS VALIDATION GRADIENTE DESCENDENTE\n",
    "kFold = StratifiedKFold(n_splits = 10, random_state = 100)\n",
    "model = SGDClassifier()\n",
    "resultKFold = cross_val_score(model, X_train, y_train, cv = kFold)\n",
    "\n",
    "print(\"scores: \", resultKFold) \n",
    "\n",
    "print(\"Acuracia: %.2f%%\" % (resultKFold.mean() * 100.0)) "
   ]
  },
  {
   "cell_type": "code",
   "execution_count": 22,
   "metadata": {},
   "outputs": [
    {
     "name": "stdout",
     "output_type": "stream",
     "text": [
      "scores:  [0.86956522 0.86956522 0.97101449 0.94202899 0.92753623 0.92647059\n",
      " 0.83823529 0.94117647 0.92537313 0.92537313]\n",
      "Acuracia: 91.36%\n"
     ]
    }
   ],
   "source": [
    "# ESTRATIFICACAO CROSS VALIDATION KNN\n",
    "kFold = StratifiedKFold(n_splits = 10, random_state = 100)\n",
    "model = KNeighborsClassifier()\n",
    "resultKFold = cross_val_score(model, X_train, y_train, cv = kFold)\n",
    "\n",
    "print(\"scores: \", resultKFold) \n",
    "\n",
    "print(\"Acuracia: %.2f%%\" % (resultKFold.mean() * 100.0)) "
   ]
  },
  {
   "cell_type": "code",
   "execution_count": 23,
   "metadata": {},
   "outputs": [
    {
     "name": "stdout",
     "output_type": "stream",
     "text": [
      "scores:  [0.89855072 0.86956522 0.97101449 0.94202899 0.92753623 0.92647059\n",
      " 0.83823529 0.94117647 0.92537313 0.92537313]\n",
      "Acuracia: 91.65%\n"
     ]
    }
   ],
   "source": [
    "# ESTRATIFICACAO CROSS VALIDATION DECISIONTREE\n",
    "kFold = StratifiedKFold(n_splits = 10, random_state = 100)\n",
    "model = DecisionTreeClassifier()\n",
    "resultKFold = cross_val_score(model, X_train, y_train, cv = kFold)\n",
    "\n",
    "print(\"scores: \", resultKFold) \n",
    "\n",
    "print(\"Acuracia: %.2f%%\" % (resultKFold.mean() * 100.0)) "
   ]
  },
  {
   "cell_type": "code",
   "execution_count": 24,
   "metadata": {},
   "outputs": [
    {
     "name": "stdout",
     "output_type": "stream",
     "text": [
      "scores:  [0.75291162 0.65347123 0.79467702 0.81628105 0.77517519 0.69135957\n",
      " 0.62553732 0.73754128 0.79539202 0.7768675 ]\n",
      "Acuracia: 74.19%\n"
     ]
    }
   ],
   "source": [
    "# ESTRATIFICACAO CROSS VALIDATION LINEARREGRESSION\n",
    "kFold = StratifiedKFold(n_splits = 10, random_state = 100)\n",
    "model = LinearRegression()\n",
    "resultKFold = cross_val_score(model, X_train, y_train, cv = kFold)\n",
    "\n",
    "print(\"scores: \", resultKFold) \n",
    "\n",
    "print(\"Acuracia: %.2f%%\" % (resultKFold.mean() * 100.0)) "
   ]
  },
  {
   "cell_type": "markdown",
   "metadata": {},
   "source": [
    "# PIPELINE"
   ]
  },
  {
   "cell_type": "code",
   "execution_count": 25,
   "metadata": {},
   "outputs": [
    {
     "name": "stderr",
     "output_type": "stream",
     "text": [
      "/home/donghi/anaconda3/envs/ambDanielFiep/lib/python3.7/site-packages/sklearn/model_selection/_split.py:1978: FutureWarning: The default value of cv will change from 3 to 5 in version 0.22. Specify it explicitly to silence this warning.\n",
      "  warnings.warn(CV_WARNING, FutureWarning)\n"
     ]
    },
    {
     "name": "stdout",
     "output_type": "stream",
     "text": [
      "Best accuracy: 0.917\n",
      "\n",
      "Best params:\n",
      " {'clf__criterion': 'gini', 'clf__max_depth': 3, 'clf__min_samples_leaf': 1, 'clf__min_samples_split': 2}\n"
     ]
    }
   ],
   "source": [
    "#modelKNN = Pipeline([('scl', StandardScaler()), ('clf', KNeighborsClassifier())])\n",
    "modelDT = Pipeline([('scl', StandardScaler()), ('clf', DecisionTreeClassifier())])\n",
    "\n",
    "rangeParam = [1, 2, 3, 4, 5]\n",
    "\n",
    "paramGrid = [{'clf__criterion': ['gini', 'entropy'],\n",
    "    'clf__min_samples_leaf': rangeParam,\n",
    "    'clf__max_depth': rangeParam,\n",
    "    'clf__min_samples_split': rangeParam[1:]}]\n",
    "\n",
    "# Construct grid search\n",
    "gs = GridSearchCV(estimator = modelDT, param_grid = paramGrid, scoring = 'accuracy')\n",
    "\n",
    "# Fit using grid search\n",
    "gs.fit(X_train, y_train)\n",
    "\n",
    "# Best accuracy\n",
    "print('Best accuracy: %.3f' % gs.best_score_)\n",
    "\n",
    "# Best params\n",
    "print('\\nBest params:\\n', gs.best_params_)"
   ]
  },
  {
   "cell_type": "markdown",
   "metadata": {},
   "source": [
    "## AutoML"
   ]
  },
  {
   "cell_type": "code",
   "execution_count": null,
   "metadata": {},
   "outputs": [],
   "source": [
    "import autosklearn.classification\n",
    "\n",
    "automl = autosklearn.classification.AutoSklearnClassifier()\n",
    "automl.fit(X_train, y_train)\n",
    "y_hat = automl.predict(X_test)\n",
    "print(\"Accuracy score\", sklearn.metrics.accuracy_score(y_test, y_hat))"
   ]
  }
 ],
 "metadata": {
  "kernelspec": {
   "display_name": "Python [conda env:ambDanielFiep] *",
   "language": "python",
   "name": "conda-env-ambDanielFiep-py"
  },
  "language_info": {
   "codemirror_mode": {
    "name": "ipython",
    "version": 3
   },
   "file_extension": ".py",
   "mimetype": "text/x-python",
   "name": "python",
   "nbconvert_exporter": "python",
   "pygments_lexer": "ipython3",
   "version": "3.7.4"
  }
 },
 "nbformat": 4,
 "nbformat_minor": 4
}
