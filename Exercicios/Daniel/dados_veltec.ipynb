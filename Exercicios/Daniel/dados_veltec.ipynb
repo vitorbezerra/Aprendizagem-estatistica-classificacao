{
 "cells": [
  {
   "cell_type": "markdown",
   "metadata": {},
   "source": [
    "# Veltec - Rank dos motoristas\n",
    "## Explicação do arquivo CSV\n",
    "---"
   ]
  },
  {
   "cell_type": "markdown",
   "metadata": {},
   "source": [
    "Este arquivo CSV está relacionado a demanda da Veltec: Perfil do motorista.\n",
    "\n",
    "O objetivo deste trabalho era classificar os motoristas em perfis de direção defensiva, ofensiva e econômica. Assim, dados os eventos registrados para este motorista durante uma viagem, tais como eventos de excesso de velocidade, aceleração brusca, frenagem bruca e outros, nosso algoritmo deveria classificar os motoristas nestes diferentes perfis. **Nesta primeira sprint, o score obtido refere-se somente ao quesito segurança**.\n",
    "\n",
    "Definido isso, um primeiro passo para a classificação do motorista foi elaborar um método de cálculo de score. Este cálculo de score envolve diversas equações que resultam em uma pontuação para os motoristas em diferentes quesitos. Por fim, um score geral é calculado a partir dessas pontuações. Com o score geral, os motoristas foram divididos em diferentes faixas de pontuação (ranks).\n",
    "\n",
    "São dois os CSVs apresentados neste notebook:\n",
    "\n",
    "* vigencias_scores.csv: uma vigência seria um trajeto realizado por um motorista, seja uma viagem longa ou um trajeto mais curto. Este CSV apresenta todas as vigências e os respectivos eventos ocorridos, assim como os scores e ranks calculados para cada vigência.\n",
    "* drivers_medias.csv: este CSV apresenta a média do score de cada motorista, assim como o rank médio resultante. Além disso, há a soma resultante de todas as vigências neste motorista no período.\n",
    "\n",
    "Os arquivos são bastante similares, porém verifica-se que a distribuição dos scores se altera quando a média de cada motorista é obtida.\n",
    "\n",
    "No arquivo em PDF \"Descrição das tabelas - Veltec\" há uma explicação sobre cada um dos atributos presentes na tabela. O dataset deste notebook foi retirado da tabela \"vigencias_consolidadas.csv\", assim a descrição dos atributos estará presente na seção \"Consolidado\" no dicionário.\n",
    "\n",
    "---"
   ]
  },
  {
   "cell_type": "code",
   "execution_count": 1,
   "metadata": {},
   "outputs": [],
   "source": [
    "import pandas as pd"
   ]
  },
  {
   "cell_type": "code",
   "execution_count": 2,
   "metadata": {},
   "outputs": [],
   "source": [
    "vigencias = pd.read_csv('vigencias_scores.csv')\n",
    "medias = pd.read_csv('drivers_medias.csv')"
   ]
  },
  {
   "cell_type": "code",
   "execution_count": 3,
   "metadata": {},
   "outputs": [
    {
     "name": "stdout",
     "output_type": "stream",
     "text": [
      "Dimensões do dataframe das vigências:\n",
      "(12642, 27)\n",
      "Dimensões do dataframe das médias:\n",
      "(676, 24)\n"
     ]
    }
   ],
   "source": [
    "print('Dimensões do dataframe das vigências:')\n",
    "print(vigencias.shape)\n",
    "print('Dimensões do dataframe das médias:')\n",
    "print(medias.shape)"
   ]
  },
  {
   "cell_type": "code",
   "execution_count": 4,
   "metadata": {},
   "outputs": [
    {
     "data": {
      "text/html": [
       "<div>\n",
       "<style scoped>\n",
       "    .dataframe tbody tr th:only-of-type {\n",
       "        vertical-align: middle;\n",
       "    }\n",
       "\n",
       "    .dataframe tbody tr th {\n",
       "        vertical-align: top;\n",
       "    }\n",
       "\n",
       "    .dataframe thead th {\n",
       "        text-align: right;\n",
       "    }\n",
       "</style>\n",
       "<table border=\"1\" class=\"dataframe\">\n",
       "  <thead>\n",
       "    <tr style=\"text-align: right;\">\n",
       "      <th></th>\n",
       "      <th>id_vei</th>\n",
       "      <th>id_uo_vei</th>\n",
       "      <th>id_motorista</th>\n",
       "      <th>id_uo_motorista</th>\n",
       "      <th>distancia_percorrida_km</th>\n",
       "      <th>qtd_banguela</th>\n",
       "      <th>qtd_curvas</th>\n",
       "      <th>qtd_aceleracoes</th>\n",
       "      <th>qtd_frenagens</th>\n",
       "      <th>qtd_vel_faixa_1</th>\n",
       "      <th>...</th>\n",
       "      <th>qtd_vel_via_faixa_3</th>\n",
       "      <th>tempo_vel_via_faixa_1</th>\n",
       "      <th>tempo_vel_via_faixa_2</th>\n",
       "      <th>tempo_vel_via_faixa_3</th>\n",
       "      <th>qtd_manuseio_celular</th>\n",
       "      <th>qtd_fadiga_motorista</th>\n",
       "      <th>qtd_distracao_motorista</th>\n",
       "      <th>qtd_uso_cigarro</th>\n",
       "      <th>score_geral</th>\n",
       "      <th>rank</th>\n",
       "    </tr>\n",
       "  </thead>\n",
       "  <tbody>\n",
       "    <tr>\n",
       "      <th>0</th>\n",
       "      <td>66486</td>\n",
       "      <td>2855</td>\n",
       "      <td>636779.0</td>\n",
       "      <td>2950.0</td>\n",
       "      <td>234.420</td>\n",
       "      <td>0.0</td>\n",
       "      <td>0.0</td>\n",
       "      <td>0.0</td>\n",
       "      <td>0.0</td>\n",
       "      <td>0.0</td>\n",
       "      <td>...</td>\n",
       "      <td>1.0</td>\n",
       "      <td>208.0</td>\n",
       "      <td>0.0</td>\n",
       "      <td>1456.0</td>\n",
       "      <td>0.0</td>\n",
       "      <td>0.0</td>\n",
       "      <td>0.0</td>\n",
       "      <td>0.0</td>\n",
       "      <td>50.000000</td>\n",
       "      <td>ruim</td>\n",
       "    </tr>\n",
       "    <tr>\n",
       "      <th>1</th>\n",
       "      <td>8155</td>\n",
       "      <td>3321</td>\n",
       "      <td>636786.0</td>\n",
       "      <td>2950.0</td>\n",
       "      <td>114.083</td>\n",
       "      <td>0.0</td>\n",
       "      <td>0.0</td>\n",
       "      <td>0.0</td>\n",
       "      <td>4.0</td>\n",
       "      <td>0.0</td>\n",
       "      <td>...</td>\n",
       "      <td>0.0</td>\n",
       "      <td>0.0</td>\n",
       "      <td>0.0</td>\n",
       "      <td>0.0</td>\n",
       "      <td>0.0</td>\n",
       "      <td>0.0</td>\n",
       "      <td>0.0</td>\n",
       "      <td>0.0</td>\n",
       "      <td>78.962685</td>\n",
       "      <td>regular</td>\n",
       "    </tr>\n",
       "    <tr>\n",
       "      <th>2</th>\n",
       "      <td>8577</td>\n",
       "      <td>3327</td>\n",
       "      <td>636592.0</td>\n",
       "      <td>2950.0</td>\n",
       "      <td>183.725</td>\n",
       "      <td>0.0</td>\n",
       "      <td>0.0</td>\n",
       "      <td>0.0</td>\n",
       "      <td>0.0</td>\n",
       "      <td>0.0</td>\n",
       "      <td>...</td>\n",
       "      <td>0.0</td>\n",
       "      <td>0.0</td>\n",
       "      <td>0.0</td>\n",
       "      <td>0.0</td>\n",
       "      <td>0.0</td>\n",
       "      <td>0.0</td>\n",
       "      <td>0.0</td>\n",
       "      <td>0.0</td>\n",
       "      <td>100.000000</td>\n",
       "      <td>otimo</td>\n",
       "    </tr>\n",
       "    <tr>\n",
       "      <th>3</th>\n",
       "      <td>7665</td>\n",
       "      <td>3581</td>\n",
       "      <td>636644.0</td>\n",
       "      <td>2950.0</td>\n",
       "      <td>702.525</td>\n",
       "      <td>0.0</td>\n",
       "      <td>0.0</td>\n",
       "      <td>0.0</td>\n",
       "      <td>3.0</td>\n",
       "      <td>0.0</td>\n",
       "      <td>...</td>\n",
       "      <td>1.0</td>\n",
       "      <td>0.0</td>\n",
       "      <td>0.0</td>\n",
       "      <td>0.0</td>\n",
       "      <td>0.0</td>\n",
       "      <td>0.0</td>\n",
       "      <td>0.0</td>\n",
       "      <td>0.0</td>\n",
       "      <td>97.437814</td>\n",
       "      <td>otimo</td>\n",
       "    </tr>\n",
       "    <tr>\n",
       "      <th>4</th>\n",
       "      <td>8427</td>\n",
       "      <td>2868</td>\n",
       "      <td>636989.0</td>\n",
       "      <td>2950.0</td>\n",
       "      <td>175.290</td>\n",
       "      <td>0.0</td>\n",
       "      <td>0.0</td>\n",
       "      <td>1.0</td>\n",
       "      <td>3.0</td>\n",
       "      <td>0.0</td>\n",
       "      <td>...</td>\n",
       "      <td>1.0</td>\n",
       "      <td>0.0</td>\n",
       "      <td>0.0</td>\n",
       "      <td>0.0</td>\n",
       "      <td>0.0</td>\n",
       "      <td>0.0</td>\n",
       "      <td>0.0</td>\n",
       "      <td>0.0</td>\n",
       "      <td>86.308403</td>\n",
       "      <td>bom</td>\n",
       "    </tr>\n",
       "  </tbody>\n",
       "</table>\n",
       "<p>5 rows × 27 columns</p>\n",
       "</div>"
      ],
      "text/plain": [
       "   id_vei  id_uo_vei  id_motorista  id_uo_motorista  distancia_percorrida_km  \\\n",
       "0   66486       2855      636779.0           2950.0                  234.420   \n",
       "1    8155       3321      636786.0           2950.0                  114.083   \n",
       "2    8577       3327      636592.0           2950.0                  183.725   \n",
       "3    7665       3581      636644.0           2950.0                  702.525   \n",
       "4    8427       2868      636989.0           2950.0                  175.290   \n",
       "\n",
       "   qtd_banguela  qtd_curvas  qtd_aceleracoes  qtd_frenagens  qtd_vel_faixa_1  \\\n",
       "0           0.0         0.0              0.0            0.0              0.0   \n",
       "1           0.0         0.0              0.0            4.0              0.0   \n",
       "2           0.0         0.0              0.0            0.0              0.0   \n",
       "3           0.0         0.0              0.0            3.0              0.0   \n",
       "4           0.0         0.0              1.0            3.0              0.0   \n",
       "\n",
       "   ...  qtd_vel_via_faixa_3  tempo_vel_via_faixa_1  tempo_vel_via_faixa_2  \\\n",
       "0  ...                  1.0                  208.0                    0.0   \n",
       "1  ...                  0.0                    0.0                    0.0   \n",
       "2  ...                  0.0                    0.0                    0.0   \n",
       "3  ...                  1.0                    0.0                    0.0   \n",
       "4  ...                  1.0                    0.0                    0.0   \n",
       "\n",
       "   tempo_vel_via_faixa_3  qtd_manuseio_celular  qtd_fadiga_motorista  \\\n",
       "0                 1456.0                   0.0                   0.0   \n",
       "1                    0.0                   0.0                   0.0   \n",
       "2                    0.0                   0.0                   0.0   \n",
       "3                    0.0                   0.0                   0.0   \n",
       "4                    0.0                   0.0                   0.0   \n",
       "\n",
       "   qtd_distracao_motorista  qtd_uso_cigarro  score_geral     rank  \n",
       "0                      0.0              0.0    50.000000     ruim  \n",
       "1                      0.0              0.0    78.962685  regular  \n",
       "2                      0.0              0.0   100.000000    otimo  \n",
       "3                      0.0              0.0    97.437814    otimo  \n",
       "4                      0.0              0.0    86.308403      bom  \n",
       "\n",
       "[5 rows x 27 columns]"
      ]
     },
     "execution_count": 4,
     "metadata": {},
     "output_type": "execute_result"
    }
   ],
   "source": [
    "vigencias.head()"
   ]
  },
  {
   "cell_type": "code",
   "execution_count": 5,
   "metadata": {},
   "outputs": [
    {
     "data": {
      "text/html": [
       "<div>\n",
       "<style scoped>\n",
       "    .dataframe tbody tr th:only-of-type {\n",
       "        vertical-align: middle;\n",
       "    }\n",
       "\n",
       "    .dataframe tbody tr th {\n",
       "        vertical-align: top;\n",
       "    }\n",
       "\n",
       "    .dataframe thead th {\n",
       "        text-align: right;\n",
       "    }\n",
       "</style>\n",
       "<table border=\"1\" class=\"dataframe\">\n",
       "  <thead>\n",
       "    <tr style=\"text-align: right;\">\n",
       "      <th></th>\n",
       "      <th>id_motorista</th>\n",
       "      <th>distancia_percorrida_km</th>\n",
       "      <th>qtd_banguela</th>\n",
       "      <th>qtd_curvas</th>\n",
       "      <th>qtd_aceleracoes</th>\n",
       "      <th>qtd_frenagens</th>\n",
       "      <th>qtd_vel_faixa_1</th>\n",
       "      <th>qtd_vel_faixa_2</th>\n",
       "      <th>qtd_vel_faixa_3</th>\n",
       "      <th>tempo_vel_faixa_1</th>\n",
       "      <th>...</th>\n",
       "      <th>qtd_vel_via_faixa_3</th>\n",
       "      <th>tempo_vel_via_faixa_1</th>\n",
       "      <th>tempo_vel_via_faixa_2</th>\n",
       "      <th>tempo_vel_via_faixa_3</th>\n",
       "      <th>qtd_manuseio_celular</th>\n",
       "      <th>qtd_fadiga_motorista</th>\n",
       "      <th>qtd_distracao_motorista</th>\n",
       "      <th>qtd_uso_cigarro</th>\n",
       "      <th>score_geral</th>\n",
       "      <th>rank</th>\n",
       "    </tr>\n",
       "  </thead>\n",
       "  <tbody>\n",
       "    <tr>\n",
       "      <th>0</th>\n",
       "      <td>380254.0</td>\n",
       "      <td>715.996</td>\n",
       "      <td>1.0</td>\n",
       "      <td>0.0</td>\n",
       "      <td>0.0</td>\n",
       "      <td>0.0</td>\n",
       "      <td>0.0</td>\n",
       "      <td>0.0</td>\n",
       "      <td>0.0</td>\n",
       "      <td>0.0</td>\n",
       "      <td>...</td>\n",
       "      <td>5.0</td>\n",
       "      <td>0.0</td>\n",
       "      <td>1030.0</td>\n",
       "      <td>3848.0</td>\n",
       "      <td>0.0</td>\n",
       "      <td>0.0</td>\n",
       "      <td>0.0</td>\n",
       "      <td>0.0</td>\n",
       "      <td>74.987698</td>\n",
       "      <td>regular</td>\n",
       "    </tr>\n",
       "    <tr>\n",
       "      <th>1</th>\n",
       "      <td>394805.0</td>\n",
       "      <td>1455.529</td>\n",
       "      <td>0.0</td>\n",
       "      <td>0.0</td>\n",
       "      <td>0.0</td>\n",
       "      <td>0.0</td>\n",
       "      <td>0.0</td>\n",
       "      <td>0.0</td>\n",
       "      <td>0.0</td>\n",
       "      <td>0.0</td>\n",
       "      <td>...</td>\n",
       "      <td>0.0</td>\n",
       "      <td>0.0</td>\n",
       "      <td>0.0</td>\n",
       "      <td>0.0</td>\n",
       "      <td>0.0</td>\n",
       "      <td>0.0</td>\n",
       "      <td>0.0</td>\n",
       "      <td>0.0</td>\n",
       "      <td>100.000000</td>\n",
       "      <td>otimo</td>\n",
       "    </tr>\n",
       "    <tr>\n",
       "      <th>2</th>\n",
       "      <td>394806.0</td>\n",
       "      <td>2081.978</td>\n",
       "      <td>2.0</td>\n",
       "      <td>0.0</td>\n",
       "      <td>0.0</td>\n",
       "      <td>0.0</td>\n",
       "      <td>0.0</td>\n",
       "      <td>0.0</td>\n",
       "      <td>0.0</td>\n",
       "      <td>0.0</td>\n",
       "      <td>...</td>\n",
       "      <td>0.0</td>\n",
       "      <td>0.0</td>\n",
       "      <td>0.0</td>\n",
       "      <td>0.0</td>\n",
       "      <td>0.0</td>\n",
       "      <td>0.0</td>\n",
       "      <td>0.0</td>\n",
       "      <td>0.0</td>\n",
       "      <td>99.977357</td>\n",
       "      <td>otimo</td>\n",
       "    </tr>\n",
       "    <tr>\n",
       "      <th>3</th>\n",
       "      <td>394807.0</td>\n",
       "      <td>3210.916</td>\n",
       "      <td>0.0</td>\n",
       "      <td>0.0</td>\n",
       "      <td>0.0</td>\n",
       "      <td>0.0</td>\n",
       "      <td>0.0</td>\n",
       "      <td>1.0</td>\n",
       "      <td>0.0</td>\n",
       "      <td>0.0</td>\n",
       "      <td>...</td>\n",
       "      <td>0.0</td>\n",
       "      <td>0.0</td>\n",
       "      <td>0.0</td>\n",
       "      <td>0.0</td>\n",
       "      <td>0.0</td>\n",
       "      <td>0.0</td>\n",
       "      <td>0.0</td>\n",
       "      <td>0.0</td>\n",
       "      <td>99.974232</td>\n",
       "      <td>otimo</td>\n",
       "    </tr>\n",
       "    <tr>\n",
       "      <th>4</th>\n",
       "      <td>394808.0</td>\n",
       "      <td>2617.744</td>\n",
       "      <td>0.0</td>\n",
       "      <td>0.0</td>\n",
       "      <td>0.0</td>\n",
       "      <td>0.0</td>\n",
       "      <td>0.0</td>\n",
       "      <td>0.0</td>\n",
       "      <td>0.0</td>\n",
       "      <td>0.0</td>\n",
       "      <td>...</td>\n",
       "      <td>0.0</td>\n",
       "      <td>0.0</td>\n",
       "      <td>0.0</td>\n",
       "      <td>0.0</td>\n",
       "      <td>0.0</td>\n",
       "      <td>0.0</td>\n",
       "      <td>0.0</td>\n",
       "      <td>0.0</td>\n",
       "      <td>100.000000</td>\n",
       "      <td>otimo</td>\n",
       "    </tr>\n",
       "  </tbody>\n",
       "</table>\n",
       "<p>5 rows × 24 columns</p>\n",
       "</div>"
      ],
      "text/plain": [
       "   id_motorista  distancia_percorrida_km  qtd_banguela  qtd_curvas  \\\n",
       "0      380254.0                  715.996           1.0         0.0   \n",
       "1      394805.0                 1455.529           0.0         0.0   \n",
       "2      394806.0                 2081.978           2.0         0.0   \n",
       "3      394807.0                 3210.916           0.0         0.0   \n",
       "4      394808.0                 2617.744           0.0         0.0   \n",
       "\n",
       "   qtd_aceleracoes  qtd_frenagens  qtd_vel_faixa_1  qtd_vel_faixa_2  \\\n",
       "0              0.0            0.0              0.0              0.0   \n",
       "1              0.0            0.0              0.0              0.0   \n",
       "2              0.0            0.0              0.0              0.0   \n",
       "3              0.0            0.0              0.0              1.0   \n",
       "4              0.0            0.0              0.0              0.0   \n",
       "\n",
       "   qtd_vel_faixa_3  tempo_vel_faixa_1  ...  qtd_vel_via_faixa_3  \\\n",
       "0              0.0                0.0  ...                  5.0   \n",
       "1              0.0                0.0  ...                  0.0   \n",
       "2              0.0                0.0  ...                  0.0   \n",
       "3              0.0                0.0  ...                  0.0   \n",
       "4              0.0                0.0  ...                  0.0   \n",
       "\n",
       "   tempo_vel_via_faixa_1  tempo_vel_via_faixa_2  tempo_vel_via_faixa_3  \\\n",
       "0                    0.0                 1030.0                 3848.0   \n",
       "1                    0.0                    0.0                    0.0   \n",
       "2                    0.0                    0.0                    0.0   \n",
       "3                    0.0                    0.0                    0.0   \n",
       "4                    0.0                    0.0                    0.0   \n",
       "\n",
       "   qtd_manuseio_celular  qtd_fadiga_motorista  qtd_distracao_motorista  \\\n",
       "0                   0.0                   0.0                      0.0   \n",
       "1                   0.0                   0.0                      0.0   \n",
       "2                   0.0                   0.0                      0.0   \n",
       "3                   0.0                   0.0                      0.0   \n",
       "4                   0.0                   0.0                      0.0   \n",
       "\n",
       "   qtd_uso_cigarro  score_geral     rank  \n",
       "0              0.0    74.987698  regular  \n",
       "1              0.0   100.000000    otimo  \n",
       "2              0.0    99.977357    otimo  \n",
       "3              0.0    99.974232    otimo  \n",
       "4              0.0   100.000000    otimo  \n",
       "\n",
       "[5 rows x 24 columns]"
      ]
     },
     "execution_count": 5,
     "metadata": {},
     "output_type": "execute_result"
    }
   ],
   "source": [
    "medias.head()"
   ]
  },
  {
   "cell_type": "markdown",
   "metadata": {},
   "source": [
    "As colunas que váo de \"id_vei\" até a coluna \"id_uo_motorista\" são descritivas em relação ao motorista e a unidade operacional (uo).\n",
    "\n",
    "O conjunto de colunas que abrangem desde \"distancia_percorrida_km\" até a coluna \"qtd_uso_cigarro\" são eventos que ocorreram durante uma vigência (uma viagem, por exemplo) de um motorista.\n",
    "\n",
    "As coluna \"score_geral\" e \"rank\" foram elaboradas durante a primeira sprint da Veltec. O score geral foi cálculado através de uma série de equações envolvendo a distância percorrida e os eventos do motorista. o rank foi estabelecido seguindo a seguinte escala:\n",
    "\n",
    "* 90 =< score geral <= 100: Ótimo\n",
    "* 80 =< score geral < 90: Bom\n",
    "* 60 =< score geral < 80: Regular\n",
    "* 40 =< score geral < 60: Ruim\n",
    "* score geral < 40: Péssimo"
   ]
  },
  {
   "cell_type": "code",
   "execution_count": 6,
   "metadata": {},
   "outputs": [
    {
     "data": {
      "text/plain": [
       "otimo      7729\n",
       "ruim       2369\n",
       "bom         992\n",
       "regular     960\n",
       "pessimo     592\n",
       "Name: rank, dtype: int64"
      ]
     },
     "execution_count": 6,
     "metadata": {},
     "output_type": "execute_result"
    }
   ],
   "source": [
    "vigencias['rank'].value_counts()"
   ]
  },
  {
   "cell_type": "code",
   "execution_count": 7,
   "metadata": {},
   "outputs": [
    {
     "data": {
      "text/plain": [
       "regular    238\n",
       "otimo      224\n",
       "bom        143\n",
       "ruim        65\n",
       "pessimo      6\n",
       "Name: rank, dtype: int64"
      ]
     },
     "execution_count": 7,
     "metadata": {},
     "output_type": "execute_result"
    }
   ],
   "source": [
    "medias['rank'].value_counts()"
   ]
  },
  {
   "cell_type": "markdown",
   "metadata": {},
   "source": [
    "# PARTE DANIEL"
   ]
  },
  {
   "cell_type": "code",
   "execution_count": 155,
   "metadata": {},
   "outputs": [],
   "source": [
    "from sklearn.model_selection import train_test_split, GridSearchCV\n",
    "from sklearn import preprocessing\n",
    "from sklearn.tree import DecisionTreeClassifier\n",
    "from sklearn.neighbors import KNeighborsClassifier\n",
    "from sklearn.pipeline import Pipeline\n",
    "from sklearn.preprocessing import StandardScaler\n",
    "from sklearn.feature_selection import SelectKBest, chi2\n",
    "from sklearn.model_selection import KFold, cross_val_score\n",
    "from sklearn.linear_model import LinearRegression\n",
    "import numpy as np\n",
    "from sklearn.linear_model import SGDClassifier\n",
    "from sklearn.model_selection import StratifiedKFold, KFold\n",
    "from sklearn.metrics import confusion_matrix, accuracy_score"
   ]
  },
  {
   "cell_type": "code",
   "execution_count": 145,
   "metadata": {},
   "outputs": [
    {
     "name": "stdout",
     "output_type": "stream",
     "text": [
      "['ruim' 'regular' 'otimo' 'bom' 'pessimo']\n"
     ]
    }
   ],
   "source": [
    "#Quantidade de Ranks - Balancear\n",
    "print(vigencias[\"rank\"].unique())"
   ]
  },
  {
   "cell_type": "code",
   "execution_count": 146,
   "metadata": {},
   "outputs": [],
   "source": [
    "#Gathering the dataset\n",
    "X = vigencias.drop(\"rank\", axis = 1)\n",
    "y = vigencias[\"rank\"]"
   ]
  },
  {
   "cell_type": "code",
   "execution_count": 147,
   "metadata": {},
   "outputs": [],
   "source": [
    "# Train Test dataset\n",
    "X_train, X_test, y_train, y_test = train_test_split(X,y,stratify=y,)"
   ]
  },
  {
   "cell_type": "code",
   "execution_count": 148,
   "metadata": {},
   "outputs": [
    {
     "data": {
      "text/plain": [
       "otimo      5796\n",
       "ruim       1777\n",
       "bom         744\n",
       "regular     720\n",
       "pessimo     444\n",
       "Name: rank, dtype: int64"
      ]
     },
     "execution_count": 148,
     "metadata": {},
     "output_type": "execute_result"
    }
   ],
   "source": [
    "y_train.value_counts()"
   ]
  },
  {
   "cell_type": "code",
   "execution_count": 149,
   "metadata": {},
   "outputs": [
    {
     "name": "stdout",
     "output_type": "stream",
     "text": [
      "0.6654361354287522\n",
      "scores:  [0.67650158 0.57172996 0.43248945 0.62974684 0.63080169 0.6592827\n",
      " 0.56223629 0.42721519 0.63396624 0.69198312]\n",
      "Acuracia: 59.16%\n",
      "[[ 126  109    1   12    0]\n",
      " [ 597 1300    0   36    0]\n",
      " [  81    7    7    4   49]\n",
      " [ 155   78    0    7    0]\n",
      " [ 241  105   10   10  226]]\n"
     ]
    }
   ],
   "source": [
    "# COM CROSS-VALID\n",
    "KFold = KFold(n_splits = 10, random_state = 100)\n",
    "model = SGDClassifier()\n",
    "resultKFold = cross_val_score(model, X_train, y_train, cv = KFold)\n",
    "\n",
    "\n",
    "#HYPERTUNNED\n",
    "grid_params = [\n",
    "                {'penalty': ['l2', 'l1', 'elasticnet']}\n",
    "                ]\n",
    "\n",
    "gs = GridSearchCV(estimator = model, param_grid = grid_params, cv = 10, scoring = 'accuracy')\n",
    "gs.fit(X_train, y_train)\n",
    "\n",
    "print(gs.best_score_)\n",
    "\n",
    "print(\"scores: \", resultKFold) \n",
    "print(\"Acuracia: %.2f%%\" % (resultKFold.mean() * 100.0))\n",
    "\n",
    "print(confusion_matrix(y_test, gs.predict(X_test)))"
   ]
  },
  {
   "cell_type": "code",
   "execution_count": 73,
   "metadata": {},
   "outputs": [
    {
     "name": "stdout",
     "output_type": "stream",
     "text": [
      "[[   0  242    0    2    0]\n",
      " [   0 1951    0    3    0]\n",
      " [   0  101    0    4   50]\n",
      " [   0  224    0    3    0]\n",
      " [   0  412    0    7  162]]\n",
      "Acuracia: 0.67%\n"
     ]
    }
   ],
   "source": [
    "# SEM CROSS-VALID\n",
    "model = SGDClassifier()\n",
    "model.fit(X_train, y_train)\n",
    "print(confusion_matrix(y_test, model.predict(X_test)))\n",
    "print(\"Acuracia: %.2f%%\" % accuracy_score(y_test, model.predict(X_test)))"
   ]
  },
  {
   "cell_type": "code",
   "execution_count": 74,
   "metadata": {},
   "outputs": [],
   "source": [
    "####################################################################"
   ]
  },
  {
   "cell_type": "code",
   "execution_count": 153,
   "metadata": {},
   "outputs": [
    {
     "name": "stdout",
     "output_type": "stream",
     "text": [
      "0.999894525893893\n",
      "scores:  [1.         1.         1.         1.         0.99894515 1.\n",
      " 1.         1.         1.         1.        ]\n",
      "Acuracia: 99.99%\n",
      "[[ 248    0    0    0    0]\n",
      " [   1 1932    0    0    0]\n",
      " [   0    0  146    0    2]\n",
      " [   0    0    0  240    0]\n",
      " [   0    0    0    0  592]]\n"
     ]
    }
   ],
   "source": [
    "# COM CROSS-VALID\n",
    "KFold = KFold(n_splits = 10, random_state = 100)\n",
    "model = DecisionTreeClassifier()\n",
    "resultKFold = cross_val_score(model, X_train, y_train, cv = KFold)\n",
    "\n",
    "\n",
    "#HYPERTUNNED\n",
    "grid_params = [{'criterion': ['gini', 'entropy'],\n",
    "               'splitter' : ['best','random']\n",
    "               }]\n",
    "\n",
    "gs = GridSearchCV(estimator = model, param_grid = grid_params, cv = 10, scoring = 'accuracy')\n",
    "gs.fit(X_train, y_train)\n",
    "\n",
    "print(gs.best_score_)\n",
    "\n",
    "print(\"scores: \", resultKFold) \n",
    "print(\"Acuracia: %.2f%%\" % (resultKFold.mean() * 100.0))\n",
    "\n",
    "print(confusion_matrix(y_test, gs.predict(X_test)))"
   ]
  },
  {
   "cell_type": "code",
   "execution_count": 80,
   "metadata": {},
   "outputs": [
    {
     "name": "stdout",
     "output_type": "stream",
     "text": [
      "[[ 244    0    0    0    0]\n",
      " [   0 1954    0    0    0]\n",
      " [   0    0  153    0    2]\n",
      " [   1    0    0  226    0]\n",
      " [   0    0    0    0  581]]\n",
      "Acuracia: 1.00%\n"
     ]
    }
   ],
   "source": [
    "# SEM CROSS-VALID\n",
    "model = DecisionTreeClassifier()\n",
    "model.fit(X_train, y_train)\n",
    "print(confusion_matrix(y_test, model.predict(X_test)))\n",
    "print(\"Acuracia: %.2f%%\" % accuracy_score(y_test, model.predict(X_test)))"
   ]
  },
  {
   "cell_type": "code",
   "execution_count": null,
   "metadata": {},
   "outputs": [],
   "source": [
    "####################################################################"
   ]
  },
  {
   "cell_type": "code",
   "execution_count": 156,
   "metadata": {
    "scrolled": false
   },
   "outputs": [
    {
     "name": "stdout",
     "output_type": "stream",
     "text": [
      "0.7798755405547938\n",
      "scores:  [0.7776607  0.80907173 0.7721519  0.7478903  0.77320675 0.77637131\n",
      " 0.79008439 0.77531646 0.77531646 0.79746835]\n",
      "Acuracia: 77.95%\n",
      "[[  85  152    0    8    3]\n",
      " [  47 1871    0   10    5]\n",
      " [  10   17   46   13   62]\n",
      " [  26  125    1   76   12]\n",
      " [  21   76   44   34  417]]\n"
     ]
    }
   ],
   "source": [
    "# COM CROSS-VALID\n",
    "KFold = KFold(n_splits = 10, random_state = 100)\n",
    "model = KNeighborsClassifier()\n",
    "resultKFold = cross_val_score(model, X_train, y_train, cv = KFold)\n",
    "\n",
    "\n",
    "#HYPERTUNNED\n",
    "grid_params = [{'algorithm': ['auto', 'ball_tree', 'kd_tree', 'brute']\n",
    "               }]\n",
    "\n",
    "gs = GridSearchCV(estimator = model, param_grid = grid_params, cv = 10, scoring = 'accuracy')\n",
    "gs.fit(X_train, y_train)\n",
    "\n",
    "print(gs.best_score_)\n",
    "\n",
    "print(\"scores: \", resultKFold) \n",
    "print(\"Acuracia: %.2f%%\" % (resultKFold.mean() * 100.0))\n",
    "\n",
    "print(confusion_matrix(y_test, gs.predict(X_test)))"
   ]
  },
  {
   "cell_type": "code",
   "execution_count": 157,
   "metadata": {},
   "outputs": [
    {
     "name": "stdout",
     "output_type": "stream",
     "text": [
      "[[  85  152    0    8    3]\n",
      " [  47 1871    0   10    5]\n",
      " [  10   17   46   13   62]\n",
      " [  26  125    1   76   12]\n",
      " [  21   76   44   34  417]]\n",
      "Acuracia: 0.79%\n"
     ]
    }
   ],
   "source": [
    "# SEM CROSS-VALID\n",
    "model = KNeighborsClassifier()\n",
    "model.fit(X_train, y_train)\n",
    "print(confusion_matrix(y_test, model.predict(X_test)))\n",
    "print(\"Acuracia: %.2f%%\" % accuracy_score(y_test, model.predict(X_test)))"
   ]
  },
  {
   "cell_type": "code",
   "execution_count": null,
   "metadata": {},
   "outputs": [],
   "source": []
  }
 ],
 "metadata": {
  "kernelspec": {
   "display_name": "Python 3",
   "language": "python",
   "name": "python3"
  },
  "language_info": {
   "codemirror_mode": {
    "name": "ipython",
    "version": 3
   },
   "file_extension": ".py",
   "mimetype": "text/x-python",
   "name": "python",
   "nbconvert_exporter": "python",
   "pygments_lexer": "ipython3",
   "version": "3.7.4"
  }
 },
 "nbformat": 4,
 "nbformat_minor": 4
}
