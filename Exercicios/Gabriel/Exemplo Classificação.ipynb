{
 "cells": [
  {
   "cell_type": "markdown",
   "metadata": {},
   "source": [
    "https://towardsdatascience.com/solving-a-simple-classification-problem-with-python-fruits-lovers-edition-d20ab6b071d2"
   ]
  },
  {
   "cell_type": "code",
   "execution_count": 1,
   "metadata": {},
   "outputs": [],
   "source": [
    "import pandas as pd\n",
    "import matplotlib.pyplot as plt\n",
    "import seaborn as sns\n",
    "import pylab as pl\n",
    "from pandas.plotting import scatter_matrix\n",
    "from matplotlib import cm\n",
    "\n",
    "from sklearn.model_selection import train_test_split\n",
    "from sklearn.preprocessing import MinMaxScaler\n",
    "from sklearn.metrics import classification_report\n",
    "from sklearn.metrics import confusion_matrix\n",
    "from sklearn.metrics import accuracy_score\n",
    "from sklearn.neighbors import KNeighborsClassifier\n",
    "from sklearn.discriminant_analysis import LinearDiscriminantAnalysis\n",
    "from sklearn.naive_bayes import GaussianNB\n",
    "from sklearn.svm import SVC"
   ]
  },
  {
   "cell_type": "code",
   "execution_count": 2,
   "metadata": {},
   "outputs": [
    {
     "data": {
      "text/html": [
       "<div>\n",
       "<style scoped>\n",
       "    .dataframe tbody tr th:only-of-type {\n",
       "        vertical-align: middle;\n",
       "    }\n",
       "\n",
       "    .dataframe tbody tr th {\n",
       "        vertical-align: top;\n",
       "    }\n",
       "\n",
       "    .dataframe thead th {\n",
       "        text-align: right;\n",
       "    }\n",
       "</style>\n",
       "<table border=\"1\" class=\"dataframe\">\n",
       "  <thead>\n",
       "    <tr style=\"text-align: right;\">\n",
       "      <th></th>\n",
       "      <th>fruit_label</th>\n",
       "      <th>fruit_name</th>\n",
       "      <th>fruit_subtype</th>\n",
       "      <th>mass</th>\n",
       "      <th>width</th>\n",
       "      <th>height</th>\n",
       "      <th>color_score</th>\n",
       "    </tr>\n",
       "  </thead>\n",
       "  <tbody>\n",
       "    <tr>\n",
       "      <th>0</th>\n",
       "      <td>1</td>\n",
       "      <td>apple</td>\n",
       "      <td>granny_smith</td>\n",
       "      <td>192</td>\n",
       "      <td>8.4</td>\n",
       "      <td>7.3</td>\n",
       "      <td>0.55</td>\n",
       "    </tr>\n",
       "    <tr>\n",
       "      <th>1</th>\n",
       "      <td>1</td>\n",
       "      <td>apple</td>\n",
       "      <td>granny_smith</td>\n",
       "      <td>180</td>\n",
       "      <td>8.0</td>\n",
       "      <td>6.8</td>\n",
       "      <td>0.59</td>\n",
       "    </tr>\n",
       "    <tr>\n",
       "      <th>2</th>\n",
       "      <td>1</td>\n",
       "      <td>apple</td>\n",
       "      <td>granny_smith</td>\n",
       "      <td>176</td>\n",
       "      <td>7.4</td>\n",
       "      <td>7.2</td>\n",
       "      <td>0.60</td>\n",
       "    </tr>\n",
       "    <tr>\n",
       "      <th>3</th>\n",
       "      <td>2</td>\n",
       "      <td>mandarin</td>\n",
       "      <td>mandarin</td>\n",
       "      <td>86</td>\n",
       "      <td>6.2</td>\n",
       "      <td>4.7</td>\n",
       "      <td>0.80</td>\n",
       "    </tr>\n",
       "    <tr>\n",
       "      <th>4</th>\n",
       "      <td>2</td>\n",
       "      <td>mandarin</td>\n",
       "      <td>mandarin</td>\n",
       "      <td>84</td>\n",
       "      <td>6.0</td>\n",
       "      <td>4.6</td>\n",
       "      <td>0.79</td>\n",
       "    </tr>\n",
       "  </tbody>\n",
       "</table>\n",
       "</div>"
      ],
      "text/plain": [
       "   fruit_label fruit_name fruit_subtype  mass  width  height  color_score\n",
       "0            1      apple  granny_smith   192    8.4     7.3         0.55\n",
       "1            1      apple  granny_smith   180    8.0     6.8         0.59\n",
       "2            1      apple  granny_smith   176    7.4     7.2         0.60\n",
       "3            2   mandarin      mandarin    86    6.2     4.7         0.80\n",
       "4            2   mandarin      mandarin    84    6.0     4.6         0.79"
      ]
     },
     "execution_count": 2,
     "metadata": {},
     "output_type": "execute_result"
    }
   ],
   "source": [
    "fruits = pd.read_table(\"~/fruits.txt\")\n",
    "fruits.head()"
   ]
  },
  {
   "cell_type": "code",
   "execution_count": 3,
   "metadata": {},
   "outputs": [
    {
     "name": "stdout",
     "output_type": "stream",
     "text": [
      "(59, 7)\n",
      "['apple' 'mandarin' 'orange' 'lemon']\n"
     ]
    }
   ],
   "source": [
    "print(fruits.shape)\n",
    "print(fruits.fruit_name.unique()) # temos 4 tipos de frutas"
   ]
  },
  {
   "cell_type": "code",
   "execution_count": 4,
   "metadata": {},
   "outputs": [
    {
     "name": "stdout",
     "output_type": "stream",
     "text": [
      "fruit_name\n",
      "apple       19\n",
      "lemon       16\n",
      "mandarin     5\n",
      "orange      19\n",
      "dtype: int64\n"
     ]
    }
   ],
   "source": [
    "print(fruits.groupby('fruit_name').size())"
   ]
  },
  {
   "cell_type": "code",
   "execution_count": 5,
   "metadata": {},
   "outputs": [
    {
     "data": {
      "image/png": "[encoded data removed]",
      "text/plain": [
       "<Figure size 432x288 with 1 Axes>"
      ]
     },
     "metadata": {
      "needs_background": "light"
     },
     "output_type": "display_data"
    }
   ],
   "source": [
    "sns.countplot(fruits[\"fruit_name\"], label = \"Count\")\n",
    "plt.show()"
   ]
  },
  {
   "cell_type": "code",
   "execution_count": 6,
   "metadata": {},
   "outputs": [
    {
     "data": {
      "image/png": "[encoded data removed]",
      "text/plain": [
       "<Figure size 720x720 with 4 Axes>"
      ]
     },
     "metadata": {
      "needs_background": "light"
     },
     "output_type": "display_data"
    }
   ],
   "source": [
    "#Box plot para cada variável numérica fornece uma clara ideia da distribuição dos dados.\n",
    "\n",
    "fruits.drop('fruit_label', axis=1).plot(kind='box', subplots=True, layout=(2,2), sharex=False, sharey=False, figsize=(10,10), title='Box Plot for each input variable')\n",
    "plt.savefig('fruits_box')\n",
    "plt.show()"
   ]
  },
  {
   "cell_type": "code",
   "execution_count": 7,
   "metadata": {},
   "outputs": [
    {
     "data": {
      "image/png": "[encoded data removed]",
      "text/plain": [
       "<Figure size 648x648 with 4 Axes>"
      ]
     },
     "metadata": {
      "needs_background": "light"
     },
     "output_type": "display_data"
    }
   ],
   "source": [
    "fruits.drop(\"fruit_label\", axis = 1).hist(bins = 30, figsize = (9,9))\n",
    "plt.show()"
   ]
  },
  {
   "cell_type": "code",
   "execution_count": 8,
   "metadata": {},
   "outputs": [],
   "source": [
    "feature_names = [\"mass\", \"width\",\"height\",\"color_score\"]\n",
    "X = fruits[feature_names]\n",
    "y = fruits[\"fruit_label\"]"
   ]
  },
  {
   "cell_type": "code",
   "execution_count": 9,
   "metadata": {},
   "outputs": [
    {
     "ename": "NameError",
     "evalue": "name 'x' is not defined",
     "output_type": "error",
     "traceback": [
      "\u001b[0;31m---------------------------------------------------------------------------\u001b[0m",
      "\u001b[0;31mNameError\u001b[0m                                 Traceback (most recent call last)",
      "\u001b[0;32m<ipython-input-9-81d8ad2c5fe1>\u001b[0m in \u001b[0;36m<module>\u001b[0;34m\u001b[0m\n\u001b[1;32m      1\u001b[0m \u001b[0mcmap\u001b[0m \u001b[0;34m=\u001b[0m \u001b[0mcm\u001b[0m\u001b[0;34m.\u001b[0m\u001b[0mget_cmap\u001b[0m\u001b[0;34m(\u001b[0m\u001b[0;34m'gnuplot'\u001b[0m\u001b[0;34m)\u001b[0m\u001b[0;34m\u001b[0m\u001b[0;34m\u001b[0m\u001b[0m\n\u001b[0;32m----> 2\u001b[0;31m \u001b[0mscatter\u001b[0m \u001b[0;34m=\u001b[0m \u001b[0mpd\u001b[0m\u001b[0;34m.\u001b[0m\u001b[0mplotting\u001b[0m\u001b[0;34m.\u001b[0m\u001b[0mscatter_matrix\u001b[0m\u001b[0;34m(\u001b[0m\u001b[0mx\u001b[0m\u001b[0;34m,\u001b[0m \u001b[0mc\u001b[0m \u001b[0;34m=\u001b[0m \u001b[0my\u001b[0m\u001b[0;34m,\u001b[0m \u001b[0mmarker\u001b[0m \u001b[0;34m=\u001b[0m \u001b[0;34m'o'\u001b[0m\u001b[0;34m,\u001b[0m \u001b[0ms\u001b[0m\u001b[0;34m=\u001b[0m\u001b[0;36m40\u001b[0m\u001b[0;34m,\u001b[0m \u001b[0mhist_kwds\u001b[0m\u001b[0;34m=\u001b[0m\u001b[0;34m{\u001b[0m\u001b[0;34m'bins'\u001b[0m\u001b[0;34m:\u001b[0m\u001b[0;36m15\u001b[0m\u001b[0;34m}\u001b[0m\u001b[0;34m,\u001b[0m \u001b[0mfigsize\u001b[0m\u001b[0;34m=\u001b[0m\u001b[0;34m(\u001b[0m\u001b[0;36m10\u001b[0m\u001b[0;34m,\u001b[0m\u001b[0;36m10\u001b[0m\u001b[0;34m)\u001b[0m\u001b[0;34m,\u001b[0m \u001b[0mcmap\u001b[0m \u001b[0;34m=\u001b[0m \u001b[0mcmap\u001b[0m\u001b[0;34m)\u001b[0m\u001b[0;34m\u001b[0m\u001b[0;34m\u001b[0m\u001b[0m\n\u001b[0m",
      "\u001b[0;31mNameError\u001b[0m: name 'x' is not defined"
     ]
    }
   ],
   "source": [
    "\n",
    "cmap = cm.get_cmap('gnuplot')\n",
    "scatter = pd.plotting.scatter_matrix(x, c = y, marker = 'o', s=40, hist_kwds={'bins':15}, figsize=(10,10), cmap = cmap)"
   ]
  },
  {
   "cell_type": "code",
   "execution_count": 10,
   "metadata": {},
   "outputs": [
    {
     "data": {
      "text/html": [
       "<div>\n",
       "<style scoped>\n",
       "    .dataframe tbody tr th:only-of-type {\n",
       "        vertical-align: middle;\n",
       "    }\n",
       "\n",
       "    .dataframe tbody tr th {\n",
       "        vertical-align: top;\n",
       "    }\n",
       "\n",
       "    .dataframe thead th {\n",
       "        text-align: right;\n",
       "    }\n",
       "</style>\n",
       "<table border=\"1\" class=\"dataframe\">\n",
       "  <thead>\n",
       "    <tr style=\"text-align: right;\">\n",
       "      <th></th>\n",
       "      <th>fruit_label</th>\n",
       "      <th>mass</th>\n",
       "      <th>width</th>\n",
       "      <th>height</th>\n",
       "      <th>color_score</th>\n",
       "    </tr>\n",
       "  </thead>\n",
       "  <tbody>\n",
       "    <tr>\n",
       "      <th>fruit_label</th>\n",
       "      <td>1.000000</td>\n",
       "      <td>0.032738</td>\n",
       "      <td>-0.298090</td>\n",
       "      <td>0.508766</td>\n",
       "      <td>-0.310521</td>\n",
       "    </tr>\n",
       "    <tr>\n",
       "      <th>mass</th>\n",
       "      <td>0.032738</td>\n",
       "      <td>1.000000</td>\n",
       "      <td>0.877687</td>\n",
       "      <td>0.609571</td>\n",
       "      <td>-0.079794</td>\n",
       "    </tr>\n",
       "    <tr>\n",
       "      <th>width</th>\n",
       "      <td>-0.298090</td>\n",
       "      <td>0.877687</td>\n",
       "      <td>1.000000</td>\n",
       "      <td>0.396848</td>\n",
       "      <td>-0.076576</td>\n",
       "    </tr>\n",
       "    <tr>\n",
       "      <th>height</th>\n",
       "      <td>0.508766</td>\n",
       "      <td>0.609571</td>\n",
       "      <td>0.396848</td>\n",
       "      <td>1.000000</td>\n",
       "      <td>-0.247047</td>\n",
       "    </tr>\n",
       "    <tr>\n",
       "      <th>color_score</th>\n",
       "      <td>-0.310521</td>\n",
       "      <td>-0.079794</td>\n",
       "      <td>-0.076576</td>\n",
       "      <td>-0.247047</td>\n",
       "      <td>1.000000</td>\n",
       "    </tr>\n",
       "  </tbody>\n",
       "</table>\n",
       "</div>"
      ],
      "text/plain": [
       "             fruit_label      mass     width    height  color_score\n",
       "fruit_label     1.000000  0.032738 -0.298090  0.508766    -0.310521\n",
       "mass            0.032738  1.000000  0.877687  0.609571    -0.079794\n",
       "width          -0.298090  0.877687  1.000000  0.396848    -0.076576\n",
       "height          0.508766  0.609571  0.396848  1.000000    -0.247047\n",
       "color_score    -0.310521 -0.079794 -0.076576 -0.247047     1.000000"
      ]
     },
     "execution_count": 10,
     "metadata": {},
     "output_type": "execute_result"
    }
   ],
   "source": [
    "# forte correlação entre mass e width\n",
    "fruits.corr() "
   ]
  },
  {
   "cell_type": "code",
   "execution_count": 11,
   "metadata": {},
   "outputs": [],
   "source": [
    "X_train, X_test, y_train, y_test = train_test_split(X,y, random_state = 10)\n",
    "scaler = MinMaxScaler()\n",
    "X_train = scaler.fit_transform(X_train)\n",
    "X_test = scaler.fit_transform(X_test)"
   ]
  },
  {
   "cell_type": "code",
   "execution_count": 12,
   "metadata": {},
   "outputs": [
    {
     "name": "stdout",
     "output_type": "stream",
     "text": [
      "Accuracy of Logistic Regressor classifier on training set: 0.70\n",
      "Accuracy of Logistic Regressor classifier on test set: 0.40\n"
     ]
    }
   ],
   "source": [
    "\n",
    "from sklearn.linear_model import LogisticRegression\n",
    "log = LogisticRegression()\n",
    "log.fit(X_train,y_train)\n",
    "\n",
    "print('Accuracy of Logistic Regressor classifier on training set: {:.2f}'\n",
    "     .format(log.score(X_train, y_train)))\n",
    "print('Accuracy of Logistic Regressor classifier on test set: {:.2f}'\n",
    "     .format(log.score(X_test, y_test)))\n",
    "\n",
    "#print(confusion_matrix(y_test,y_pred))\n",
    "#print(classification_report(y_test,sgd_cls.predict(X_test)))"
   ]
  },
  {
   "cell_type": "code",
   "execution_count": 13,
   "metadata": {},
   "outputs": [
    {
     "name": "stdout",
     "output_type": "stream",
     "text": [
      "Accuracy of Decision Tree classifier on training set: 1.00\n",
      "Accuracy of Decision Tree classifier on test set: 0.67\n"
     ]
    }
   ],
   "source": [
    "from sklearn.tree import DecisionTreeClassifier\n",
    "dtc = DecisionTreeClassifier().fit(X_train,y_train)\n",
    "y_pred = dtc.predict(X_test)\n",
    "\n",
    "print('Accuracy of Decision Tree classifier on training set: {:.2f}'\n",
    "     .format(dtc.score(X_train, y_train)))\n",
    "print('Accuracy of Decision Tree classifier on test set: {:.2f}'\n",
    "     .format(dtc.score(X_test, y_test)))\n",
    "\n",
    "#print(confusion_matrix(y_test,y_pred))\n",
    "#print(classification_report(y_test,sgd_cls.predict(X_test)))"
   ]
  },
  {
   "cell_type": "code",
   "execution_count": 14,
   "metadata": {},
   "outputs": [
    {
     "ename": "SyntaxError",
     "evalue": "EOL while scanning string literal (<ipython-input-14-5b64bcc5b15d>, line 24)",
     "output_type": "error",
     "traceback": [
      "\u001b[0;36m  File \u001b[0;32m\"<ipython-input-14-5b64bcc5b15d>\"\u001b[0;36m, line \u001b[0;32m24\u001b[0m\n\u001b[0;31m    print('Accuracy of Decision Tree classifier on test set: {:.# Fit the model and predict X_test. Show some analysis.\u001b[0m\n\u001b[0m                                                                                                                       ^\u001b[0m\n\u001b[0;31mSyntaxError\u001b[0m\u001b[0;31m:\u001b[0m EOL while scanning string literal\n"
     ]
    }
   ],
   "source": [
    "def Classificador(metodo, dataframe, colunas, y, size = 0.3, neig = 5):\n",
    "        \n",
    "    X = dataframe[colunas]\n",
    "    y = dataframe[y]\n",
    "    print(\"Test size :{}\".format(size))\n",
    "    \n",
    "    X_train, X_test, y_train, y_test = train_test_split(X,y, random_state = 0)\n",
    "    scaler = MinMaxScaler()\n",
    "    X_train = scaler.fit_transform(X_train)\n",
    "    X_test = scaler.fit_transform(X_test)\n",
    "    \n",
    "    \n",
    "    if metodo == \"log\":\n",
    "        log = LogisticRegression()\n",
    "        log.fit(X_train,y_train)\n",
    "        print('Accuracy of Decision Tree classifier on training set: {:.2f}'.format(log.score(X_train, y_train)))\n",
    "        print('Accuracy of Decision Tree classifier on test set: {:.2f}'.format(log.score(X_test, y_test)))\n",
    "        print(\"Confusion Matrix:\",\"\\n\" ,confusion_matrix(y_test,log.predict(X_test)),\"\\n\")\n",
    "        print(\"Classification Report:\", \"\\n\",classification_report(y_test,log.predict(X_test)))\n",
    "    if metodo == \"tree\":\n",
    "        dtc = DecisionTreeClassifier().fit(X_train,y_train)\n",
    "        y_pred = dtc.predict(X_test)\n",
    "        print('Accuracy of Decision Tree classifier on training set: {:.2f}'.format(dtc.score(X_train, y_train)))\n",
    "        print('Accuracy of Decision Tree classifier on test set: {:.# Fit the model and predict X_test. Show some analysis.\n",
    "   \n",
    "    if metodo == \"KNN\":\n",
    "        knn = KNeighborsClassifier(n_neighbors = neig)\n",
    "        knn.fit(X_test,y_test)\n",
    "        print('Accuracy of KNN classifier on training set: {:.2f}'.format(knn.score(X_train, y_train)))\n",
    "        print('Accuracy of KNN classifier on test set: {:.2f}'.format(knn.score(X_test, y_test)))\n",
    "        print(\"Confusion Matrix:\",\"\\n\" ,confusion_matrix(y_test,knn.predict(X_test)),\"\\n\")\n",
    "        print(\"Classification Report:\", \"\\n\",classification_report(y_test,knn.predict(X_test)))\n",
    "    if metodo == \"LDA\":\n",
    "        lda = LinearDiscriminantAnalysis()\n",
    "        lda.fit(X_train, y_train)\n",
    "        print('Accuracy of LDA classifier on training set: {:.2f}'.format(lda.score(X_train, y_train)))\n",
    "        print('Accuracy of LDA classifier on test set: {:.2f}'.format(lda.score(X_test, y_test)))\n",
    "        print(\"Confusion Matrix:\",\"\\n\" ,confusion_matrix(y_test,lda.predict(X_test)),\"\\n\")\n",
    "        print(\"Classification Report:\", \"\\n\",classification_report(y_test,lda.predict(X_test)))        \n",
    "        \n",
    "    if metodo == \"gauss\":\n",
    "        gnb = GaussianNB()\n",
    "        gnb.fit(X_train, y_train)\n",
    "        print('Accuracy of GNB classifier on training set: {:.2f}'.format(gnb.score(X_train, y_train)))\n",
    "        print('Accuracy of GNB classifier on test set: {:.2f}'.format(gnb.score(X_test, y_test)))\n",
    "        print(\"Confusion Matrix:\",\"\\n\" ,confusion_matrix(y_test,gnb.predict(X_test)),\"\\n\")\n",
    "        print(\"Classification Report:\", \"\\n\",classification_report(y_test,gnb.predict(X_test)))\n",
    "        \n",
    "    if metodo == \"SVM\":\n",
    "        svm = SVC()\n",
    "        svm.fit(X_train, y_train)\n",
    "        print('Accuracy of SVM classifier on training set: {:.2f}'.format(svm.score(X_train, y_train)))\n",
    "        print('Accuracy of SVM classifier on test set: {:.2f}'.format(svm.score(X_test, y_test)))\n",
    "        print(\"Confusion Matrix:\",\"\\n\" ,confusion_matrix(y_test,svm.predict(X_test)),\"\\n\")\n",
    "        print(\"Classification Report:\", \"\\n\",classification_report(y_test,svm.predict(X_test)))\n",
    "    \n",
    "    "
   ]
  },
  {
   "cell_type": "code",
   "execution_count": 15,
   "metadata": {},
   "outputs": [
    {
     "ename": "NameError",
     "evalue": "name 'Classificador' is not defined",
     "output_type": "error",
     "traceback": [
      "\u001b[0;31m---------------------------------------------------------------------------\u001b[0m",
      "\u001b[0;31mNameError\u001b[0m                                 Traceback (most recent call last)",
      "\u001b[0;32m<ipython-input-15-391dfbaeb6fe>\u001b[0m in \u001b[0;36m<module>\u001b[0;34m\u001b[0m\n\u001b[1;32m      1\u001b[0m \u001b[0mcolunas\u001b[0m \u001b[0;34m=\u001b[0m \u001b[0;34m[\u001b[0m\u001b[0;34m\"mass\"\u001b[0m\u001b[0;34m,\u001b[0m \u001b[0;34m\"width\"\u001b[0m\u001b[0;34m,\u001b[0m\u001b[0;34m\"height\"\u001b[0m\u001b[0;34m,\u001b[0m\u001b[0;34m\"color_score\"\u001b[0m\u001b[0;34m]\u001b[0m\u001b[0;34m\u001b[0m\u001b[0;34m\u001b[0m\u001b[0m\n\u001b[1;32m      2\u001b[0m \u001b[0my\u001b[0m \u001b[0;34m=\u001b[0m \u001b[0;34m\"fruit_label\"\u001b[0m\u001b[0;34m\u001b[0m\u001b[0;34m\u001b[0m\u001b[0m\n\u001b[0;32m----> 3\u001b[0;31m \u001b[0mClassificador\u001b[0m\u001b[0;34m(\u001b[0m\u001b[0;34m\"log\"\u001b[0m\u001b[0;34m,\u001b[0m\u001b[0mfruits\u001b[0m\u001b[0;34m,\u001b[0m \u001b[0mcolunas\u001b[0m\u001b[0;34m,\u001b[0m \u001b[0my\u001b[0m\u001b[0;34m,\u001b[0m \u001b[0msize\u001b[0m \u001b[0;34m=\u001b[0m \u001b[0;36m0.3\u001b[0m\u001b[0;34m)\u001b[0m\u001b[0;34m\u001b[0m\u001b[0;34m\u001b[0m\u001b[0m\n\u001b[0m",
      "\u001b[0;31mNameError\u001b[0m: name 'Classificador' is not defined"
     ]
    }
   ],
   "source": [
    "colunas = [\"mass\", \"width\",\"height\",\"color_score\"]\n",
    "y = \"fruit_label\"\n",
    "Classificador(\"log\",fruits, colunas, y, size = 0.3)"
   ]
  },
  {
   "cell_type": "code",
   "execution_count": 159,
   "metadata": {},
   "outputs": [
    {
     "name": "stdout",
     "output_type": "stream",
     "text": [
      "Test size :0.3\n",
      "Accuracy of KNN classifier on training set: 0.39\n",
      "Accuracy of KNN classifier on test set: 0.73\n",
      "Confusion Matrix: \n",
      " [[3 0 1 0]\n",
      " [0 0 1 0]\n",
      " [0 0 8 0]\n",
      " [0 0 2 0]] \n",
      "\n",
      "Classification Report: \n",
      "               precision    recall  f1-score   support\n",
      "\n",
      "           1       1.00      0.75      0.86         4\n",
      "           2       0.00      0.00      0.00         1\n",
      "           3       0.67      1.00      0.80         8\n",
      "           4       0.00      0.00      0.00         2\n",
      "\n",
      "    accuracy                           0.73        15\n",
      "   macro avg       0.42      0.44      0.41        15\n",
      "weighted avg       0.62      0.73      0.66        15\n",
      "\n"
     ]
    },
    {
     "name": "stderr",
     "output_type": "stream",
     "text": [
      "/home/gabrielmartins/miniconda3/envs/Aulas_AI2/lib/python3.7/site-packages/sklearn/metrics/_classification.py:1272: UndefinedMetricWarning: Precision and F-score are ill-defined and being set to 0.0 in labels with no predicted samples. Use `zero_division` parameter to control this behavior.\n",
      "  _warn_prf(average, modifier, msg_start, len(result))\n"
     ]
    }
   ],
   "source": [
    "colunas = [\"mass\", \"width\",\"height\",\"color_score\"]\n",
    "y = \"fruit_label\"\n",
    "Classificador(\"KNN\",fruits, colunas, y, size = 0.3, neig = 5)"
   ]
  },
  {
   "cell_type": "code",
   "execution_count": 160,
   "metadata": {},
   "outputs": [
    {
     "name": "stdout",
     "output_type": "stream",
     "text": [
      "Test size :0.3\n",
      "Accuracy of Decision Tree classifier on training set: 1.00\n",
      "Accuracy of Decision Tree classifier on test set: 0.67\n",
      "Confusion Matrix: \n",
      " [[4 0 0 0]\n",
      " [0 1 0 0]\n",
      " [2 0 3 3]\n",
      " [0 0 0 2]] \n",
      "\n",
      "Classification Report: \n",
      "               precision    recall  f1-score   support\n",
      "\n",
      "           1       0.67      1.00      0.80         4\n",
      "           2       1.00      1.00      1.00         1\n",
      "           3       1.00      0.38      0.55         8\n",
      "           4       0.40      1.00      0.57         2\n",
      "\n",
      "    accuracy                           0.67        15\n",
      "   macro avg       0.77      0.84      0.73        15\n",
      "weighted avg       0.83      0.67      0.65        15\n",
      "\n"
     ]
    }
   ],
   "source": [
    "colunas = [\"mass\", \"width\",\"height\",\"color_score\"]\n",
    "y = \"fruit_label\"\n",
    "Classificador(\"tree\",fruits, colunas, y, size = 0.3)"
   ]
  },
  {
   "cell_type": "code",
   "execution_count": 161,
   "metadata": {},
   "outputs": [
    {
     "name": "stdout",
     "output_type": "stream",
     "text": [
      "Test size :0.3\n",
      "Accuracy of LDA classifier on training set: 0.86\n",
      "Accuracy of LDA classifier on test set: 0.73\n",
      "Confusion Matrix: \n",
      " [[1 0 3 0]\n",
      " [0 1 0 0]\n",
      " [1 0 7 0]\n",
      " [0 0 0 2]] \n",
      "\n",
      "Classification Report: \n",
      "               precision    recall  f1-score   support\n",
      "\n",
      "           1       0.50      0.25      0.33         4\n",
      "           2       1.00      1.00      1.00         1\n",
      "           3       0.70      0.88      0.78         8\n",
      "           4       1.00      1.00      1.00         2\n",
      "\n",
      "    accuracy                           0.73        15\n",
      "   macro avg       0.80      0.78      0.78        15\n",
      "weighted avg       0.71      0.73      0.70        15\n",
      "\n"
     ]
    }
   ],
   "source": [
    "colunas = [\"mass\", \"width\",\"height\",\"color_score\"]\n",
    "y = \"fruit_label\"\n",
    "Classificador(\"LDA\",fruits, colunas, y, size = 0.3)"
   ]
  },
  {
   "cell_type": "code",
   "execution_count": 162,
   "metadata": {},
   "outputs": [
    {
     "name": "stdout",
     "output_type": "stream",
     "text": [
      "Test size :0.3\n",
      "Accuracy of GNB classifier on training set: 0.86\n",
      "Accuracy of GNB classifier on test set: 0.47\n",
      "Confusion Matrix: \n",
      " [[4 0 0 0]\n",
      " [0 1 0 0]\n",
      " [2 0 2 4]\n",
      " [0 0 2 0]] \n",
      "\n",
      "Classification Report: \n",
      "               precision    recall  f1-score   support\n",
      "\n",
      "           1       0.67      1.00      0.80         4\n",
      "           2       1.00      1.00      1.00         1\n",
      "           3       0.50      0.25      0.33         8\n",
      "           4       0.00      0.00      0.00         2\n",
      "\n",
      "    accuracy                           0.47        15\n",
      "   macro avg       0.54      0.56      0.53        15\n",
      "weighted avg       0.51      0.47      0.46        15\n",
      "\n"
     ]
    }
   ],
   "source": [
    "colunas = [\"mass\", \"width\",\"height\",\"color_score\"]\n",
    "y = \"fruit_label\"\n",
    "Classificador(\"gauss\",fruits, colunas, y, size = 0.3)"
   ]
  },
  {
   "cell_type": "code",
   "execution_count": 163,
   "metadata": {},
   "outputs": [
    {
     "name": "stdout",
     "output_type": "stream",
     "text": [
      "Test size :0.3\n",
      "Accuracy of SVM classifier on training set: 0.91\n",
      "Accuracy of SVM classifier on test set: 0.73\n",
      "Confusion Matrix: \n",
      " [[4 0 0 0]\n",
      " [0 1 0 0]\n",
      " [2 0 4 2]\n",
      " [0 0 0 2]] \n",
      "\n",
      "Classification Report: \n",
      "               precision    recall  f1-score   support\n",
      "\n",
      "           1       0.67      1.00      0.80         4\n",
      "           2       1.00      1.00      1.00         1\n",
      "           3       1.00      0.50      0.67         8\n",
      "           4       0.50      1.00      0.67         2\n",
      "\n",
      "    accuracy                           0.73        15\n",
      "   macro avg       0.79      0.88      0.78        15\n",
      "weighted avg       0.84      0.73      0.72        15\n",
      "\n"
     ]
    }
   ],
   "source": [
    "colunas = [\"mass\", \"width\",\"height\",\"color_score\"]\n",
    "y = \"fruit_label\"\n",
    "Classificador(\"SVM\",fruits, colunas, y, size = 0.3)"
   ]
  },
  {
   "cell_type": "code",
   "execution_count": 165,
   "metadata": {},
   "outputs": [
    {
     "name": "stdout",
     "output_type": "stream",
     "text": [
      "DecisionTreeClassifier(ccp_alpha=0.0, class_weight=None, criterion='gini',\n",
      "                       max_depth=None, max_features=None, max_leaf_nodes=None,\n",
      "                       min_impurity_decrease=0.0, min_impurity_split=None,\n",
      "                       min_samples_leaf=1, min_samples_split=2,\n",
      "                       min_weight_fraction_leaf=0.0, presort='deprecated',\n",
      "                       random_state=None, splitter='best')\n"
     ]
    }
   ],
   "source": [
    " if metodo == \"log\":\n",
    "        log = LogisticRegression()\n",
    "        log.fit(X_train,y_train)\n",
    "        print('Accuracy of Decision Tree classifier on training set: {:.2f}'.format(log.score(X_train, y_train)))\n",
    "        print('Accuracy of Decision Tree classifier on test set: {:.2f}'.format(log.score(X_test, y_test)))\n",
    "        print(\"Confusion Matrix:\",\"\\n\" ,confusion_matrix(y_test,log.predict(X_test)),\"\\n\")\n",
    "        print(\"Classification Report:\", \"\\n\",classification_report(y_test,log.predict(X_test)))\n",
    "    if metodo == \"tree\":\n",
    "        dtc = DecisionTreeClassifier().fit(X_train,y_train)\n",
    "        y_pred = dtc.predict(X_test)\n",
    "        print('Accuracy of Decision Tree classifier on training set: {:.2f}'.format(dtc.score(X_train, y_train)))\n",
    "        print('Accuracy of Decision Tree classifier on test set: {:.2f}'.format(dtc.score(X_test, y_test)))\n",
    "        print(\"Confusion Matrix:\",\"\\n\" ,confusion_matrix(y_test,dtc.predict(X_test)),\"\\n\")\n",
    "        print(\"Classification Report:\", \"\\n\",classification_report(y_test,dtc.predict(X_test)))"
   ]
  },
  {
   "cell_type": "code",
   "execution_count": 174,
   "metadata": {},
   "outputs": [
    {
     "name": "stdout",
     "output_type": "stream",
     "text": [
      "\n",
      "\n",
      "Accurancy for train of 0.7045454545454546\n",
      "Accuracy  for test of 0.4\n",
      "Confusion Matrix: \n",
      " [[4 0 0 1]\n",
      " [2 0 0 0]\n",
      " [2 0 1 4]\n",
      " [0 0 0 1]] \n",
      "\n",
      "Classification Report: \n",
      "               precision    recall  f1-score   support\n",
      "\n",
      "           1       0.50      0.80      0.62         5\n",
      "           2       0.00      0.00      0.00         2\n",
      "           3       1.00      0.14      0.25         7\n",
      "           4       0.17      1.00      0.29         1\n",
      "\n",
      "    accuracy                           0.40        15\n",
      "   macro avg       0.42      0.49      0.29        15\n",
      "weighted avg       0.64      0.40      0.34        15\n",
      "\n",
      "\n",
      "\n",
      "\n",
      "\n",
      "Accurancy for train of 1.0\n",
      "Accuracy  for test of 0.6666666666666666\n",
      "Confusion Matrix: \n",
      " [[3 0 2 0]\n",
      " [0 2 0 0]\n",
      " [0 0 4 3]\n",
      " [0 0 0 1]] \n",
      "\n",
      "Classification Report: \n",
      "               precision    recall  f1-score   support\n",
      "\n",
      "           1       1.00      0.60      0.75         5\n",
      "           2       1.00      1.00      1.00         2\n",
      "           3       0.67      0.57      0.62         7\n",
      "           4       0.25      1.00      0.40         1\n",
      "\n",
      "    accuracy                           0.67        15\n",
      "   macro avg       0.73      0.79      0.69        15\n",
      "weighted avg       0.79      0.67      0.70        15\n",
      "\n",
      "\n",
      "\n"
     ]
    },
    {
     "name": "stderr",
     "output_type": "stream",
     "text": [
      "/home/gabrielmartins/miniconda3/envs/Aulas_AI2/lib/python3.7/site-packages/sklearn/metrics/_classification.py:1272: UndefinedMetricWarning: Precision and F-score are ill-defined and being set to 0.0 in labels with no predicted samples. Use `zero_division` parameter to control this behavior.\n",
      "  _warn_prf(average, modifier, msg_start, len(result))\n"
     ]
    }
   ],
   "source": [
    "log = LogisticRegression()\n",
    "tree = DecisionTreeClassifier()\n",
    "\n",
    "met = [log, tree]\n",
    "\n",
    "for metod in met:\n",
    "    metod.fit(X_train,y_train)\n",
    "    y_pred = metod.predict(X_test)\n",
    "    print(\"\\n\")\n",
    "    print(\"Accurancy for train of {}\".format(metod.score(X_train,y_train)))\n",
    "    print('Accuracy  for test of {}'.format(metod.score(X_test, y_test)))\n",
    "    print(\"Confusion Matrix:\",\"\\n\" ,confusion_matrix(y_test,metod.predict(X_test)),\"\\n\")\n",
    "    print(\"Classification Report:\", \"\\n\",classification_report(y_test,metod.predict(X_test)))\n",
    "    print(\"\\n\")\n",
    "    "
   ]
  },
  {
   "cell_type": "code",
   "execution_count": null,
   "metadata": {},
   "outputs": [],
   "source": []
  },
  {
   "cell_type": "code",
   "execution_count": null,
   "metadata": {},
   "outputs": [],
   "source": []
  },
  {
   "cell_type": "code",
   "execution_count": null,
   "metadata": {},
   "outputs": [],
   "source": []
  },
  {
   "cell_type": "code",
   "execution_count": null,
   "metadata": {},
   "outputs": [],
   "source": []
  },
  {
   "cell_type": "code",
   "execution_count": null,
   "metadata": {},
   "outputs": [],
   "source": []
  },
  {
   "cell_type": "code",
   "execution_count": null,
   "metadata": {},
   "outputs": [],
   "source": []
  },
  {
   "cell_type": "code",
   "execution_count": null,
   "metadata": {},
   "outputs": [],
   "source": []
  },
  {
   "cell_type": "code",
   "execution_count": null,
   "metadata": {},
   "outputs": [],
   "source": []
  },
  {
   "cell_type": "code",
   "execution_count": null,
   "metadata": {},
   "outputs": [],
   "source": []
  }
 ],
 "metadata": {
  "kernelspec": {
   "display_name": "Python [conda env:Aulas_AI2] *",
   "language": "python",
   "name": "conda-env-Aulas_AI2-py"
  },
  "language_info": {
   "codemirror_mode": {
    "name": "ipython",
    "version": 3
   },
   "file_extension": ".py",
   "mimetype": "text/x-python",
   "name": "python",
   "nbconvert_exporter": "python",
   "pygments_lexer": "ipython3",
   "version": "3.7.6"
  }
 },
 "nbformat": 4,
 "nbformat_minor": 2
}
