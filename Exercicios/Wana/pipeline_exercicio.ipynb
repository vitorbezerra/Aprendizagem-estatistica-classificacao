{
 "cells": [
  {
   "cell_type": "markdown",
   "metadata": {},
   "source": [
    "# Exercicio\n",
    "\n",
    "#### Monte uma classificacao utilizando a base da veltec ou Senai\n",
    "\n",
    "#### Monte testes de avaliacao de diferentes classificadosres considerando:\n",
    "\n",
    "* Busca por hiperparametros(Considere testar parametros de regularizacao)\n",
    "* Buscar por features\n",
    "* Utilize um metodo de validacao cruzada"
   ]
  },
  {
   "cell_type": "code",
   "execution_count": 1,
   "metadata": {},
   "outputs": [],
   "source": [
    "#Classificadores Lineares\n",
    "from sklearn.linear_model import SGDClassifier\n",
    "from sklearn.linear_model import LogisticRegression\n",
    "\n",
    "#Classificador KNN\n",
    "from sklearn.neighbors import KNeighborsClassifier\n",
    "\n",
    "#Classificador Arvores de Decisão\n",
    "from sklearn.tree import DecisionTreeClassifier\n",
    "\n",
    "from sklearn.model_selection import train_test_split\n",
    "\n",
    "from sklearn.pipeline import Pipeline\n",
    "from sklearn.preprocessing import StandardScaler\n",
    "\n",
    "import pandas as pd\n",
    "import numpy as np"
   ]
  },
  {
   "cell_type": "code",
   "execution_count": 2,
   "metadata": {},
   "outputs": [
    {
     "data": {
      "text/plain": [
       "Index(['id_vei', 'id_uo_vei', 'id_motorista', 'id_uo_motorista',\n",
       "       'distancia_percorrida_km', 'qtd_banguela', 'qtd_curvas',\n",
       "       'qtd_aceleracoes', 'qtd_frenagens', 'qtd_vel_faixa_1',\n",
       "       'qtd_vel_faixa_2', 'qtd_vel_faixa_3', 'tempo_vel_faixa_1',\n",
       "       'tempo_vel_faixa_2', 'tempo_vel_faixa_3', 'qtd_vel_via_faixa_1',\n",
       "       'qtd_vel_via_faixa_2', 'qtd_vel_via_faixa_3', 'tempo_vel_via_faixa_1',\n",
       "       'tempo_vel_via_faixa_2', 'tempo_vel_via_faixa_3',\n",
       "       'qtd_manuseio_celular', 'qtd_fadiga_motorista',\n",
       "       'qtd_distracao_motorista', 'qtd_uso_cigarro', 'score_geral', 'rank'],\n",
       "      dtype='object')"
      ]
     },
     "execution_count": 2,
     "metadata": {},
     "output_type": "execute_result"
    }
   ],
   "source": [
    "df_veltec = pd.read_csv('./dados_veltec/vigencias_scores.csv', sep=',')\n",
    "df_veltec.columns"
   ]
  },
  {
   "cell_type": "code",
   "execution_count": 3,
   "metadata": {},
   "outputs": [
    {
     "data": {
      "text/html": [
       "<div>\n",
       "<style scoped>\n",
       "    .dataframe tbody tr th:only-of-type {\n",
       "        vertical-align: middle;\n",
       "    }\n",
       "\n",
       "    .dataframe tbody tr th {\n",
       "        vertical-align: top;\n",
       "    }\n",
       "\n",
       "    .dataframe thead th {\n",
       "        text-align: right;\n",
       "    }\n",
       "</style>\n",
       "<table border=\"1\" class=\"dataframe\">\n",
       "  <thead>\n",
       "    <tr style=\"text-align: right;\">\n",
       "      <th></th>\n",
       "      <th>id_vei</th>\n",
       "      <th>id_uo_vei</th>\n",
       "      <th>id_motorista</th>\n",
       "      <th>id_uo_motorista</th>\n",
       "      <th>distancia_percorrida_km</th>\n",
       "      <th>qtd_banguela</th>\n",
       "      <th>qtd_curvas</th>\n",
       "      <th>qtd_aceleracoes</th>\n",
       "      <th>qtd_frenagens</th>\n",
       "      <th>qtd_vel_faixa_1</th>\n",
       "      <th>...</th>\n",
       "      <th>qtd_vel_via_faixa_2</th>\n",
       "      <th>qtd_vel_via_faixa_3</th>\n",
       "      <th>tempo_vel_via_faixa_1</th>\n",
       "      <th>tempo_vel_via_faixa_2</th>\n",
       "      <th>tempo_vel_via_faixa_3</th>\n",
       "      <th>qtd_manuseio_celular</th>\n",
       "      <th>qtd_fadiga_motorista</th>\n",
       "      <th>qtd_distracao_motorista</th>\n",
       "      <th>qtd_uso_cigarro</th>\n",
       "      <th>score_geral</th>\n",
       "    </tr>\n",
       "  </thead>\n",
       "  <tbody>\n",
       "    <tr>\n",
       "      <th>0</th>\n",
       "      <td>66486</td>\n",
       "      <td>2855</td>\n",
       "      <td>636779.0</td>\n",
       "      <td>2950.0</td>\n",
       "      <td>234.420</td>\n",
       "      <td>0.0</td>\n",
       "      <td>0.0</td>\n",
       "      <td>0.0</td>\n",
       "      <td>0.0</td>\n",
       "      <td>0.0</td>\n",
       "      <td>...</td>\n",
       "      <td>0.0</td>\n",
       "      <td>1.0</td>\n",
       "      <td>208.0</td>\n",
       "      <td>0.0</td>\n",
       "      <td>1456.0</td>\n",
       "      <td>0.0</td>\n",
       "      <td>0.0</td>\n",
       "      <td>0.0</td>\n",
       "      <td>0.0</td>\n",
       "      <td>50.000000</td>\n",
       "    </tr>\n",
       "    <tr>\n",
       "      <th>1</th>\n",
       "      <td>8155</td>\n",
       "      <td>3321</td>\n",
       "      <td>636786.0</td>\n",
       "      <td>2950.0</td>\n",
       "      <td>114.083</td>\n",
       "      <td>0.0</td>\n",
       "      <td>0.0</td>\n",
       "      <td>0.0</td>\n",
       "      <td>4.0</td>\n",
       "      <td>0.0</td>\n",
       "      <td>...</td>\n",
       "      <td>0.0</td>\n",
       "      <td>0.0</td>\n",
       "      <td>0.0</td>\n",
       "      <td>0.0</td>\n",
       "      <td>0.0</td>\n",
       "      <td>0.0</td>\n",
       "      <td>0.0</td>\n",
       "      <td>0.0</td>\n",
       "      <td>0.0</td>\n",
       "      <td>78.962685</td>\n",
       "    </tr>\n",
       "    <tr>\n",
       "      <th>2</th>\n",
       "      <td>8577</td>\n",
       "      <td>3327</td>\n",
       "      <td>636592.0</td>\n",
       "      <td>2950.0</td>\n",
       "      <td>183.725</td>\n",
       "      <td>0.0</td>\n",
       "      <td>0.0</td>\n",
       "      <td>0.0</td>\n",
       "      <td>0.0</td>\n",
       "      <td>0.0</td>\n",
       "      <td>...</td>\n",
       "      <td>0.0</td>\n",
       "      <td>0.0</td>\n",
       "      <td>0.0</td>\n",
       "      <td>0.0</td>\n",
       "      <td>0.0</td>\n",
       "      <td>0.0</td>\n",
       "      <td>0.0</td>\n",
       "      <td>0.0</td>\n",
       "      <td>0.0</td>\n",
       "      <td>100.000000</td>\n",
       "    </tr>\n",
       "    <tr>\n",
       "      <th>3</th>\n",
       "      <td>7665</td>\n",
       "      <td>3581</td>\n",
       "      <td>636644.0</td>\n",
       "      <td>2950.0</td>\n",
       "      <td>702.525</td>\n",
       "      <td>0.0</td>\n",
       "      <td>0.0</td>\n",
       "      <td>0.0</td>\n",
       "      <td>3.0</td>\n",
       "      <td>0.0</td>\n",
       "      <td>...</td>\n",
       "      <td>0.0</td>\n",
       "      <td>1.0</td>\n",
       "      <td>0.0</td>\n",
       "      <td>0.0</td>\n",
       "      <td>0.0</td>\n",
       "      <td>0.0</td>\n",
       "      <td>0.0</td>\n",
       "      <td>0.0</td>\n",
       "      <td>0.0</td>\n",
       "      <td>97.437814</td>\n",
       "    </tr>\n",
       "    <tr>\n",
       "      <th>4</th>\n",
       "      <td>8427</td>\n",
       "      <td>2868</td>\n",
       "      <td>636989.0</td>\n",
       "      <td>2950.0</td>\n",
       "      <td>175.290</td>\n",
       "      <td>0.0</td>\n",
       "      <td>0.0</td>\n",
       "      <td>1.0</td>\n",
       "      <td>3.0</td>\n",
       "      <td>0.0</td>\n",
       "      <td>...</td>\n",
       "      <td>2.0</td>\n",
       "      <td>1.0</td>\n",
       "      <td>0.0</td>\n",
       "      <td>0.0</td>\n",
       "      <td>0.0</td>\n",
       "      <td>0.0</td>\n",
       "      <td>0.0</td>\n",
       "      <td>0.0</td>\n",
       "      <td>0.0</td>\n",
       "      <td>86.308403</td>\n",
       "    </tr>\n",
       "  </tbody>\n",
       "</table>\n",
       "<p>5 rows × 26 columns</p>\n",
       "</div>"
      ],
      "text/plain": [
       "   id_vei  id_uo_vei  id_motorista  id_uo_motorista  distancia_percorrida_km  \\\n",
       "0   66486       2855      636779.0           2950.0                  234.420   \n",
       "1    8155       3321      636786.0           2950.0                  114.083   \n",
       "2    8577       3327      636592.0           2950.0                  183.725   \n",
       "3    7665       3581      636644.0           2950.0                  702.525   \n",
       "4    8427       2868      636989.0           2950.0                  175.290   \n",
       "\n",
       "   qtd_banguela  qtd_curvas  qtd_aceleracoes  qtd_frenagens  qtd_vel_faixa_1  \\\n",
       "0           0.0         0.0              0.0            0.0              0.0   \n",
       "1           0.0         0.0              0.0            4.0              0.0   \n",
       "2           0.0         0.0              0.0            0.0              0.0   \n",
       "3           0.0         0.0              0.0            3.0              0.0   \n",
       "4           0.0         0.0              1.0            3.0              0.0   \n",
       "\n",
       "   ...  qtd_vel_via_faixa_2  qtd_vel_via_faixa_3  tempo_vel_via_faixa_1  \\\n",
       "0  ...                  0.0                  1.0                  208.0   \n",
       "1  ...                  0.0                  0.0                    0.0   \n",
       "2  ...                  0.0                  0.0                    0.0   \n",
       "3  ...                  0.0                  1.0                    0.0   \n",
       "4  ...                  2.0                  1.0                    0.0   \n",
       "\n",
       "   tempo_vel_via_faixa_2  tempo_vel_via_faixa_3  qtd_manuseio_celular  \\\n",
       "0                    0.0                 1456.0                   0.0   \n",
       "1                    0.0                    0.0                   0.0   \n",
       "2                    0.0                    0.0                   0.0   \n",
       "3                    0.0                    0.0                   0.0   \n",
       "4                    0.0                    0.0                   0.0   \n",
       "\n",
       "   qtd_fadiga_motorista  qtd_distracao_motorista  qtd_uso_cigarro  score_geral  \n",
       "0                   0.0                      0.0              0.0    50.000000  \n",
       "1                   0.0                      0.0              0.0    78.962685  \n",
       "2                   0.0                      0.0              0.0   100.000000  \n",
       "3                   0.0                      0.0              0.0    97.437814  \n",
       "4                   0.0                      0.0              0.0    86.308403  \n",
       "\n",
       "[5 rows x 26 columns]"
      ]
     },
     "execution_count": 3,
     "metadata": {},
     "output_type": "execute_result"
    }
   ],
   "source": [
    "X = df_veltec.drop(['rank'], axis=1)\n",
    "y = df_veltec[['rank']].values\n",
    "X.head()"
   ]
  },
  {
   "cell_type": "code",
   "execution_count": 14,
   "metadata": {},
   "outputs": [
    {
     "name": "stdout",
     "output_type": "stream",
     "text": [
      "(12642, 26)\n",
      "[[6.64860000e+04 2.85500000e+03 6.36779000e+05 ... 0.00000000e+00\n",
      "  1.45600000e+03 5.00000000e+01]\n",
      " [8.15500000e+03 3.32100000e+03 6.36786000e+05 ... 0.00000000e+00\n",
      "  0.00000000e+00 7.89626851e+01]\n",
      " [8.57700000e+03 3.32700000e+03 6.36592000e+05 ... 0.00000000e+00\n",
      "  0.00000000e+00 1.00000000e+02]\n",
      " ...\n",
      " [2.44030000e+04 2.87000000e+03 6.36570000e+05 ... 0.00000000e+00\n",
      "  5.21300000e+03 5.00000000e+01]\n",
      " [9.85300000e+03 2.86800000e+03 6.36811000e+05 ... 0.00000000e+00\n",
      "  0.00000000e+00 9.33547458e+01]\n",
      " [1.06130000e+04 2.87100000e+03 6.36636000e+05 ... 0.00000000e+00\n",
      "  0.00000000e+00 9.80148500e+01]]\n"
     ]
    }
   ],
   "source": [
    "from sklearn.feature_selection import SelectKBest\n",
    "from sklearn.feature_selection import chi2\n",
    "\n",
    "print(X.shape)\n",
    "X_new = SelectKBest(chi2, k=12).fit_transform(X, y)\n",
    "print(X_new)"
   ]
  },
  {
   "cell_type": "code",
   "execution_count": 15,
   "metadata": {},
   "outputs": [],
   "source": [
    "X_train, X_test, y_train, y_test = train_test_split(X_new,y, test_size=0.33)"
   ]
  },
  {
   "cell_type": "markdown",
   "metadata": {},
   "source": [
    "# Busca por hiperparametros\n",
    "\n",
    "> Hiperparametros sao as diversas parametrizações possíveis de um modelo de predição Usando gridsearchCV: busca todas as combinações definidas de hiperparametros, e retorna combinação com o melhor score\n",
    "\n"
   ]
  },
  {
   "cell_type": "code",
   "execution_count": 16,
   "metadata": {},
   "outputs": [],
   "source": [
    "\n",
    "def gridsearch(X_train, y_train, pipe):\n",
    "    from sklearn.model_selection import GridSearchCV\n",
    "    param_range = [1, 2, 3, 4, 5]\n",
    "\n",
    "    # grid search params\n",
    "    grid_params = [{'clf__criterion': ['gini', 'entropy'],\n",
    "             'clf__min_samples_leaf': param_range,\n",
    "             'clf__max_depth': param_range,\n",
    "             'clf__min_samples_split': param_range[1:]}]\n",
    "\n",
    "\n",
    "    # Construct grid search\n",
    "    gs = GridSearchCV(estimator=pipe,\n",
    "        param_grid=grid_params,\n",
    "        scoring='accuracy')\n",
    "\n",
    "    # Fit using grid search\n",
    "    gs.fit(X_train, y_train)\n",
    "\n",
    "    # Best accuracy\n",
    "    print('Best accuracy: %.3f' % gs.best_score_)\n",
    "\n",
    "    # Best params\n",
    "    print('\\nBest params:\\n', gs.best_params_)"
   ]
  },
  {
   "cell_type": "code",
   "execution_count": null,
   "metadata": {},
   "outputs": [
    {
     "name": "stdout",
     "output_type": "stream",
     "text": [
      "DecisitionTree\n",
      "\n"
     ]
    }
   ],
   "source": [
    "pipe_tree = Pipeline([('scl', StandardScaler()), ('clf', DecisionTreeClassifier())])\n",
    "print('DecisitionTree\\n')\n",
    "gridsearch(X_train, y_train, pipe_tree)"
   ]
  },
  {
   "cell_type": "code",
   "execution_count": null,
   "metadata": {},
   "outputs": [],
   "source": [
    "tree = DecisionTreeClassifier(criterion='gini', max_depth=3, min_samples_leaf=1, min_samples_split=2)\n",
    "y_pred = tree.fit(X_train, y_train)\n",
    "y_pred = tree.predict(X_test)\n",
    "\n",
    "print(tree.score(X_test, y_test))"
   ]
  },
  {
   "cell_type": "code",
   "execution_count": 9,
   "metadata": {},
   "outputs": [
    {
     "name": "stdout",
     "output_type": "stream",
     "text": [
      "scores:  [0.75560803 0.76505313 0.74025974 0.76151122 0.77331759 0.7485242\n",
      " 0.7579693  0.77922078 0.74970484 0.77095632]\n",
      "Acuracia: 76.02%\n"
     ]
    }
   ],
   "source": [
    "from sklearn.model_selection import KFold, cross_val_score\n",
    "\n",
    "kfold = KFold(n_splits=10, random_state=100, shuffle=True)\n",
    "model_kfold = DecisionTreeClassifier(criterion='gini', max_depth=3, min_samples_leaf=1, min_samples_split=2)\n",
    "results_kfold = cross_val_score(model_kfold, X_train, y_train, cv=kfold)\n",
    "\n",
    "print(\"scores: \", results_kfold) \n",
    "print(\"Acuracia: %.2f%%\" % (results_kfold.mean()*100.0))"
   ]
  },
  {
   "cell_type": "code",
   "execution_count": 10,
   "metadata": {},
   "outputs": [
    {
     "name": "stdout",
     "output_type": "stream",
     "text": [
      "classification report:\n",
      "              precision    recall  f1-score   support\n",
      "\n",
      "         bom       0.00      0.00      0.00       312\n",
      "       otimo       0.84      0.96      0.89      2561\n",
      "     pessimo       0.00      0.00      0.00       203\n",
      "     regular       0.00      0.00      0.00       315\n",
      "        ruim       0.60      0.94      0.73       781\n",
      "\n",
      "    accuracy                           0.77      4172\n",
      "   macro avg       0.29      0.38      0.32      4172\n",
      "weighted avg       0.63      0.77      0.69      4172\n",
      "\n"
     ]
    },
    {
     "name": "stderr",
     "output_type": "stream",
     "text": [
      "/home/wanabb/miniconda3/lib/python3.7/site-packages/sklearn/metrics/_classification.py:1272: UndefinedMetricWarning: Precision and F-score are ill-defined and being set to 0.0 in labels with no predicted samples. Use `zero_division` parameter to control this behavior.\n",
      "  _warn_prf(average, modifier, msg_start, len(result))\n"
     ]
    }
   ],
   "source": [
    "from sklearn.metrics import classification_report\n",
    "print(\"classification report:\")\n",
    "y_true, Y_pred = y_test, tree.predict(X_test)\n",
    "print(classification_report(y_true, y_pred))"
   ]
  },
  {
   "cell_type": "code",
   "execution_count": null,
   "metadata": {},
   "outputs": [],
   "source": []
  }
 ],
 "metadata": {
  "kernelspec": {
   "display_name": "Python 3",
   "language": "python",
   "name": "python3"
  },
  "language_info": {
   "codemirror_mode": {
    "name": "ipython",
    "version": 3
   },
   "file_extension": ".py",
   "mimetype": "text/x-python",
   "name": "python",
   "nbconvert_exporter": "python",
   "pygments_lexer": "ipython3",
   "version": "3.7.3"
  }
 },
 "nbformat": 4,
 "nbformat_minor": 4
}
