{
 "cells": [
  {
   "cell_type": "code",
   "execution_count": 6,
   "metadata": {},
   "outputs": [],
   "source": [
    "#importar modelos, preprocessing, regularizacao, kbest, pipeline, kfold, oneVsrest, joblib, gridsearch, numpy \n",
    "import pandas as pd\n",
    "import numpy as np\n",
    "from sklearn.linear_model import RidgeClassifier, LogisticRegression, SGDClassifier\n",
    "from sklearn.tree import DecisionTreeClassifier\n",
    "from sklearn.neighbors import KNeighborsClassifier\n",
    "from sklearn import preprocessing\n",
    "\n",
    "from sklearn.naive_bayes import MultinomialNB\n",
    "from sklearn.svm import SVC\n",
    "\n",
    "from sklearn.model_selection import train_test_split\n",
    "\n",
    "from sklearn.metrics import confusion_matrix, precision_score, recall_score, f1_score, roc_curve, roc_auc_score, classification_report\n",
    "\n",
    "from sklearn.preprocessing import StandardScaler\n",
    "\n",
    "import matplotlib.pyplot as plt\n",
    "import math\n",
    "\n",
    "from sklearn import linear_model\n",
    "from scipy.special import expit\n",
    "\n",
    "from sklearn.metrics import confusion_matrix\n",
    "import scipy\n",
    "from scipy.io import arff\n",
    "\n",
    "from sklearn.datasets import fetch_olivetti_faces\n",
    "from sklearn.svm import SVC\n",
    "from sklearn.model_selection import cross_validate\n",
    "from sklearn.preprocessing import StandardScaler\n",
    "from sklearn.pipeline import Pipeline\n",
    "from sklearn.metrics import accuracy_score\n",
    "from sklearn.pipeline import Pipeline, FeatureUnion, make_pipeline\n",
    "from sklearn.externals import joblib\n",
    "\n",
    "from sklearn.model_selection import GridSearchCV, RandomizedSearchCV\n",
    "from sklearn.model_selection import KFold, cross_val_score, LeaveOneOut"
   ]
  },
  {
   "cell_type": "markdown",
   "metadata": {},
   "source": []
  },
  {
   "cell_type": "code",
   "execution_count": 48,
   "metadata": {},
   "outputs": [],
   "source": [
    "df = pd.read_csv('Datasets/alumni/senai_inep.csv')\n",
    "\n",
    "X = df.drop(['TP_SITUACAO'], axis=1)\n",
    "y = df['TP_SITUACAO']\n",
    "\n",
    "X = X.drop(['ID_ALUNO'], axis=1)\n",
    "\n",
    "le = preprocessing.LabelEncoder()\n",
    "\n",
    "X['NO_IES'] = le.fit_transform(X['NO_IES'])\n",
    "X['NO_CURSO'] = le.fit_transform(X['NO_CURSO'])\n",
    "\n"
   ]
  },
  {
   "cell_type": "code",
   "execution_count": 49,
   "metadata": {},
   "outputs": [
    {
     "name": "stderr",
     "output_type": "stream",
     "text": [
      "/home/leticia/miniconda3/envs/ambi/lib/python3.7/site-packages/ipykernel_launcher.py:8: SettingWithCopyWarning: \n",
      "A value is trying to be set on a copy of a slice from a DataFrame\n",
      "\n",
      "See the caveats in the documentation: http://pandas.pydata.org/pandas-docs/stable/user_guide/indexing.html#returning-a-view-versus-a-copy\n",
      "  \n"
     ]
    }
   ],
   "source": [
    "import datetime\n",
    "\n",
    "# TRANSFORMANDO COLUNA EM DATA\n",
    "dias = []\n",
    "meses = []\n",
    "anos = []\n",
    "for i in range(len(X['DT_INGRESSO_CURSO'])):\n",
    "    X['DT_INGRESSO_CURSO'][i] = datetime.datetime.strptime(X['DT_INGRESSO_CURSO'][i].title()[0:9], '%d%b%Y')\n",
    "    dias.append(X['DT_INGRESSO_CURSO'][i].day)\n",
    "    meses.append(X['DT_INGRESSO_CURSO'][i].month)\n",
    "    anos.append(X['DT_INGRESSO_CURSO'][i].year)\n",
    "    \n",
    "X['dia']=dias\n",
    "X['mes']=meses\n",
    "X['ano']=anos\n",
    "X = X.drop(['DT_INGRESSO_CURSO'], axis=1)"
   ]
  },
  {
   "cell_type": "markdown",
   "metadata": {},
   "source": [
    "### Best features"
   ]
  },
  {
   "cell_type": "code",
   "execution_count": 51,
   "metadata": {},
   "outputs": [
    {
     "data": {
      "text/html": [
       "<div>\n",
       "<style scoped>\n",
       "    .dataframe tbody tr th:only-of-type {\n",
       "        vertical-align: middle;\n",
       "    }\n",
       "\n",
       "    .dataframe tbody tr th {\n",
       "        vertical-align: top;\n",
       "    }\n",
       "\n",
       "    .dataframe thead th {\n",
       "        text-align: right;\n",
       "    }\n",
       "</style>\n",
       "<table border=\"1\" class=\"dataframe\">\n",
       "  <thead>\n",
       "    <tr style=\"text-align: right;\">\n",
       "      <th></th>\n",
       "      <th>0</th>\n",
       "      <th>1</th>\n",
       "      <th>2</th>\n",
       "      <th>3</th>\n",
       "      <th>4</th>\n",
       "      <th>5</th>\n",
       "      <th>6</th>\n",
       "      <th>7</th>\n",
       "      <th>8</th>\n",
       "      <th>9</th>\n",
       "    </tr>\n",
       "  </thead>\n",
       "  <tbody>\n",
       "    <tr>\n",
       "      <td>0</td>\n",
       "      <td>1400.0</td>\n",
       "      <td>1.0</td>\n",
       "      <td>20516.0</td>\n",
       "      <td>30.0</td>\n",
       "      <td>0.0</td>\n",
       "      <td>0.0</td>\n",
       "      <td>1.0</td>\n",
       "      <td>0.0</td>\n",
       "      <td>0.0</td>\n",
       "      <td>7.0</td>\n",
       "    </tr>\n",
       "    <tr>\n",
       "      <td>1</td>\n",
       "      <td>1400.0</td>\n",
       "      <td>1.0</td>\n",
       "      <td>20516.0</td>\n",
       "      <td>57.0</td>\n",
       "      <td>0.0</td>\n",
       "      <td>0.0</td>\n",
       "      <td>1.0</td>\n",
       "      <td>1.0</td>\n",
       "      <td>1.0</td>\n",
       "      <td>7.0</td>\n",
       "    </tr>\n",
       "    <tr>\n",
       "      <td>2</td>\n",
       "      <td>1400.0</td>\n",
       "      <td>1.0</td>\n",
       "      <td>20516.0</td>\n",
       "      <td>29.0</td>\n",
       "      <td>0.0</td>\n",
       "      <td>0.0</td>\n",
       "      <td>1.0</td>\n",
       "      <td>1.0</td>\n",
       "      <td>1.0</td>\n",
       "      <td>1.0</td>\n",
       "    </tr>\n",
       "    <tr>\n",
       "      <td>3</td>\n",
       "      <td>1400.0</td>\n",
       "      <td>1.0</td>\n",
       "      <td>20516.0</td>\n",
       "      <td>38.0</td>\n",
       "      <td>0.0</td>\n",
       "      <td>0.0</td>\n",
       "      <td>9.0</td>\n",
       "      <td>0.0</td>\n",
       "      <td>0.0</td>\n",
       "      <td>1.0</td>\n",
       "    </tr>\n",
       "    <tr>\n",
       "      <td>4</td>\n",
       "      <td>1400.0</td>\n",
       "      <td>1.0</td>\n",
       "      <td>20516.0</td>\n",
       "      <td>31.0</td>\n",
       "      <td>0.0</td>\n",
       "      <td>0.0</td>\n",
       "      <td>1.0</td>\n",
       "      <td>0.0</td>\n",
       "      <td>0.0</td>\n",
       "      <td>1.0</td>\n",
       "    </tr>\n",
       "    <tr>\n",
       "      <td>...</td>\n",
       "      <td>...</td>\n",
       "      <td>...</td>\n",
       "      <td>...</td>\n",
       "      <td>...</td>\n",
       "      <td>...</td>\n",
       "      <td>...</td>\n",
       "      <td>...</td>\n",
       "      <td>...</td>\n",
       "      <td>...</td>\n",
       "      <td>...</td>\n",
       "    </tr>\n",
       "    <tr>\n",
       "      <td>3304</td>\n",
       "      <td>14786.0</td>\n",
       "      <td>5.0</td>\n",
       "      <td>1332810.0</td>\n",
       "      <td>47.0</td>\n",
       "      <td>0.0</td>\n",
       "      <td>0.0</td>\n",
       "      <td>1.0</td>\n",
       "      <td>1.0</td>\n",
       "      <td>0.0</td>\n",
       "      <td>1.0</td>\n",
       "    </tr>\n",
       "    <tr>\n",
       "      <td>3305</td>\n",
       "      <td>14786.0</td>\n",
       "      <td>5.0</td>\n",
       "      <td>1332810.0</td>\n",
       "      <td>19.0</td>\n",
       "      <td>0.0</td>\n",
       "      <td>0.0</td>\n",
       "      <td>1.0</td>\n",
       "      <td>1.0</td>\n",
       "      <td>0.0</td>\n",
       "      <td>1.0</td>\n",
       "    </tr>\n",
       "    <tr>\n",
       "      <td>3306</td>\n",
       "      <td>15445.0</td>\n",
       "      <td>0.0</td>\n",
       "      <td>1258151.0</td>\n",
       "      <td>27.0</td>\n",
       "      <td>0.0</td>\n",
       "      <td>0.0</td>\n",
       "      <td>1.0</td>\n",
       "      <td>1.0</td>\n",
       "      <td>1.0</td>\n",
       "      <td>7.0</td>\n",
       "    </tr>\n",
       "    <tr>\n",
       "      <td>3307</td>\n",
       "      <td>15445.0</td>\n",
       "      <td>0.0</td>\n",
       "      <td>1258151.0</td>\n",
       "      <td>22.0</td>\n",
       "      <td>0.0</td>\n",
       "      <td>0.0</td>\n",
       "      <td>1.0</td>\n",
       "      <td>1.0</td>\n",
       "      <td>1.0</td>\n",
       "      <td>7.0</td>\n",
       "    </tr>\n",
       "    <tr>\n",
       "      <td>3308</td>\n",
       "      <td>15445.0</td>\n",
       "      <td>0.0</td>\n",
       "      <td>1258151.0</td>\n",
       "      <td>24.0</td>\n",
       "      <td>0.0</td>\n",
       "      <td>0.0</td>\n",
       "      <td>1.0</td>\n",
       "      <td>0.0</td>\n",
       "      <td>0.0</td>\n",
       "      <td>1.0</td>\n",
       "    </tr>\n",
       "  </tbody>\n",
       "</table>\n",
       "<p>3309 rows × 10 columns</p>\n",
       "</div>"
      ],
      "text/plain": [
       "            0    1          2     3    4    5    6    7    8    9\n",
       "0      1400.0  1.0    20516.0  30.0  0.0  0.0  1.0  0.0  0.0  7.0\n",
       "1      1400.0  1.0    20516.0  57.0  0.0  0.0  1.0  1.0  1.0  7.0\n",
       "2      1400.0  1.0    20516.0  29.0  0.0  0.0  1.0  1.0  1.0  1.0\n",
       "3      1400.0  1.0    20516.0  38.0  0.0  0.0  9.0  0.0  0.0  1.0\n",
       "4      1400.0  1.0    20516.0  31.0  0.0  0.0  1.0  0.0  0.0  1.0\n",
       "...       ...  ...        ...   ...  ...  ...  ...  ...  ...  ...\n",
       "3304  14786.0  5.0  1332810.0  47.0  0.0  0.0  1.0  1.0  0.0  1.0\n",
       "3305  14786.0  5.0  1332810.0  19.0  0.0  0.0  1.0  1.0  0.0  1.0\n",
       "3306  15445.0  0.0  1258151.0  27.0  0.0  0.0  1.0  1.0  1.0  7.0\n",
       "3307  15445.0  0.0  1258151.0  22.0  0.0  0.0  1.0  1.0  1.0  7.0\n",
       "3308  15445.0  0.0  1258151.0  24.0  0.0  0.0  1.0  0.0  0.0  1.0\n",
       "\n",
       "[3309 rows x 10 columns]"
      ]
     },
     "metadata": {},
     "output_type": "display_data"
    }
   ],
   "source": [
    "from sklearn.datasets import load_iris\n",
    "from sklearn.feature_selection import SelectKBest\n",
    "from sklearn.feature_selection import chi2\n",
    "\n",
    "X_new = SelectKBest(chi2, k=10).fit_transform(X, y)\n",
    "\n",
    "\n",
    "X_train, X_test, y_train, y_test = train_test_split(X_new,y, test_size=0.1)\n",
    "\n",
    "display(pd.DataFrame(X_new))"
   ]
  },
  {
   "cell_type": "markdown",
   "metadata": {},
   "source": [
    "### Kfold stratified"
   ]
  },
  {
   "cell_type": "code",
   "execution_count": 53,
   "metadata": {},
   "outputs": [
    {
     "name": "stdout",
     "output_type": "stream",
     "text": [
      "scores:  [0.87525151 0.87525151 0.87525151 0.875      0.875      0.87676768]\n",
      "Accuracy: 87.54%\n"
     ]
    }
   ],
   "source": [
    "from sklearn.model_selection import StratifiedKFold\n",
    "\n",
    "skfold = StratifiedKFold(n_splits=6, random_state=100)\n",
    "model_skfold = SGDClassifier()\n",
    "results_skfold = cross_val_score(model_skfold, X_train, y_train, cv=skfold)\n",
    "print(\"scores: \", results_skfold) \n",
    "print(\"Accuracy: %.2f%%\" % (results_skfold.mean()*100.0))"
   ]
  },
  {
   "cell_type": "code",
   "execution_count": 54,
   "metadata": {},
   "outputs": [
    {
     "name": "stdout",
     "output_type": "stream",
     "text": [
      "scores:  [0.87726358 0.85311871 0.88933602 0.8891129  0.87298387 0.87676768]\n",
      "Accuracy: 87.64%\n"
     ]
    }
   ],
   "source": [
    "from sklearn.model_selection import StratifiedKFold\n",
    "\n",
    "skfold = StratifiedKFold(n_splits=6, random_state=100)\n",
    "model_skfold = DecisionTreeClassifier()\n",
    "results_skfold = cross_val_score(model_skfold, X_train, y_train, cv=skfold)\n",
    "print(\"scores: \", results_skfold) \n",
    "print(\"Accuracy: %.2f%%\" % (results_skfold.mean()*100.0))"
   ]
  },
  {
   "cell_type": "code",
   "execution_count": 56,
   "metadata": {},
   "outputs": [
    {
     "name": "stdout",
     "output_type": "stream",
     "text": [
      "scores:  [0.85915493 0.86921529 0.8832998  0.88306452 0.85685484 0.87878788]\n",
      "Accuracy: 87.17%\n"
     ]
    }
   ],
   "source": [
    "from sklearn.model_selection import StratifiedKFold\n",
    "\n",
    "skfold = StratifiedKFold(n_splits=6, random_state=100)\n",
    "model_skfold = KNeighborsClassifier()\n",
    "results_skfold = cross_val_score(model_skfold, X_train, y_train, cv=skfold)\n",
    "print(\"scores: \", results_skfold) \n",
    "print(\"Accuracy: %.2f%%\" % (results_skfold.mean()*100.0))"
   ]
  },
  {
   "cell_type": "markdown",
   "metadata": {},
   "source": [
    "### Falta criar os pipelines e aplicar algum exemplo com gridsearch"
   ]
  },
  {
   "cell_type": "code",
   "execution_count": null,
   "metadata": {},
   "outputs": [],
   "source": []
  }
 ],
 "metadata": {
  "kernelspec": {
   "display_name": "Python [conda env:ambi] *",
   "language": "python",
   "name": "conda-env-ambi-py"
  },
  "language_info": {
   "codemirror_mode": {
    "name": "ipython",
    "version": 3
   },
   "file_extension": ".py",
   "mimetype": "text/x-python",
   "name": "python",
   "nbconvert_exporter": "python",
   "pygments_lexer": "ipython3",
   "version": "3.7.4"
  }
 },
 "nbformat": 4,
 "nbformat_minor": 2
}
