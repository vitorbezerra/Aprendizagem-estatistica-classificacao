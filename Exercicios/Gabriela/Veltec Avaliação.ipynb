{
 "cells": [
  {
   "cell_type": "code",
   "execution_count": 1,
   "metadata": {},
   "outputs": [
    {
     "name": "stderr",
     "output_type": "stream",
     "text": [
      "/home/gykimura/miniconda3/envs/boticario/lib/python3.7/site-packages/sklearn/externals/joblib/__init__.py:15: DeprecationWarning: sklearn.externals.joblib is deprecated in 0.21 and will be removed in 0.23. Please import this functionality directly from joblib, which can be installed with: pip install joblib. If this warning is raised when loading pickled models, you may need to re-serialize those models with scikit-learn 0.21+.\n",
      "  warnings.warn(msg, category=DeprecationWarning)\n"
     ]
    }
   ],
   "source": [
    "from sklearn.linear_model import SGDClassifier, RidgeClassifier, LogisticRegression\n",
    "from sklearn.naive_bayes import GaussianNB, MultinomialNB\n",
    "from sklearn.model_selection import train_test_split\n",
    "from sklearn.model_selection import StratifiedKFold\n",
    "from sklearn.ensemble import RandomForestClassifier\n",
    "from sklearn.neighbors import KNeighborsClassifier\n",
    "from sklearn.metrics import classification_report\n",
    "from sklearn.multiclass import OneVsRestClassifier\n",
    "from sklearn.preprocessing import StandardScaler\n",
    "from sklearn.tree import DecisionTreeClassifier\n",
    "from sklearn.metrics import confusion_matrix\n",
    "from sklearn import preprocessing\n",
    "import matplotlib.pyplot as plt\n",
    "from scipy.special import expit\n",
    "from scipy.io import arff\n",
    "import numpy as np\n",
    "import pandas as pd\n",
    "import scipy\n",
    "\n",
    "from sklearn.pipeline import Pipeline, FeatureUnion, make_pipeline\n",
    "from sklearn.externals import joblib\n",
    "from sklearn.model_selection import GridSearchCV, RandomizedSearchCV\n",
    "from sklearn.model_selection import KFold, cross_val_score, LeaveOneOut"
   ]
  },
  {
   "cell_type": "markdown",
   "metadata": {},
   "source": [
    "## Veltec - Ranking de Motoristas"
   ]
  },
  {
   "cell_type": "code",
   "execution_count": 1,
   "metadata": {},
   "outputs": [
    {
     "ename": "NameError",
     "evalue": "name 'pd' is not defined",
     "output_type": "error",
     "traceback": [
      "\u001b[0;31m---------------------------------------------------------------------------\u001b[0m",
      "\u001b[0;31mNameError\u001b[0m                                 Traceback (most recent call last)",
      "\u001b[0;32m<ipython-input-1-690a9fc6efdb>\u001b[0m in \u001b[0;36m<module>\u001b[0;34m\u001b[0m\n\u001b[0;32m----> 1\u001b[0;31m \u001b[0mdf\u001b[0m \u001b[0;34m=\u001b[0m \u001b[0mpd\u001b[0m\u001b[0;34m.\u001b[0m\u001b[0mread_csv\u001b[0m\u001b[0;34m(\u001b[0m\u001b[0;34m\"./../../veltec_dados/vigencias_scores.csv\"\u001b[0m\u001b[0;34m,\u001b[0m\u001b[0msep\u001b[0m\u001b[0;34m=\u001b[0m\u001b[0;34m','\u001b[0m\u001b[0;34m)\u001b[0m\u001b[0;34m\u001b[0m\u001b[0;34m\u001b[0m\u001b[0m\n\u001b[0m\u001b[1;32m      2\u001b[0m \u001b[0mdf\u001b[0m\u001b[0;34m\u001b[0m\u001b[0;34m\u001b[0m\u001b[0m\n",
      "\u001b[0;31mNameError\u001b[0m: name 'pd' is not defined"
     ]
    }
   ],
   "source": [
    "df = pd.read_csv(\"./../../veltec_dados/vigencias_scores.csv\",sep=',')\n",
    "df"
   ]
  },
  {
   "cell_type": "markdown",
   "metadata": {},
   "source": [
    "#### Encode coluna de ranking"
   ]
  },
  {
   "cell_type": "code",
   "execution_count": 3,
   "metadata": {},
   "outputs": [
    {
     "data": {
      "text/html": [
       "<div>\n",
       "<style scoped>\n",
       "    .dataframe tbody tr th:only-of-type {\n",
       "        vertical-align: middle;\n",
       "    }\n",
       "\n",
       "    .dataframe tbody tr th {\n",
       "        vertical-align: top;\n",
       "    }\n",
       "\n",
       "    .dataframe thead th {\n",
       "        text-align: right;\n",
       "    }\n",
       "</style>\n",
       "<table border=\"1\" class=\"dataframe\">\n",
       "  <thead>\n",
       "    <tr style=\"text-align: right;\">\n",
       "      <th></th>\n",
       "      <th>id_vei</th>\n",
       "      <th>id_uo_vei</th>\n",
       "      <th>id_motorista</th>\n",
       "      <th>id_uo_motorista</th>\n",
       "      <th>distancia_percorrida_km</th>\n",
       "      <th>qtd_banguela</th>\n",
       "      <th>qtd_curvas</th>\n",
       "      <th>qtd_aceleracoes</th>\n",
       "      <th>qtd_frenagens</th>\n",
       "      <th>qtd_vel_faixa_1</th>\n",
       "      <th>...</th>\n",
       "      <th>qtd_vel_via_faixa_3</th>\n",
       "      <th>tempo_vel_via_faixa_1</th>\n",
       "      <th>tempo_vel_via_faixa_2</th>\n",
       "      <th>tempo_vel_via_faixa_3</th>\n",
       "      <th>qtd_manuseio_celular</th>\n",
       "      <th>qtd_fadiga_motorista</th>\n",
       "      <th>qtd_distracao_motorista</th>\n",
       "      <th>qtd_uso_cigarro</th>\n",
       "      <th>score_geral</th>\n",
       "      <th>rank</th>\n",
       "    </tr>\n",
       "  </thead>\n",
       "  <tbody>\n",
       "    <tr>\n",
       "      <th>0</th>\n",
       "      <td>66486</td>\n",
       "      <td>2855</td>\n",
       "      <td>636779.0</td>\n",
       "      <td>2950.0</td>\n",
       "      <td>234.420</td>\n",
       "      <td>0.0</td>\n",
       "      <td>0.0</td>\n",
       "      <td>0.0</td>\n",
       "      <td>0.0</td>\n",
       "      <td>0.0</td>\n",
       "      <td>...</td>\n",
       "      <td>1.0</td>\n",
       "      <td>208.0</td>\n",
       "      <td>0.0</td>\n",
       "      <td>1456.0</td>\n",
       "      <td>0.0</td>\n",
       "      <td>0.0</td>\n",
       "      <td>0.0</td>\n",
       "      <td>0.0</td>\n",
       "      <td>50.000000</td>\n",
       "      <td>4</td>\n",
       "    </tr>\n",
       "    <tr>\n",
       "      <th>1</th>\n",
       "      <td>8155</td>\n",
       "      <td>3321</td>\n",
       "      <td>636786.0</td>\n",
       "      <td>2950.0</td>\n",
       "      <td>114.083</td>\n",
       "      <td>0.0</td>\n",
       "      <td>0.0</td>\n",
       "      <td>0.0</td>\n",
       "      <td>4.0</td>\n",
       "      <td>0.0</td>\n",
       "      <td>...</td>\n",
       "      <td>0.0</td>\n",
       "      <td>0.0</td>\n",
       "      <td>0.0</td>\n",
       "      <td>0.0</td>\n",
       "      <td>0.0</td>\n",
       "      <td>0.0</td>\n",
       "      <td>0.0</td>\n",
       "      <td>0.0</td>\n",
       "      <td>78.962685</td>\n",
       "      <td>3</td>\n",
       "    </tr>\n",
       "    <tr>\n",
       "      <th>2</th>\n",
       "      <td>8577</td>\n",
       "      <td>3327</td>\n",
       "      <td>636592.0</td>\n",
       "      <td>2950.0</td>\n",
       "      <td>183.725</td>\n",
       "      <td>0.0</td>\n",
       "      <td>0.0</td>\n",
       "      <td>0.0</td>\n",
       "      <td>0.0</td>\n",
       "      <td>0.0</td>\n",
       "      <td>...</td>\n",
       "      <td>0.0</td>\n",
       "      <td>0.0</td>\n",
       "      <td>0.0</td>\n",
       "      <td>0.0</td>\n",
       "      <td>0.0</td>\n",
       "      <td>0.0</td>\n",
       "      <td>0.0</td>\n",
       "      <td>0.0</td>\n",
       "      <td>100.000000</td>\n",
       "      <td>1</td>\n",
       "    </tr>\n",
       "    <tr>\n",
       "      <th>3</th>\n",
       "      <td>7665</td>\n",
       "      <td>3581</td>\n",
       "      <td>636644.0</td>\n",
       "      <td>2950.0</td>\n",
       "      <td>702.525</td>\n",
       "      <td>0.0</td>\n",
       "      <td>0.0</td>\n",
       "      <td>0.0</td>\n",
       "      <td>3.0</td>\n",
       "      <td>0.0</td>\n",
       "      <td>...</td>\n",
       "      <td>1.0</td>\n",
       "      <td>0.0</td>\n",
       "      <td>0.0</td>\n",
       "      <td>0.0</td>\n",
       "      <td>0.0</td>\n",
       "      <td>0.0</td>\n",
       "      <td>0.0</td>\n",
       "      <td>0.0</td>\n",
       "      <td>97.437814</td>\n",
       "      <td>1</td>\n",
       "    </tr>\n",
       "    <tr>\n",
       "      <th>4</th>\n",
       "      <td>8427</td>\n",
       "      <td>2868</td>\n",
       "      <td>636989.0</td>\n",
       "      <td>2950.0</td>\n",
       "      <td>175.290</td>\n",
       "      <td>0.0</td>\n",
       "      <td>0.0</td>\n",
       "      <td>1.0</td>\n",
       "      <td>3.0</td>\n",
       "      <td>0.0</td>\n",
       "      <td>...</td>\n",
       "      <td>1.0</td>\n",
       "      <td>0.0</td>\n",
       "      <td>0.0</td>\n",
       "      <td>0.0</td>\n",
       "      <td>0.0</td>\n",
       "      <td>0.0</td>\n",
       "      <td>0.0</td>\n",
       "      <td>0.0</td>\n",
       "      <td>86.308403</td>\n",
       "      <td>0</td>\n",
       "    </tr>\n",
       "  </tbody>\n",
       "</table>\n",
       "<p>5 rows × 27 columns</p>\n",
       "</div>"
      ],
      "text/plain": [
       "   id_vei  id_uo_vei  id_motorista  id_uo_motorista  distancia_percorrida_km  \\\n",
       "0   66486       2855      636779.0           2950.0                  234.420   \n",
       "1    8155       3321      636786.0           2950.0                  114.083   \n",
       "2    8577       3327      636592.0           2950.0                  183.725   \n",
       "3    7665       3581      636644.0           2950.0                  702.525   \n",
       "4    8427       2868      636989.0           2950.0                  175.290   \n",
       "\n",
       "   qtd_banguela  qtd_curvas  qtd_aceleracoes  qtd_frenagens  qtd_vel_faixa_1  \\\n",
       "0           0.0         0.0              0.0            0.0              0.0   \n",
       "1           0.0         0.0              0.0            4.0              0.0   \n",
       "2           0.0         0.0              0.0            0.0              0.0   \n",
       "3           0.0         0.0              0.0            3.0              0.0   \n",
       "4           0.0         0.0              1.0            3.0              0.0   \n",
       "\n",
       "   ...  qtd_vel_via_faixa_3  tempo_vel_via_faixa_1  tempo_vel_via_faixa_2  \\\n",
       "0  ...                  1.0                  208.0                    0.0   \n",
       "1  ...                  0.0                    0.0                    0.0   \n",
       "2  ...                  0.0                    0.0                    0.0   \n",
       "3  ...                  1.0                    0.0                    0.0   \n",
       "4  ...                  1.0                    0.0                    0.0   \n",
       "\n",
       "   tempo_vel_via_faixa_3  qtd_manuseio_celular  qtd_fadiga_motorista  \\\n",
       "0                 1456.0                   0.0                   0.0   \n",
       "1                    0.0                   0.0                   0.0   \n",
       "2                    0.0                   0.0                   0.0   \n",
       "3                    0.0                   0.0                   0.0   \n",
       "4                    0.0                   0.0                   0.0   \n",
       "\n",
       "   qtd_distracao_motorista  qtd_uso_cigarro  score_geral  rank  \n",
       "0                      0.0              0.0    50.000000     4  \n",
       "1                      0.0              0.0    78.962685     3  \n",
       "2                      0.0              0.0   100.000000     1  \n",
       "3                      0.0              0.0    97.437814     1  \n",
       "4                      0.0              0.0    86.308403     0  \n",
       "\n",
       "[5 rows x 27 columns]"
      ]
     },
     "execution_count": 3,
     "metadata": {},
     "output_type": "execute_result"
    }
   ],
   "source": [
    "le = preprocessing.LabelEncoder()\n",
    "df[\"rank\"] = le.fit_transform(df[\"rank\"])\n",
    "df.head()"
   ]
  },
  {
   "cell_type": "markdown",
   "metadata": {},
   "source": [
    "#### Divide treinamento e teste"
   ]
  },
  {
   "cell_type": "code",
   "execution_count": 4,
   "metadata": {},
   "outputs": [],
   "source": [
    "X = df.drop(['rank'],axis=1)\n",
    "y = df['rank']"
   ]
  },
  {
   "cell_type": "code",
   "execution_count": 5,
   "metadata": {},
   "outputs": [],
   "source": [
    "X_train, X_test, y_train, y_test = train_test_split(X,y, test_size=0.3)"
   ]
  },
  {
   "cell_type": "markdown",
   "metadata": {},
   "source": [
    "### Pipeline para testar classificadores"
   ]
  },
  {
   "cell_type": "code",
   "execution_count": 6,
   "metadata": {},
   "outputs": [
    {
     "name": "stderr",
     "output_type": "stream",
     "text": [
      "/home/gykimura/miniconda3/envs/boticario/lib/python3.7/site-packages/sklearn/linear_model/logistic.py:432: FutureWarning: Default solver will be changed to 'lbfgs' in 0.22. Specify a solver to silence this warning.\n",
      "  FutureWarning)\n",
      "/home/gykimura/miniconda3/envs/boticario/lib/python3.7/site-packages/sklearn/linear_model/logistic.py:469: FutureWarning: Default multi_class will be changed to 'auto' in 0.22. Specify the multi_class option to silence this warning.\n",
      "  \"this warning.\", FutureWarning)\n"
     ]
    },
    {
     "name": "stdout",
     "output_type": "stream",
     "text": [
      "Logistic Regression pipeline test accuracy: 0.903\n",
      "KNN pipeline test accuracy: 0.928\n",
      "Decision Tree pipeline test accuracy: 1.000\n",
      "Naive Bayes pipeline test accuracy: 0.754\n",
      "Ridge pipeline test accuracy: 0.813\n",
      "Classifier with best accuracy: Decision Tree\n"
     ]
    }
   ],
   "source": [
    "# pipelines\n",
    "\n",
    "plr = Pipeline( [ ('scl', StandardScaler()), ('clf', LogisticRegression()) ] )\n",
    "pknn = Pipeline( [ ('scl', StandardScaler()), ('clf', KNeighborsClassifier(n_neighbors=3)) ] )\n",
    "pdt = Pipeline( [ ('scl', StandardScaler()), ('clf', DecisionTreeClassifier()) ] )\n",
    "pnb = Pipeline( [ ('scl', StandardScaler()), ('clf', GaussianNB()) ] )\n",
    "pr = Pipeline( [ ('scl', StandardScaler()), ('clf', RidgeClassifier()) ] )\n",
    "\n",
    "pipelines = [plr, pknn, pdt, pnb, pr]\n",
    "\n",
    "pipe_dict = {0:'Logistic Regression',1:'KNN',2:'Decision Tree',3:'Naive Bayes', 4:'Ridge'}\n",
    "\n",
    "for pipe in pipelines:\n",
    "    pipe.fit(X_train, y_train)\n",
    "    \n",
    "for idx, val in enumerate(pipelines):\n",
    "    print('%s pipeline test accuracy: %.3f' % (pipe_dict[idx], val.score(X_test, y_test)))\n",
    "    \n",
    "# para cada modelo treinado obtem val score\n",
    "best_acc = 0.0\n",
    "best_clf = 0\n",
    "best_pipe = ''\n",
    "for idx, val in enumerate(pipelines):\n",
    "    # Descobre o melhor val.score e armazen em best_clf\n",
    "    if val.score(X_test, y_test) > best_acc:\n",
    "        best_acc = val.score(X_test, y_test)\n",
    "        best_pipe = val\n",
    "        best_clf = idx\n",
    "print('Classifier with best accuracy: %s' % pipe_dict[best_clf])"
   ]
  },
  {
   "cell_type": "markdown",
   "metadata": {},
   "source": [
    "### Identifica melhor classificador "
   ]
  },
  {
   "cell_type": "code",
   "execution_count": 7,
   "metadata": {},
   "outputs": [
    {
     "name": "stdout",
     "output_type": "stream",
     "text": [
      "[[ 303    0    0    0    0]\n",
      " [   0 2297    0    0    0]\n",
      " [   0    0  184    0    0]\n",
      " [   0    0    0  286    0]\n",
      " [   0    0    0    0  723]]\n",
      "              precision    recall  f1-score   support\n",
      "\n",
      "           0       1.00      1.00      1.00       303\n",
      "           1       1.00      1.00      1.00      2297\n",
      "           2       1.00      1.00      1.00       184\n",
      "           3       1.00      1.00      1.00       286\n",
      "           4       1.00      1.00      1.00       723\n",
      "\n",
      "    accuracy                           1.00      3793\n",
      "   macro avg       1.00      1.00      1.00      3793\n",
      "weighted avg       1.00      1.00      1.00      3793\n",
      "\n"
     ]
    }
   ],
   "source": [
    "# Decision Tree (Melhor)\n",
    "\n",
    "model = pipelines[best_clf]\n",
    "y_pred = model.predict(X_test)\n",
    "cm = confusion_matrix(y_test, y_pred)\n",
    "\n",
    "print(cm)\n",
    "print(classification_report(y_test, y_pred)) "
   ]
  },
  {
   "cell_type": "code",
   "execution_count": 8,
   "metadata": {},
   "outputs": [
    {
     "name": "stdout",
     "output_type": "stream",
     "text": [
      "[[ 220   71    0   11    1]\n",
      " [  15 2280    0    1    1]\n",
      " [   3    0  123    7   51]\n",
      " [  64    4    1  207   10]\n",
      " [   2    0   12   20  689]]\n",
      "              precision    recall  f1-score   support\n",
      "\n",
      "           0       0.72      0.73      0.72       303\n",
      "           1       0.97      0.99      0.98      2297\n",
      "           2       0.90      0.67      0.77       184\n",
      "           3       0.84      0.72      0.78       286\n",
      "           4       0.92      0.95      0.93       723\n",
      "\n",
      "    accuracy                           0.93      3793\n",
      "   macro avg       0.87      0.81      0.84      3793\n",
      "weighted avg       0.93      0.93      0.93      3793\n",
      "\n"
     ]
    }
   ],
   "source": [
    "# KNN (Segundo melhor)\n",
    "\n",
    "model = pipelines[1]\n",
    "y_pred = model.predict(X_test)\n",
    "cm = confusion_matrix(y_test, y_pred)\n",
    "\n",
    "print(cm)\n",
    "print(classification_report(y_test, y_pred)) "
   ]
  },
  {
   "cell_type": "markdown",
   "metadata": {},
   "source": [
    "### Validação cruzada com o melhor classificador\n",
    "\n",
    "Valor de acurácia baixa 0.5%"
   ]
  },
  {
   "cell_type": "code",
   "execution_count": 18,
   "metadata": {},
   "outputs": [
    {
     "name": "stdout",
     "output_type": "stream",
     "text": [
      "Stratified K-folds\n",
      "scores:  [0.9988726  1.         0.99774266 1.         1.         1.\n",
      " 1.         1.         0.9988675  1.        ]\n",
      "Accuracy: 99.95%\n",
      "\n",
      "Leave One out\n",
      "scores:  [1. 1. 1. ... 1. 1. 1.]\n",
      "Accuracy: 99.98%\n"
     ]
    }
   ],
   "source": [
    "# Stratified K-folds\n",
    "\n",
    "skfold = StratifiedKFold(n_splits=10, random_state=100)\n",
    "model_skfold = DecisionTreeClassifier()\n",
    "results_skfold = cross_val_score(model_skfold, X_train, y_train, cv=skfold)\n",
    "\n",
    "print(\"Stratified K-folds\")\n",
    "print(\"scores: \", results_skfold) \n",
    "print(\"Accuracy: %.2f%%\" % (results_skfold.mean()*100.0))\n",
    "\n",
    "# Leave One out Cross-Validator\n",
    "\n",
    "loocv = LeaveOneOut()\n",
    "model_loocv = DecisionTreeClassifier()\n",
    "results_loocv = cross_val_score(model_loocv, X_train, y_train, cv=loocv)\n",
    "\n",
    "print(\"\\nLeave One out\")\n",
    "print(\"scores: \", results_loocv) \n",
    "print(\"Accuracy: %.2f%%\" % (results_loocv.mean()*100.0))"
   ]
  },
  {
   "cell_type": "markdown",
   "metadata": {},
   "source": [
    "### Busca por hiperparametros e features para tentar melhorar os resultados do classificador Ridge"
   ]
  },
  {
   "cell_type": "code",
   "execution_count": 10,
   "metadata": {},
   "outputs": [
    {
     "name": "stdout",
     "output_type": "stream",
     "text": [
      "# Tuning hyper-parameters for precision \n",
      "\n",
      "Best parameters set found on development set:\n",
      "\n",
      "{'alpha': 500} \n",
      "\n",
      "Grid scores on development set:\n",
      "\n",
      "0.623 (+/-0.023) for {'alpha': 1}\n",
      "0.623 (+/-0.023) for {'alpha': 10}\n",
      "0.628 (+/-0.034) for {'alpha': 50}\n",
      "0.632 (+/-0.034) for {'alpha': 100}\n",
      "0.632 (+/-0.036) for {'alpha': 300}\n",
      "0.634 (+/-0.034) for {'alpha': 500}\n",
      "0.634 (+/-0.041) for {'alpha': 1000}\n",
      "\n",
      "classification report:\n",
      "\n",
      "              precision    recall  f1-score   support\n",
      "\n",
      "           0       0.00      0.00      0.00       303\n",
      "           1       0.82      1.00      0.90      2297\n",
      "           2       0.70      0.23      0.35       184\n",
      "           3       1.00      0.10      0.18       286\n",
      "           4       0.78      0.99      0.87       723\n",
      "\n",
      "    accuracy                           0.81      3793\n",
      "   macro avg       0.66      0.46      0.46      3793\n",
      "weighted avg       0.76      0.81      0.74      3793\n",
      "\n",
      "\n",
      "# Tuning hyper-parameters for recall \n",
      "\n"
     ]
    },
    {
     "name": "stderr",
     "output_type": "stream",
     "text": [
      "/home/gykimura/miniconda3/envs/boticario/lib/python3.7/site-packages/sklearn/model_selection/_split.py:1978: FutureWarning: The default value of cv will change from 3 to 5 in version 0.22. Specify it explicitly to silence this warning.\n",
      "  warnings.warn(CV_WARNING, FutureWarning)\n",
      "/home/gykimura/miniconda3/envs/boticario/lib/python3.7/site-packages/sklearn/metrics/classification.py:1437: UndefinedMetricWarning: Precision is ill-defined and being set to 0.0 in labels with no predicted samples.\n",
      "  'precision', 'predicted', average, warn_for)\n",
      "/home/gykimura/miniconda3/envs/boticario/lib/python3.7/site-packages/sklearn/metrics/classification.py:1437: UndefinedMetricWarning: Precision is ill-defined and being set to 0.0 in labels with no predicted samples.\n",
      "  'precision', 'predicted', average, warn_for)\n",
      "/home/gykimura/miniconda3/envs/boticario/lib/python3.7/site-packages/sklearn/metrics/classification.py:1437: UndefinedMetricWarning: Precision is ill-defined and being set to 0.0 in labels with no predicted samples.\n",
      "  'precision', 'predicted', average, warn_for)\n",
      "/home/gykimura/miniconda3/envs/boticario/lib/python3.7/site-packages/sklearn/metrics/classification.py:1437: UndefinedMetricWarning: Precision is ill-defined and being set to 0.0 in labels with no predicted samples.\n",
      "  'precision', 'predicted', average, warn_for)\n",
      "/home/gykimura/miniconda3/envs/boticario/lib/python3.7/site-packages/sklearn/metrics/classification.py:1437: UndefinedMetricWarning: Precision is ill-defined and being set to 0.0 in labels with no predicted samples.\n",
      "  'precision', 'predicted', average, warn_for)\n",
      "/home/gykimura/miniconda3/envs/boticario/lib/python3.7/site-packages/sklearn/metrics/classification.py:1437: UndefinedMetricWarning: Precision is ill-defined and being set to 0.0 in labels with no predicted samples.\n",
      "  'precision', 'predicted', average, warn_for)\n",
      "/home/gykimura/miniconda3/envs/boticario/lib/python3.7/site-packages/sklearn/metrics/classification.py:1437: UndefinedMetricWarning: Precision is ill-defined and being set to 0.0 in labels with no predicted samples.\n",
      "  'precision', 'predicted', average, warn_for)\n",
      "/home/gykimura/miniconda3/envs/boticario/lib/python3.7/site-packages/sklearn/metrics/classification.py:1437: UndefinedMetricWarning: Precision is ill-defined and being set to 0.0 in labels with no predicted samples.\n",
      "  'precision', 'predicted', average, warn_for)\n",
      "/home/gykimura/miniconda3/envs/boticario/lib/python3.7/site-packages/sklearn/metrics/classification.py:1437: UndefinedMetricWarning: Precision is ill-defined and being set to 0.0 in labels with no predicted samples.\n",
      "  'precision', 'predicted', average, warn_for)\n",
      "/home/gykimura/miniconda3/envs/boticario/lib/python3.7/site-packages/sklearn/metrics/classification.py:1437: UndefinedMetricWarning: Precision is ill-defined and being set to 0.0 in labels with no predicted samples.\n",
      "  'precision', 'predicted', average, warn_for)\n",
      "/home/gykimura/miniconda3/envs/boticario/lib/python3.7/site-packages/sklearn/metrics/classification.py:1437: UndefinedMetricWarning: Precision is ill-defined and being set to 0.0 in labels with no predicted samples.\n",
      "  'precision', 'predicted', average, warn_for)\n",
      "/home/gykimura/miniconda3/envs/boticario/lib/python3.7/site-packages/sklearn/metrics/classification.py:1437: UndefinedMetricWarning: Precision is ill-defined and being set to 0.0 in labels with no predicted samples.\n",
      "  'precision', 'predicted', average, warn_for)\n",
      "/home/gykimura/miniconda3/envs/boticario/lib/python3.7/site-packages/sklearn/metrics/classification.py:1437: UndefinedMetricWarning: Precision is ill-defined and being set to 0.0 in labels with no predicted samples.\n",
      "  'precision', 'predicted', average, warn_for)\n",
      "/home/gykimura/miniconda3/envs/boticario/lib/python3.7/site-packages/sklearn/metrics/classification.py:1437: UndefinedMetricWarning: Precision is ill-defined and being set to 0.0 in labels with no predicted samples.\n",
      "  'precision', 'predicted', average, warn_for)\n",
      "/home/gykimura/miniconda3/envs/boticario/lib/python3.7/site-packages/sklearn/metrics/classification.py:1437: UndefinedMetricWarning: Precision and F-score are ill-defined and being set to 0.0 in labels with no predicted samples.\n",
      "  'precision', 'predicted', average, warn_for)\n",
      "/home/gykimura/miniconda3/envs/boticario/lib/python3.7/site-packages/sklearn/model_selection/_split.py:1978: FutureWarning: The default value of cv will change from 3 to 5 in version 0.22. Specify it explicitly to silence this warning.\n",
      "  warnings.warn(CV_WARNING, FutureWarning)\n"
     ]
    },
    {
     "name": "stdout",
     "output_type": "stream",
     "text": [
      "Best parameters set found on development set:\n",
      "\n",
      "{'alpha': 100} \n",
      "\n",
      "Grid scores on development set:\n",
      "\n",
      "0.456 (+/-0.025) for {'alpha': 1}\n",
      "0.456 (+/-0.025) for {'alpha': 10}\n",
      "0.457 (+/-0.025) for {'alpha': 50}\n",
      "0.457 (+/-0.025) for {'alpha': 100}\n",
      "0.455 (+/-0.024) for {'alpha': 300}\n",
      "0.456 (+/-0.024) for {'alpha': 500}\n",
      "0.456 (+/-0.024) for {'alpha': 1000}\n",
      "\n",
      "classification report:\n",
      "\n",
      "              precision    recall  f1-score   support\n",
      "\n",
      "           0       0.00      0.00      0.00       303\n",
      "           1       0.82      1.00      0.90      2297\n",
      "           2       0.70      0.24      0.36       184\n",
      "           3       1.00      0.10      0.18       286\n",
      "           4       0.78      0.99      0.87       723\n",
      "\n",
      "    accuracy                           0.81      3793\n",
      "   macro avg       0.66      0.47      0.46      3793\n",
      "weighted avg       0.76      0.81      0.74      3793\n",
      "\n",
      "\n"
     ]
    },
    {
     "name": "stderr",
     "output_type": "stream",
     "text": [
      "/home/gykimura/miniconda3/envs/boticario/lib/python3.7/site-packages/sklearn/metrics/classification.py:1437: UndefinedMetricWarning: Precision and F-score are ill-defined and being set to 0.0 in labels with no predicted samples.\n",
      "  'precision', 'predicted', average, warn_for)\n"
     ]
    }
   ],
   "source": [
    "# Set the parameters by cross-validation\n",
    "tuned_parameters = [{'alpha': [1, 10, 50, 100, 300, 500, 1000]},]\n",
    "\n",
    "scores = ['precision', 'recall']\n",
    "\n",
    "for score in scores:\n",
    "    print(\"# Tuning hyper-parameters for %s\" % score,\"\\n\")\n",
    "    \n",
    "    clf = GridSearchCV(\n",
    "        RidgeClassifier(), tuned_parameters, scoring='%s_macro' % score\n",
    "    )\n",
    "    clf.fit(X_train, y_train)\n",
    "\n",
    "    print(\"Best parameters set found on development set:\\n\")\n",
    "    print(clf.best_params_,\"\\n\")\n",
    "    print(\"Grid scores on development set:\\n\")\n",
    "    means = clf.cv_results_['mean_test_score']\n",
    "    stds = clf.cv_results_['std_test_score']\n",
    "    for mean, std, params in zip(means, stds, clf.cv_results_['params']):\n",
    "        print(\"%0.3f (+/-%0.03f) for %r\"\n",
    "              % (mean, std * 2, params))\n",
    "    print()\n",
    "\n",
    "    print(\"classification report:\\n\")\n",
    "    y_true, y_pred = y_test, clf.predict(X_test)\n",
    "    print(classification_report(y_true, y_pred))\n",
    "    print()"
   ]
  },
  {
   "cell_type": "code",
   "execution_count": 11,
   "metadata": {},
   "outputs": [
    {
     "name": "stdout",
     "output_type": "stream",
     "text": [
      "[[   0  303    0    0    0]\n",
      " [   0 2297    0    0    0]\n",
      " [   0    0   43    0  141]\n",
      " [   0  191    9   28   58]\n",
      " [   0    0    9    0  714]]\n",
      "              precision    recall  f1-score   support\n",
      "\n",
      "           0       0.00      0.00      0.00       303\n",
      "           1       0.82      1.00      0.90      2297\n",
      "           2       0.70      0.23      0.35       184\n",
      "           3       1.00      0.10      0.18       286\n",
      "           4       0.78      0.99      0.87       723\n",
      "\n",
      "    accuracy                           0.81      3793\n",
      "   macro avg       0.66      0.46      0.46      3793\n",
      "weighted avg       0.76      0.81      0.74      3793\n",
      "\n"
     ]
    },
    {
     "name": "stderr",
     "output_type": "stream",
     "text": [
      "/home/gykimura/miniconda3/envs/boticario/lib/python3.7/site-packages/sklearn/metrics/classification.py:1437: UndefinedMetricWarning: Precision and F-score are ill-defined and being set to 0.0 in labels with no predicted samples.\n",
      "  'precision', 'predicted', average, warn_for)\n"
     ]
    }
   ],
   "source": [
    "# Ridge com optimum alpha value\n",
    "\n",
    "model = RidgeClassifier(alpha=500).fit(X_train, y_train)\n",
    "y_pred = model.predict(X_test)\n",
    "cm = confusion_matrix(y_test, y_pred)\n",
    "\n",
    "print(cm)\n",
    "print(classification_report(y_test, y_pred)) "
   ]
  },
  {
   "cell_type": "markdown",
   "metadata": {},
   "source": [
    "### Combinando Pipeline e Grid Search"
   ]
  },
  {
   "cell_type": "code",
   "execution_count": 21,
   "metadata": {},
   "outputs": [
    {
     "name": "stderr",
     "output_type": "stream",
     "text": [
      "/home/gykimura/miniconda3/envs/boticario/lib/python3.7/site-packages/sklearn/model_selection/_split.py:1978: FutureWarning: The default value of cv will change from 3 to 5 in version 0.22. Specify it explicitly to silence this warning.\n",
      "  warnings.warn(CV_WARNING, FutureWarning)\n"
     ]
    },
    {
     "name": "stdout",
     "output_type": "stream",
     "text": [
      "Best accuracy: 1.000\n",
      "\n",
      "Best params:\n",
      " {'clf__criterion': 'gini', 'clf__max_depth': 3, 'clf__min_samples_leaf': 1, 'clf__min_samples_split': 2, 'clf__presort': True}\n"
     ]
    }
   ],
   "source": [
    "pipetree = Pipeline([('scl', StandardScaler()), ('clf', DecisionTreeClassifier())])\n",
    "pipe = [pipetree]\n",
    "\n",
    "param_range = [1, 2, 3, 4, 5]\n",
    "\n",
    "# grid search params\n",
    "#grid_params = [{'clf__criterion': ['gini', 'entropy'],\n",
    "#               'clf__presort': [True, False]}]\n",
    "grid_params = [{'clf__criterion': ['gini', 'entropy'],\n",
    "    'clf__min_samples_leaf': param_range,\n",
    "    'clf__max_depth': param_range,\n",
    "    'clf__min_samples_split': param_range[1:],\n",
    "    'clf__presort': [True, False]}]\n",
    "\n",
    "# Construct grid search\n",
    "gs = GridSearchCV(estimator=pipetree,\n",
    "    param_grid=grid_params,\n",
    "    scoring='accuracy')\n",
    "\n",
    "# Fit using grid search\n",
    "gs.fit(X_train, y_train)\n",
    "\n",
    "# Best accuracy\n",
    "print('Best accuracy: %.3f' % gs.best_score_)\n",
    "\n",
    "# Best params\n",
    "print('\\nBest params:\\n', gs.best_params_)"
   ]
  },
  {
   "cell_type": "code",
   "execution_count": null,
   "metadata": {},
   "outputs": [],
   "source": []
  },
  {
   "cell_type": "code",
   "execution_count": null,
   "metadata": {},
   "outputs": [],
   "source": []
  }
 ],
 "metadata": {
  "kernelspec": {
   "display_name": "Python [conda env:boticario] *",
   "language": "python",
   "name": "conda-env-boticario-py"
  },
  "language_info": {
   "codemirror_mode": {
    "name": "ipython",
    "version": 3
   },
   "file_extension": ".py",
   "mimetype": "text/x-python",
   "name": "python",
   "nbconvert_exporter": "python",
   "pygments_lexer": "ipython3",
   "version": "3.7.4"
  }
 },
 "nbformat": 4,
 "nbformat_minor": 2
}
