{
 "cells": [
  {
   "cell_type": "markdown",
   "metadata": {},
   "source": [
    "# SENAI / INEP - Dados sobre evasão\n",
    "\n",
    "Autor: Alexandre Marcondes\n",
    "\n",
    "**Exercício:** Montem uma classificacao utilizando a base da Veltec ou Senai.\n",
    "\n",
    "Monte testes de avaliacao de diferentes classificadores considerando:\n",
    "\n",
    "* Busca por hiperparametros (Considere testar parametros de regularizacao)\n",
    "\n",
    "* Busca por features\n",
    "\n",
    "* Utilize um metodo de validacao cruzada\n",
    "\n",
    "## Explicação do arquivo CSV\n",
    "---"
   ]
  },
  {
   "cell_type": "markdown",
   "metadata": {},
   "source": [
    "Este arquivo CSV está relacionado a demanda da Gerência de Educação: LUMNI - Assistente virtual.\n",
    "\n",
    "Um dos objetivos deste trabalho foi a previsão de evasão de alunos do SENAI-PR. Dados dados históricos de um grupo de alunos, como dados sobre notas em avaliações, frequência, condições socioeconômicas e outros, a tarefa seria determinar o potencial de evasão de um aluno com determinadas características.\n",
    "\n",
    "Como a gerência não disponibilizou nenhum dado (até o fim da primeira sprint), os residentes buscaram dados disponibilizados pelo INEP do Censo da Educação Superior, disponível na página de Microdados (http://inep.gov.br/microdados). A partir dos dados do censo de 2018, foi realizada uma filtragem para obter os dados de alunos das unidades do SENAI-PR. Após isso, foi realizada uma limpeza dos dados, eliminando informações que foram consideradas irrelevantes para os objetivos propostos.\n",
    "\n",
    "---"
   ]
  },
  {
   "cell_type": "code",
   "execution_count": 58,
   "metadata": {},
   "outputs": [],
   "source": [
    "import pandas as pd"
   ]
  },
  {
   "cell_type": "code",
   "execution_count": 59,
   "metadata": {},
   "outputs": [],
   "source": [
    "senai = pd.read_csv('senai_inep.csv')"
   ]
  },
  {
   "cell_type": "code",
   "execution_count": 60,
   "metadata": {},
   "outputs": [
    {
     "data": {
      "text/plain": [
       "(3309, 22)"
      ]
     },
     "execution_count": 60,
     "metadata": {},
     "output_type": "execute_result"
    }
   ],
   "source": [
    "senai.shape"
   ]
  },
  {
   "cell_type": "code",
   "execution_count": 61,
   "metadata": {},
   "outputs": [
    {
     "data": {
      "text/html": [
       "<div>\n",
       "<style scoped>\n",
       "    .dataframe tbody tr th:only-of-type {\n",
       "        vertical-align: middle;\n",
       "    }\n",
       "\n",
       "    .dataframe tbody tr th {\n",
       "        vertical-align: top;\n",
       "    }\n",
       "\n",
       "    .dataframe thead th {\n",
       "        text-align: right;\n",
       "    }\n",
       "</style>\n",
       "<table border=\"1\" class=\"dataframe\">\n",
       "  <thead>\n",
       "    <tr style=\"text-align: right;\">\n",
       "      <th></th>\n",
       "      <th>CO_IES</th>\n",
       "      <th>NO_IES</th>\n",
       "      <th>CO_CURSO</th>\n",
       "      <th>NO_CURSO</th>\n",
       "      <th>TP_TURNO</th>\n",
       "      <th>TP_GRAU_ACADEMICO</th>\n",
       "      <th>TP_MODALIDADE_ENSINO</th>\n",
       "      <th>ID_ALUNO</th>\n",
       "      <th>TP_COR_RACA</th>\n",
       "      <th>TP_SEXO</th>\n",
       "      <th>...</th>\n",
       "      <th>IN_DEFICIENCIA</th>\n",
       "      <th>DT_INGRESSO_CURSO</th>\n",
       "      <th>IN_RESERVA_VAGAS</th>\n",
       "      <th>IN_FINANCIAMENTO_ESTUDANTIL</th>\n",
       "      <th>IN_APOIO_SOCIAL</th>\n",
       "      <th>IN_ATIVIDADE_EXTRACURRICULAR</th>\n",
       "      <th>TP_ESCOLA_CONCLUSAO_ENS_MEDIO</th>\n",
       "      <th>IN_MATRICULA</th>\n",
       "      <th>IN_CONCLUINTE</th>\n",
       "      <th>TP_SITUACAO</th>\n",
       "    </tr>\n",
       "  </thead>\n",
       "  <tbody>\n",
       "    <tr>\n",
       "      <th>0</th>\n",
       "      <td>1400</td>\n",
       "      <td>FACULDADE DA INDÚSTRIA SÃO JOSÉ DOS PINHAIS</td>\n",
       "      <td>20516</td>\n",
       "      <td>ADMINISTRAÇÃO</td>\n",
       "      <td>3.0</td>\n",
       "      <td>1.0</td>\n",
       "      <td>1</td>\n",
       "      <td>C2E870F652B2299ED62D4AA8038A9422</td>\n",
       "      <td>1</td>\n",
       "      <td>1</td>\n",
       "      <td>...</td>\n",
       "      <td>0</td>\n",
       "      <td>01JUL2009:00:00:00</td>\n",
       "      <td>0</td>\n",
       "      <td>0.0</td>\n",
       "      <td>0</td>\n",
       "      <td>0</td>\n",
       "      <td>1</td>\n",
       "      <td>0</td>\n",
       "      <td>0</td>\n",
       "      <td>0</td>\n",
       "    </tr>\n",
       "    <tr>\n",
       "      <th>1</th>\n",
       "      <td>1400</td>\n",
       "      <td>FACULDADE DA INDÚSTRIA SÃO JOSÉ DOS PINHAIS</td>\n",
       "      <td>20516</td>\n",
       "      <td>ADMINISTRAÇÃO</td>\n",
       "      <td>3.0</td>\n",
       "      <td>1.0</td>\n",
       "      <td>1</td>\n",
       "      <td>81A4D85417E7123C8DF075A0A2629E8E</td>\n",
       "      <td>0</td>\n",
       "      <td>1</td>\n",
       "      <td>...</td>\n",
       "      <td>0</td>\n",
       "      <td>01JUL2009:00:00:00</td>\n",
       "      <td>0</td>\n",
       "      <td>0.0</td>\n",
       "      <td>0</td>\n",
       "      <td>0</td>\n",
       "      <td>1</td>\n",
       "      <td>1</td>\n",
       "      <td>1</td>\n",
       "      <td>1</td>\n",
       "    </tr>\n",
       "    <tr>\n",
       "      <th>2</th>\n",
       "      <td>1400</td>\n",
       "      <td>FACULDADE DA INDÚSTRIA SÃO JOSÉ DOS PINHAIS</td>\n",
       "      <td>20516</td>\n",
       "      <td>ADMINISTRAÇÃO</td>\n",
       "      <td>3.0</td>\n",
       "      <td>1.0</td>\n",
       "      <td>1</td>\n",
       "      <td>77F900FA4B592D61029032DCA66D9F55</td>\n",
       "      <td>2</td>\n",
       "      <td>2</td>\n",
       "      <td>...</td>\n",
       "      <td>0</td>\n",
       "      <td>01JAN2014:00:00:00</td>\n",
       "      <td>0</td>\n",
       "      <td>0.0</td>\n",
       "      <td>0</td>\n",
       "      <td>0</td>\n",
       "      <td>1</td>\n",
       "      <td>1</td>\n",
       "      <td>1</td>\n",
       "      <td>1</td>\n",
       "    </tr>\n",
       "    <tr>\n",
       "      <th>3</th>\n",
       "      <td>1400</td>\n",
       "      <td>FACULDADE DA INDÚSTRIA SÃO JOSÉ DOS PINHAIS</td>\n",
       "      <td>20516</td>\n",
       "      <td>ADMINISTRAÇÃO</td>\n",
       "      <td>3.0</td>\n",
       "      <td>1.0</td>\n",
       "      <td>1</td>\n",
       "      <td>4D21A9481680ED505C359CE9A0F8F212</td>\n",
       "      <td>0</td>\n",
       "      <td>2</td>\n",
       "      <td>...</td>\n",
       "      <td>0</td>\n",
       "      <td>01JAN2006:00:00:00</td>\n",
       "      <td>0</td>\n",
       "      <td>0.0</td>\n",
       "      <td>0</td>\n",
       "      <td>0</td>\n",
       "      <td>9</td>\n",
       "      <td>0</td>\n",
       "      <td>0</td>\n",
       "      <td>1</td>\n",
       "    </tr>\n",
       "    <tr>\n",
       "      <th>4</th>\n",
       "      <td>1400</td>\n",
       "      <td>FACULDADE DA INDÚSTRIA SÃO JOSÉ DOS PINHAIS</td>\n",
       "      <td>20516</td>\n",
       "      <td>ADMINISTRAÇÃO</td>\n",
       "      <td>3.0</td>\n",
       "      <td>1.0</td>\n",
       "      <td>1</td>\n",
       "      <td>63341AACBCB526FE3A929666DE581731</td>\n",
       "      <td>0</td>\n",
       "      <td>1</td>\n",
       "      <td>...</td>\n",
       "      <td>0</td>\n",
       "      <td>01JAN2010:00:00:00</td>\n",
       "      <td>0</td>\n",
       "      <td>0.0</td>\n",
       "      <td>0</td>\n",
       "      <td>0</td>\n",
       "      <td>1</td>\n",
       "      <td>0</td>\n",
       "      <td>0</td>\n",
       "      <td>0</td>\n",
       "    </tr>\n",
       "  </tbody>\n",
       "</table>\n",
       "<p>5 rows × 22 columns</p>\n",
       "</div>"
      ],
      "text/plain": [
       "   CO_IES                                       NO_IES  CO_CURSO  \\\n",
       "0    1400  FACULDADE DA INDÚSTRIA SÃO JOSÉ DOS PINHAIS     20516   \n",
       "1    1400  FACULDADE DA INDÚSTRIA SÃO JOSÉ DOS PINHAIS     20516   \n",
       "2    1400  FACULDADE DA INDÚSTRIA SÃO JOSÉ DOS PINHAIS     20516   \n",
       "3    1400  FACULDADE DA INDÚSTRIA SÃO JOSÉ DOS PINHAIS     20516   \n",
       "4    1400  FACULDADE DA INDÚSTRIA SÃO JOSÉ DOS PINHAIS     20516   \n",
       "\n",
       "        NO_CURSO  TP_TURNO  TP_GRAU_ACADEMICO  TP_MODALIDADE_ENSINO  \\\n",
       "0  ADMINISTRAÇÃO       3.0                1.0                     1   \n",
       "1  ADMINISTRAÇÃO       3.0                1.0                     1   \n",
       "2  ADMINISTRAÇÃO       3.0                1.0                     1   \n",
       "3  ADMINISTRAÇÃO       3.0                1.0                     1   \n",
       "4  ADMINISTRAÇÃO       3.0                1.0                     1   \n",
       "\n",
       "                           ID_ALUNO  TP_COR_RACA  TP_SEXO  ...  \\\n",
       "0  C2E870F652B2299ED62D4AA8038A9422            1        1  ...   \n",
       "1  81A4D85417E7123C8DF075A0A2629E8E            0        1  ...   \n",
       "2  77F900FA4B592D61029032DCA66D9F55            2        2  ...   \n",
       "3  4D21A9481680ED505C359CE9A0F8F212            0        2  ...   \n",
       "4  63341AACBCB526FE3A929666DE581731            0        1  ...   \n",
       "\n",
       "   IN_DEFICIENCIA   DT_INGRESSO_CURSO  IN_RESERVA_VAGAS  \\\n",
       "0               0  01JUL2009:00:00:00                 0   \n",
       "1               0  01JUL2009:00:00:00                 0   \n",
       "2               0  01JAN2014:00:00:00                 0   \n",
       "3               0  01JAN2006:00:00:00                 0   \n",
       "4               0  01JAN2010:00:00:00                 0   \n",
       "\n",
       "  IN_FINANCIAMENTO_ESTUDANTIL  IN_APOIO_SOCIAL  IN_ATIVIDADE_EXTRACURRICULAR  \\\n",
       "0                         0.0                0                             0   \n",
       "1                         0.0                0                             0   \n",
       "2                         0.0                0                             0   \n",
       "3                         0.0                0                             0   \n",
       "4                         0.0                0                             0   \n",
       "\n",
       "   TP_ESCOLA_CONCLUSAO_ENS_MEDIO  IN_MATRICULA  IN_CONCLUINTE  TP_SITUACAO  \n",
       "0                              1             0              0            0  \n",
       "1                              1             1              1            1  \n",
       "2                              1             1              1            1  \n",
       "3                              9             0              0            1  \n",
       "4                              1             0              0            0  \n",
       "\n",
       "[5 rows x 22 columns]"
      ]
     },
     "execution_count": 61,
     "metadata": {},
     "output_type": "execute_result"
    }
   ],
   "source": [
    "senai.head()"
   ]
  },
  {
   "cell_type": "code",
   "execution_count": 62,
   "metadata": {},
   "outputs": [
    {
     "data": {
      "text/plain": [
       "Index(['CO_IES', 'NO_IES', 'CO_CURSO', 'NO_CURSO', 'TP_TURNO',\n",
       "       'TP_GRAU_ACADEMICO', 'TP_MODALIDADE_ENSINO', 'ID_ALUNO', 'TP_COR_RACA',\n",
       "       'TP_SEXO', 'NU_IDADE', 'TP_NACIONALIDADE', 'IN_DEFICIENCIA',\n",
       "       'DT_INGRESSO_CURSO', 'IN_RESERVA_VAGAS', 'IN_FINANCIAMENTO_ESTUDANTIL',\n",
       "       'IN_APOIO_SOCIAL', 'IN_ATIVIDADE_EXTRACURRICULAR',\n",
       "       'TP_ESCOLA_CONCLUSAO_ENS_MEDIO', 'IN_MATRICULA', 'IN_CONCLUINTE',\n",
       "       'TP_SITUACAO'],\n",
       "      dtype='object')"
      ]
     },
     "execution_count": 62,
     "metadata": {},
     "output_type": "execute_result"
    }
   ],
   "source": [
    "senai.columns"
   ]
  },
  {
   "cell_type": "markdown",
   "metadata": {},
   "source": [
    "**A coluna 'TP_SITUACAO' indica a situação atual da matrícula do aluno (vinculado ou desvinculado) e pode ser utilizada como coluna-alvo**. A situação \"vinculado\" pode indicar diversas situações, como o aluno que está cursando de fato, ou alunos que estão com a matrícula temporariamente trancada, por exemplo.\n",
    "\n",
    "As classes desse atributo são:\n",
    "* 1: aluno vinculado;\n",
    "* 2: aluno desvinculado."
   ]
  },
  {
   "cell_type": "code",
   "execution_count": 63,
   "metadata": {},
   "outputs": [
    {
     "data": {
      "text/plain": [
       "1    2882\n",
       "0     427\n",
       "Name: TP_SITUACAO, dtype: int64"
      ]
     },
     "execution_count": 63,
     "metadata": {},
     "output_type": "execute_result"
    }
   ],
   "source": [
    "senai.TP_SITUACAO.value_counts()"
   ]
  },
  {
   "cell_type": "markdown",
   "metadata": {},
   "source": [
    "Entre as demais colunas, estão colunas descritivas da instituição, curso e aluno, e uma análise pode ser realizada para decidir quais atributos poderiam ser utilizados como características para o modelo. Entre as informações disponíveis estão a modalidade do curso, nacionalidade do aluno, informações sobre gênero, raça, modalidade de ingresso, entre outras informações.\n",
    "\n",
    "O arquivo \"Dicionаrio de Variаveis\" pode ser acessado para obter as descrições dos atributos presentes no CSV."
   ]
  },
  {
   "cell_type": "markdown",
   "metadata": {},
   "source": [
    "# Pipeline\n",
    "---\n",
    "\n",
    "### Bibliotecas\n",
    "---"
   ]
  },
  {
   "cell_type": "code",
   "execution_count": 64,
   "metadata": {},
   "outputs": [],
   "source": [
    "import numpy as np\n",
    "import matplotlib.pyplot as plt\n",
    "from sklearn.datasets import make_classification\n",
    "import seaborn as sns\n",
    "\n",
    "from sklearn import preprocessing\n",
    "from sklearn.metrics import confusion_matrix, precision_score, recall_score, f1_score, roc_curve, roc_auc_score, classification_report\n",
    "\n",
    "from sklearn.linear_model import LogisticRegression\n",
    "\n",
    "from sklearn.naive_bayes import GaussianNB\n",
    "\n",
    "#Classificadores Lineares\n",
    "from sklearn.linear_model import SGDClassifier\n",
    "from sklearn.linear_model import RidgeClassifier\n",
    "from sklearn.linear_model import LogisticRegression\n",
    "\n",
    "#Classificadores KNN\n",
    "from sklearn.neighbors import KNeighborsClassifier\n",
    "\n",
    "#Classificadores Naive Nayes\n",
    "from sklearn.naive_bayes import MultinomialNB\n",
    "\n",
    "#Classificadores Arvores de Decisão\n",
    "from sklearn.tree import DecisionTreeClassifier\n",
    "\n",
    "#SVM\n",
    "from sklearn.svm import SVC\n",
    "\n",
    "from sklearn.model_selection import train_test_split\n",
    "\n",
    "from sklearn import preprocessing\n",
    "from sklearn.metrics import confusion_matrix, precision_score, recall_score, f1_score, roc_curve, roc_auc_score, classification_report\n",
    "\n",
    "from sklearn.preprocessing import StandardScaler\n",
    "\n",
    "import pandas as pd\n",
    "import numpy as np\n",
    "\n",
    "import matplotlib.pyplot as plt\n",
    "import math\n",
    "\n",
    "from sklearn import linear_model\n",
    "from scipy.special import expit\n",
    "\n",
    "from sklearn.metrics import confusion_matrix\n",
    "import scipy\n",
    "from scipy.io import arff\n",
    "\n",
    "import numpy as np\n",
    "from sklearn.datasets import fetch_olivetti_faces\n",
    "from sklearn.svm import SVC\n",
    "#from sklearn.cross_validation import train_test_split\n",
    "from sklearn.preprocessing import StandardScaler\n",
    "from sklearn.pipeline import Pipeline\n",
    "from sklearn.metrics import accuracy_score\n",
    "from sklearn.pipeline import Pipeline, FeatureUnion, make_pipeline\n",
    "from sklearn.externals import joblib\n",
    "\n",
    "from sklearn.model_selection import GridSearchCV, RandomizedSearchCV\n",
    "from sklearn.model_selection import KFold, cross_val_score, LeaveOneOut"
   ]
  },
  {
   "cell_type": "markdown",
   "metadata": {},
   "source": [
    "### Preparação das features\n",
    "---"
   ]
  },
  {
   "cell_type": "code",
   "execution_count": 65,
   "metadata": {},
   "outputs": [
    {
     "data": {
      "text/plain": [
       "Index(['CO_IES', 'NO_IES', 'CO_CURSO', 'NO_CURSO', 'TP_TURNO',\n",
       "       'TP_GRAU_ACADEMICO', 'TP_MODALIDADE_ENSINO', 'ID_ALUNO', 'TP_COR_RACA',\n",
       "       'TP_SEXO', 'NU_IDADE', 'TP_NACIONALIDADE', 'IN_DEFICIENCIA',\n",
       "       'DT_INGRESSO_CURSO', 'IN_RESERVA_VAGAS', 'IN_FINANCIAMENTO_ESTUDANTIL',\n",
       "       'IN_APOIO_SOCIAL', 'IN_ATIVIDADE_EXTRACURRICULAR',\n",
       "       'TP_ESCOLA_CONCLUSAO_ENS_MEDIO', 'IN_MATRICULA', 'IN_CONCLUINTE',\n",
       "       'TP_SITUACAO'],\n",
       "      dtype='object')"
      ]
     },
     "execution_count": 65,
     "metadata": {},
     "output_type": "execute_result"
    }
   ],
   "source": [
    "senai.columns"
   ]
  },
  {
   "cell_type": "code",
   "execution_count": 66,
   "metadata": {},
   "outputs": [],
   "source": [
    "# Label encoder para a variável algumas variáveis\n",
    "le = preprocessing.LabelEncoder()\n",
    "senai['CO_IES'] = le.fit_transform(senai['CO_IES'])\n",
    "senai['NO_CURSO'] = le.fit_transform(senai['NO_CURSO'])\n",
    "\n",
    "# Colunas características\n",
    "X = senai.drop(['TP_SITUACAO','DT_INGRESSO_CURSO','NO_IES','ID_ALUNO'],axis=1)\n",
    "# Coluna alvo\n",
    "y = senai.loc[:,'TP_SITUACAO']\n",
    "\n",
    "# Conjunto de treino e teste\n",
    "X_train, X_test, y_train, y_test = train_test_split(X, y, test_size=0.2)"
   ]
  },
  {
   "cell_type": "markdown",
   "metadata": {},
   "source": [
    "### Criação das pipelines\n",
    "---"
   ]
  },
  {
   "cell_type": "code",
   "execution_count": 67,
   "metadata": {},
   "outputs": [
    {
     "name": "stdout",
     "output_type": "stream",
     "text": [
      "Logistic Regression pipeline test accuracy: 0.878\n",
      "KNN pipeline test accuracy: 0.875\n",
      "Decision Tree pipeline test accuracy: 0.873\n",
      "Navie Bayes pipeline test accuracy: 0.846\n",
      "Classifier with best accuracy: Logistic Regression\n"
     ]
    }
   ],
   "source": [
    "# Crição das pipelines\n",
    "pipe_log = Pipeline([('scl', StandardScaler()), ('clf', LogisticRegression())])\n",
    "pipe_knn = Pipeline([('scl', StandardScaler()), ('clf', KNeighborsClassifier(n_neighbors=3))])\n",
    "pipe_tree = Pipeline([('scl', StandardScaler()), ('clf', DecisionTreeClassifier())])\n",
    "pipe_nb = Pipeline([('scl', StandardScaler()), ('clf', GaussianNB())])\n",
    "\n",
    "pipe_list = [pipe_log, pipe_knn, pipe_tree, pipe_nb]\n",
    "\n",
    "# Dicionário para facilitar identificacao\n",
    "pipe_dict = {0: 'Logistic Regression', 1: 'KNN', 2: 'Decision Tree', 3: 'Navie Bayes'}\n",
    "\n",
    "# aplicando fit\n",
    "# Generaliza a execucao do fit de cada ultima funcao do pipe\n",
    "for pipe in pipe_list:\n",
    "    pipe.fit(X_train, y_train)\n",
    "\n",
    "# Compara acurácia\n",
    "for idx, val in enumerate(pipe_list):\n",
    "    print('%s pipeline test accuracy: %.3f' % (pipe_dict[idx], val.score(X_test, y_test)))\n",
    "\n",
    "# para cada modelo treinado obtem val score\n",
    "best_acc = 0.0\n",
    "best_clf = 0\n",
    "best_pipe = ''\n",
    "for idx, val in enumerate(pipe_list):\n",
    "    # Descobre o melhor val.score e armazen em best_clf\n",
    "    if val.score(X_test, y_test) > best_acc:\n",
    "        best_acc = val.score(X_test, y_test)\n",
    "        best_pipe = val\n",
    "        best_clf = idx\n",
    "print('Classifier with best accuracy: %s' % pipe_dict[best_clf])"
   ]
  },
  {
   "cell_type": "markdown",
   "metadata": {},
   "source": [
    "### Busca por features\n",
    "---"
   ]
  },
  {
   "cell_type": "code",
   "execution_count": 68,
   "metadata": {},
   "outputs": [
    {
     "name": "stdout",
     "output_type": "stream",
     "text": [
      "(3309, 18)\n",
      "(3309, 15)\n"
     ]
    }
   ],
   "source": [
    "from sklearn.feature_selection import SelectKBest\n",
    "from sklearn.feature_selection import chi2\n",
    "print(X.shape)\n",
    "X_new = SelectKBest(chi2, k=15).fit_transform(X, y) # Escolha de 13 features com o método kbest\n",
    "print(X_new.shape)"
   ]
  },
  {
   "cell_type": "markdown",
   "metadata": {},
   "source": [
    "### Otimizando os hiperparâmetros\n",
    "\n",
    "### Gridsearch\n",
    "---"
   ]
  },
  {
   "cell_type": "code",
   "execution_count": 69,
   "metadata": {},
   "outputs": [],
   "source": [
    "# Utiliza o novo X, gerado através da seleção de features\n",
    "X_train, X_test, y_train, y_test = train_test_split(X_new,y, test_size=0.2)"
   ]
  },
  {
   "cell_type": "code",
   "execution_count": 70,
   "metadata": {},
   "outputs": [
    {
     "name": "stdout",
     "output_type": "stream",
     "text": [
      "Best accuracy: 0.888\n",
      "\n",
      "Best params:\n",
      " {'clf__criterion': 'gini', 'clf__max_depth': 5, 'clf__min_samples_leaf': 4, 'clf__min_samples_split': 2}\n"
     ]
    }
   ],
   "source": [
    "# Utilizar aqui o algoritmo com melhor score\n",
    "pipe = [pipe_tree]\n",
    "\n",
    "param_range = [1, 2, 3, 4, 5]\n",
    "\n",
    "# grid search params\n",
    "#grid_params = [{'clf__criterion': ['gini', 'entropy'],\n",
    "#               'clf__presort': [True, False]}]\n",
    "grid_params = [{'clf__criterion': ['gini', 'entropy'],\n",
    "    'clf__min_samples_leaf': param_range,\n",
    "    'clf__max_depth': param_range,\n",
    "    'clf__min_samples_split': param_range[1:],}]\n",
    "\n",
    "# Construct grid search\n",
    "gs = GridSearchCV(estimator=pipe_tree,\n",
    "    param_grid=grid_params,\n",
    "    scoring='accuracy', n_jobs=-1)\n",
    "\n",
    "# Fit using grid search\n",
    "gs.fit(X_train, y_train)\n",
    "\n",
    "# Best accuracy\n",
    "print('Best accuracy: %.3f' % gs.best_score_)\n",
    "\n",
    "# Best params\n",
    "print('\\nBest params:\\n', gs.best_params_)"
   ]
  },
  {
   "cell_type": "markdown",
   "metadata": {},
   "source": [
    "### Validação cruzada\n",
    "---"
   ]
  },
  {
   "cell_type": "code",
   "execution_count": 77,
   "metadata": {},
   "outputs": [
    {
     "name": "stdout",
     "output_type": "stream",
     "text": [
      "scores:  [0.91698113 0.89056604 0.86415094 0.86037736 0.92075472 0.8754717\n",
      " 0.86792453 0.86742424 0.89015152 0.91287879]\n",
      "Acuracia: 88.67%\n"
     ]
    }
   ],
   "source": [
    "kfold = KFold(n_splits=10, random_state=100, shuffle=True)\n",
    "model_kfold = DecisionTreeClassifier(criterion='gini', max_depth=5, min_samples_leaf=4, min_samples_split=2)\n",
    "results_kfold = cross_val_score(model_kfold, X_train, y_train, cv=kfold)\n",
    "\n",
    "print(\"scores: \", results_kfold) \n",
    "\n",
    "print(\"Acuracia: %.2f%%\" % (results_kfold.mean()*100.0))"
   ]
  },
  {
   "cell_type": "code",
   "execution_count": 78,
   "metadata": {},
   "outputs": [
    {
     "name": "stdout",
     "output_type": "stream",
     "text": [
      "              precision    recall  f1-score   support\n",
      "\n",
      "           0       0.60      0.39      0.47        90\n",
      "           1       0.91      0.96      0.93       572\n",
      "\n",
      "    accuracy                           0.88       662\n",
      "   macro avg       0.76      0.67      0.70       662\n",
      "weighted avg       0.87      0.88      0.87       662\n",
      "\n"
     ]
    }
   ],
   "source": [
    "tree = DecisionTreeClassifier(criterion='gini', max_depth=5, min_samples_leaf=4, min_samples_split=2)\n",
    "tree.fit(X_train,y_train)\n",
    "y_pred = tree.predict(X_test)\n",
    "\n",
    "print(classification_report(y_test, y_pred))"
   ]
  },
  {
   "cell_type": "markdown",
   "metadata": {},
   "source": [
    "A acurácia atingiu um valor bom (88%). Porém, observa-se que a precisão para os alunos que evadiram (classe 0) está bastante baixa. Isso ocorre pois os dados estão desbalanceados."
   ]
  },
  {
   "cell_type": "markdown",
   "metadata": {},
   "source": [
    "### Balanceamento de classes"
   ]
  },
  {
   "cell_type": "markdown",
   "metadata": {},
   "source": [
    "A coluna-alvo está desbalanceada. O número de amostras de alunos que evadiram é consideravelmente menor que o número de alunos que não evadiram."
   ]
  },
  {
   "cell_type": "code",
   "execution_count": 79,
   "metadata": {},
   "outputs": [
    {
     "data": {
      "image/png": "[encoded data removed]",
      "text/plain": [
       "<Figure size 432x288 with 1 Axes>"
      ]
     },
     "metadata": {
      "needs_background": "light"
     },
     "output_type": "display_data"
    }
   ],
   "source": [
    "sns.countplot(senai.TP_SITUACAO);"
   ]
  },
  {
   "cell_type": "markdown",
   "metadata": {},
   "source": [
    "Utilizaremos a biblioteca imblearn para fazer o balanceamento de classes."
   ]
  },
  {
   "cell_type": "code",
   "execution_count": 80,
   "metadata": {},
   "outputs": [],
   "source": [
    "from imblearn.under_sampling import RandomUnderSampler\n",
    "from imblearn.over_sampling import RandomOverSampler"
   ]
  },
  {
   "cell_type": "code",
   "execution_count": 81,
   "metadata": {},
   "outputs": [
    {
     "name": "stdout",
     "output_type": "stream",
     "text": [
      "1    337\n",
      "0    337\n",
      "Name: TP_SITUACAO, dtype: int64\n"
     ]
    },
    {
     "data": {
      "image/png": "[encoded data removed]",
      "text/plain": [
       "<Figure size 432x288 with 1 Axes>"
      ]
     },
     "metadata": {
      "needs_background": "light"
     },
     "output_type": "display_data"
    }
   ],
   "source": [
    "# usar técnica under-sampling\n",
    "rus = RandomUnderSampler()\n",
    "X_res, y_res = rus.fit_sample(X_train, y_train)\n",
    " \n",
    "# ver o balanceamento das classes\n",
    "print(pd.Series(y_res).value_counts())\n",
    " \n",
    "# plotar a nova distribuição de classes\n",
    "sns.countplot(y_res);"
   ]
  },
  {
   "cell_type": "markdown",
   "metadata": {},
   "source": [
    "Agora fazemos o fit novamente:"
   ]
  },
  {
   "cell_type": "code",
   "execution_count": 83,
   "metadata": {},
   "outputs": [
    {
     "name": "stdout",
     "output_type": "stream",
     "text": [
      "              precision    recall  f1-score   support\n",
      "\n",
      "           0       0.51      0.99      0.67        90\n",
      "           1       1.00      0.85      0.92       572\n",
      "\n",
      "    accuracy                           0.87       662\n",
      "   macro avg       0.75      0.92      0.79       662\n",
      "weighted avg       0.93      0.87      0.88       662\n",
      "\n"
     ]
    }
   ],
   "source": [
    "tree = DecisionTreeClassifier(criterion='gini', max_depth=5, min_samples_leaf=4, min_samples_split=2)\n",
    "tree.fit(X_res,y_res)\n",
    "y_pred = tree.predict(X_test)\n",
    "\n",
    "print(classification_report(y_test, y_pred))"
   ]
  },
  {
   "cell_type": "code",
   "execution_count": 84,
   "metadata": {},
   "outputs": [
    {
     "name": "stdout",
     "output_type": "stream",
     "text": [
      "1    2310\n",
      "0    2310\n",
      "Name: TP_SITUACAO, dtype: int64\n"
     ]
    },
    {
     "data": {
      "image/png": "[encoded data removed]",
      "text/plain": [
       "<Figure size 432x288 with 1 Axes>"
      ]
     },
     "metadata": {
      "needs_background": "light"
     },
     "output_type": "display_data"
    }
   ],
   "source": [
    "# usar técnica under-sampling\n",
    "rus = RandomOverSampler()\n",
    "X_res, y_res = rus.fit_sample(X_train, y_train)\n",
    " \n",
    "# ver o balanceamento das classes\n",
    "print(pd.Series(y_res).value_counts())\n",
    " \n",
    "# plotar a nova distribuição de classes\n",
    "sns.countplot(y_res);"
   ]
  },
  {
   "cell_type": "code",
   "execution_count": 85,
   "metadata": {},
   "outputs": [
    {
     "name": "stdout",
     "output_type": "stream",
     "text": [
      "              precision    recall  f1-score   support\n",
      "\n",
      "           0       0.50      0.98      0.66        90\n",
      "           1       1.00      0.85      0.92       572\n",
      "\n",
      "    accuracy                           0.87       662\n",
      "   macro avg       0.75      0.91      0.79       662\n",
      "weighted avg       0.93      0.87      0.88       662\n",
      "\n"
     ]
    }
   ],
   "source": [
    "tree = DecisionTreeClassifier(criterion='gini', max_depth=5, min_samples_leaf=4, min_samples_split=2)\n",
    "tree.fit(X_res,y_res)\n",
    "y_pred = tree.predict(X_test)\n",
    "\n",
    "print(classification_report(y_test, y_pred))"
   ]
  },
  {
   "cell_type": "markdown",
   "metadata": {},
   "source": [
    "As técnicas de under sampling e over sampling não resolveram o problema, pois aumentaram minimamente o f1-score da classe menor. \n",
    "\n",
    "Vamos tentar diferentes métodos presentes na biblioteca."
   ]
  },
  {
   "cell_type": "code",
   "execution_count": 86,
   "metadata": {},
   "outputs": [],
   "source": [
    "from imblearn.over_sampling import SMOTE"
   ]
  },
  {
   "cell_type": "code",
   "execution_count": 87,
   "metadata": {},
   "outputs": [
    {
     "name": "stdout",
     "output_type": "stream",
     "text": [
      "1    2310\n",
      "0    2310\n",
      "Name: TP_SITUACAO, dtype: int64\n"
     ]
    },
    {
     "data": {
      "image/png": "[encoded data removed]",
      "text/plain": [
       "<Figure size 432x288 with 1 Axes>"
      ]
     },
     "metadata": {
      "needs_background": "light"
     },
     "output_type": "display_data"
    }
   ],
   "source": [
    "rus = SMOTE()\n",
    "X_res, y_res = rus.fit_sample(X_train, y_train)\n",
    "# ver o balanceamento das classes\n",
    "print(pd.Series(y_res).value_counts())\n",
    " \n",
    "# plotar a nova distribuição de classes\n",
    "sns.countplot(y_res);"
   ]
  },
  {
   "cell_type": "code",
   "execution_count": 88,
   "metadata": {},
   "outputs": [
    {
     "name": "stdout",
     "output_type": "stream",
     "text": [
      "              precision    recall  f1-score   support\n",
      "\n",
      "           0       0.48      0.94      0.64        90\n",
      "           1       0.99      0.84      0.91       572\n",
      "\n",
      "    accuracy                           0.85       662\n",
      "   macro avg       0.74      0.89      0.77       662\n",
      "weighted avg       0.92      0.85      0.87       662\n",
      "\n"
     ]
    }
   ],
   "source": [
    "tree = DecisionTreeClassifier(criterion='gini', max_depth=5, min_samples_leaf=4, min_samples_split=2)\n",
    "tree.fit(X_res,y_res)\n",
    "y_pred = tree.predict(X_test)\n",
    "\n",
    "print(classification_report(y_test, y_pred))"
   ]
  },
  {
   "cell_type": "code",
   "execution_count": 89,
   "metadata": {},
   "outputs": [
    {
     "data": {
      "image/png": "[encoded data removed]",
      "text/plain": [
       "<Figure size 432x288 with 1 Axes>"
      ]
     },
     "metadata": {
      "needs_background": "light"
     },
     "output_type": "display_data"
    }
   ],
   "source": [
    "from imblearn.combine import SMOTETomek\n",
    "rus = SMOTETomek()\n",
    "X_res, y_res = rus.fit_sample(X_train, y_train)\n",
    "# plotar a nova distribuição de classes\n",
    "sns.countplot(y_res);"
   ]
  },
  {
   "cell_type": "code",
   "execution_count": 90,
   "metadata": {},
   "outputs": [
    {
     "name": "stdout",
     "output_type": "stream",
     "text": [
      "              precision    recall  f1-score   support\n",
      "\n",
      "           0       0.51      0.91      0.65        90\n",
      "           1       0.98      0.86      0.92       572\n",
      "\n",
      "    accuracy                           0.87       662\n",
      "   macro avg       0.75      0.89      0.78       662\n",
      "weighted avg       0.92      0.87      0.88       662\n",
      "\n"
     ]
    }
   ],
   "source": [
    "tree = DecisionTreeClassifier(criterion='gini', max_depth=5, min_samples_leaf=4, min_samples_split=2)\n",
    "tree.fit(X_res,y_res)\n",
    "y_pred = tree.predict(X_test)\n",
    "\n",
    "print(classification_report(y_test, y_pred))"
   ]
  },
  {
   "cell_type": "markdown",
   "metadata": {},
   "source": [
    "Com o método de under sampling o f1_score da classe menor aumentou de 0,47 para 0,67. \n",
    "\n",
    "Não é um número ótimo, porém observa-se a melhoria no desempenho do modelo utilizando técnicas de balanceamento de classes."
   ]
  },
  {
   "cell_type": "code",
   "execution_count": null,
   "metadata": {},
   "outputs": [],
   "source": []
  }
 ],
 "metadata": {
  "kernelspec": {
   "display_name": "Python 3",
   "language": "python",
   "name": "python3"
  },
  "language_info": {
   "codemirror_mode": {
    "name": "ipython",
    "version": 3
   },
   "file_extension": ".py",
   "mimetype": "text/x-python",
   "name": "python",
   "nbconvert_exporter": "python",
   "pygments_lexer": "ipython3",
   "version": "3.7.6"
  }
 },
 "nbformat": 4,
 "nbformat_minor": 4
}
