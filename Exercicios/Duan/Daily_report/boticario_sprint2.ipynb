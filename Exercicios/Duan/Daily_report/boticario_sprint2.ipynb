{
 "cells": [
  {
   "cell_type": "markdown",
   "metadata": {},
   "source": [
    "# Bibliotecas para utilização de PDF em python\n",
    "---\n",
    "\n",
    "1. **PDFMiner:** is a tool for extracting information from PDF documents. Unlike other PDF-related tools, it focuses entirely on getting and analyzing text data.\n",
    "\n",
    "2. **PyPDF2:** is a pure-python PDF library capable of splitting, merging together, cropping, and transforming the pages of PDF files. It can also add custom data, viewing options, and passwords to PDF files. It can retrieve text and metadata from PDFs as well as merge entire files together.\n",
    "\n",
    "3. **Tabula-py:** is a simple Python wrapper of tabula-java, which can read the table of PDF. You can read tables from PDF and convert into pandas’ DataFrame. tabula-py also enables you to convert a PDF file into CSV/TSV/JSON file.\n",
    "\n",
    "4. **Slate:** is warapper Implementation od PDFMiner.\n",
    "\n",
    "5. **PDFQuery:** is a light wrapper around pdfminer, lxml and pyquery. It’s designed to reliably extract data from sets of PDFs with as little code as possible.\n",
    "\n",
    "6. **Xpdf:** Python wrapper for xpdf (currently just the “pdftotext” utility).\n",
    "\n",
    "### Links: \n",
    "* https://medium.com/@umerfarooq_26378/python-for-pdf-ef0fac2808b0\n",
    "* https://www.geeksforgeeks.org/working-with-pdf-files-in-python/\n",
    "* https://medium.com/@rqaiserr/how-to-convert-pdfs-into-searchable-key-words-with-python-85aab86c544f\n",
    "* https://stackoverflow.com/questions/45795089/how-can-i-read-pdf-in-python\n",
    "* https://realpython.com/pdf-python/\n",
    "* https://stackabuse.com/working-with-pdfs-in-python-reading-and-splitting-pages/\n",
    "* http://theautomatic.net/2020/01/21/how-to-read-pdf-files-with-python/\n",
    "* https://pypi.org/project/tabula-py/\n",
    "* https://www.binpress.com/manipulate-pdf-python/\n",
    "*https://www.pythonprogramming.in/how-to-read-or-extract-text-data-from-pdf-file-in-python.html"
   ]
  },
  {
   "cell_type": "markdown",
   "metadata": {},
   "source": [
    "# PyPDF2\n",
    "---"
   ]
  },
  {
   "cell_type": "code",
   "execution_count": 78,
   "metadata": {},
   "outputs": [],
   "source": [
    "import PyPDF2\n",
    "import re"
   ]
  },
  {
   "cell_type": "markdown",
   "metadata": {},
   "source": [
    "### Exemplificando uso:"
   ]
  },
  {
   "cell_type": "code",
   "execution_count": 151,
   "metadata": {
    "scrolled": true
   },
   "outputs": [
    {
     "name": "stdout",
     "output_type": "stream",
     "text": [
      "Numero de paginas: 16\n",
      "---\n",
      "\n",
      " Relatório: Aval\n",
      "iação \n",
      "da hidratação\n",
      ", barreir\n",
      "a e análise de imagem\n",
      " Solicitação n°:\n",
      " EF_\n",
      "24662-2019_\n",
      "V00\n",
      " Página \n",
      "1 de\n",
      " 16 Rua Alfredo Pin\n",
      "to, 2258, Lote A052, Bl. \n",
      "01 e 02| CEP: \n",
      "83065\n",
      "-150| Parque da Fonte \n",
      "Œ São José dos Pinhais \n",
      "Œ PR\n",
      "  Cencoderma \n",
      "Œ Institu\n",
      "ição de Pesquisa e Desenvolviment\n",
      "o de Cosméticos LTDA\n",
      " 1.OBJETIVO\n",
      " Avaliar\n",
      " o efe\n",
      "ito \n",
      "da amostra \n",
      "HIDRATANTE FACIAL\n",
      " (2019.764.002.04)\n",
      " na hidratação\n",
      ", integridade de\n",
      " barreira e \n",
      "redução de \n",
      "linhas finas\n",
      ", atravé\n",
      "s da\n",
      "s técnica\n",
      "s de corneometria\n",
      ", TEWL e\n",
      " análise de imagem\n",
      ".  2. DADOS DA SOLIC\n",
      "ITAÇÃO\n",
      " Solicita\n",
      "nte:\n",
      " Celina Cri\n",
      "stia\n",
      "ne Lis\n",
      " Proposta do Plano de Est\n",
      "udo aprovado\n",
      ": Plano de estudo_S24662_Hydra\n",
      " Realização do\n",
      " teste\n",
      "/Pesquisador\n",
      ": Thamile Luciane Reus\n",
      " Solicitação do teste:\n",
      " 27/08\n",
      "/201\n",
      "9 Realiz\n",
      "ação\n",
      " do teste: \n",
      "25/09\n",
      "/2019\n",
      " a 06/11\n",
      "/2019\n",
      "  3. DELINEAMENTO EXPERIMENTAL\n",
      " Tabela 1. \n",
      "Amostras\n",
      " avalia\n",
      "das DESCRIÇÃO\n",
      " DO PRODUTO\n",
      " REF. DE FÓRMULA\n",
      " CÓDIGO\n",
      " HIDRATANTE FACIAL\n",
      " 2019.764.002.04\n",
      " 318  3.1.\n",
      " Material\n",
      " e métodos\n",
      " O estudo foi reali\n",
      "zado \n",
      "com \n",
      "19 voluntárias com i\n",
      "dade entre 20 e 63 \n",
      "anos. \n",
      "Todas foram \n",
      "consideradas aptas pela avaliação dermatológica, d\n",
      "eclararam não \n",
      "apresentar doenças \n",
      "dermatológicas \n",
      "e não houve a participação\n",
      " de grávid\n",
      "as e lactantes no est\n",
      "udo. O estudo foi \n",
      "conduzido de forma ética, não inc\n",
      "luindo v\n",
      "oluntárias \n",
      "desnecessariamente ou utilizando \n",
      "número menor do que o necessário.\n",
      " As participant\n",
      "es convocadas \n",
      "foram\n",
      " instruídas a não aplicar nenhum tipo de produto \n",
      "(com e\n",
      "xceção do \n",
      "sabonete) na região \n",
      "do rosto (estudo \n",
      "em uso)\n",
      " nas 48 horas\n",
      " que \n",
      "antecede\n",
      "ram\n",
      " ao estudo. \n",
      "Nos dia\n",
      "s de teste, as voluntárias realizar\n",
      "am a higienização \n",
      "da \n",
      "região de teste\n",
      " e perman\n",
      "ecer\n",
      "am em ambi\n",
      "ente climatizado (22,0±2,0 °C e 45,0±5,0 %UR) \n",
      "por no mínimo 3\n",
      "0 minutos antes do iníc\n",
      "io das med\n",
      "idas.\n",
      " As avaliações\n",
      " (hidratação, barreira e análise de imagem\n",
      ")  foram r\n",
      "eali\n",
      "zadas na re\n",
      "gião \n",
      "do rosto\n",
      " nos tempos T0\n",
      " (anterior\n",
      "ment\n",
      "e ao uso do produto)\n",
      ", T30 (após \n",
      "30 dias de uso do \n",
      "produto)\n",
      " e T45\n",
      " (após \n",
      "45 d\n",
      "ias de uso do produto)\n",
      ". Para tanto, as voluntária\n",
      "s foram instruída\n",
      "s a utilizar o produto conforme modo de uso indicado no \n",
      "Quadro 1. \n",
      "    \n"
     ]
    }
   ],
   "source": [
    "# Lendo arquivo e criando seu objeto manipulador\n",
    "pdfFileObj = open('base_de_dados/Interno em uso.pdf', 'rb')\n",
    "\n",
    "# Criando objeto de leitura do pdf via PyPDF2\n",
    "pdfReader = PyPDF2.PdfFileReader(pdfFileObj)\n",
    "\n",
    "# Printando numero de paginas do PDF\n",
    "print(\"Numero de paginas:\", pdfReader.numPages)\n",
    "\n",
    "# Obtendo uma pagina do PDF (indices funcionam da mesma forma que em arrays)\n",
    "pagina = pdfReader.getPage(0)\n",
    "\n",
    "# Extraindo texto da pagina\n",
    "texto = pagina.extractText()\n",
    "\n",
    "# Printando texto extraido\n",
    "print(\"---\\n\")\n",
    "print(texto)"
   ]
  },
  {
   "cell_type": "markdown",
   "metadata": {},
   "source": [
    "### Extraindo Referencia de formulas e ano de realizacao do teste:"
   ]
  },
  {
   "cell_type": "code",
   "execution_count": 147,
   "metadata": {
    "scrolled": true
   },
   "outputs": [],
   "source": [
    "# Abrindo o PDF ('rb' = read binary)\n",
    "with open('base_de_dados/Interno em uso.pdf', 'rb') as pdfFileObj:\n",
    "    \n",
    "    # Criando objeto em modo LEITURA do PDF\n",
    "    pdfReader = PyPDF2.PdfFileReader(pdfFileObj)\n",
    "    \n",
    "    # Criando padrao do codigo de referencia de formulas\n",
    "    pattern = re.compile(r'\\d{4}.\\d{3}.\\d{3}.\\d{2}')\n",
    "    \n",
    "    # Criando arrays pra armazenar o texto, as formulas e os anos\n",
    "    texto, formulas, anos = [], [], []\n",
    "    \n",
    "    for i in range(0, pdfReader.numPages):\n",
    "        pagina = pdfReader.getPage(i)\n",
    "        texto.append(pagina.extractText())\n",
    "        matches = pattern.finditer(texto[i])\n",
    "        for j in matches:            \n",
    "            if j.group(0) not in formulas:\n",
    "                formulas.append(j.group(0))\n",
    "                anos.append(j.group(0)[0:4])\n"
   ]
  },
  {
   "cell_type": "code",
   "execution_count": 155,
   "metadata": {},
   "outputs": [
    {
     "name": "stdout",
     "output_type": "stream",
     "text": [
      "  Formulas encontradas no PDF:  ['2019.764.002.04']\n",
      "Anos de realizacao dos testes:  ['2019']\n"
     ]
    }
   ],
   "source": [
    "print(\"  Formulas encontradas no PDF: \", formulas)\n",
    "print(\"Anos de realizacao dos testes: \", anos)"
   ]
  },
  {
   "cell_type": "markdown",
   "metadata": {},
   "source": [
    "# Tabula-py\n",
    "---"
   ]
  },
  {
   "cell_type": "code",
   "execution_count": 17,
   "metadata": {},
   "outputs": [],
   "source": [
    "import tabula"
   ]
  },
  {
   "cell_type": "code",
   "execution_count": 41,
   "metadata": {},
   "outputs": [
    {
     "data": {
      "text/html": [
       "<div>\n",
       "<style scoped>\n",
       "    .dataframe tbody tr th:only-of-type {\n",
       "        vertical-align: middle;\n",
       "    }\n",
       "\n",
       "    .dataframe tbody tr th {\n",
       "        vertical-align: top;\n",
       "    }\n",
       "\n",
       "    .dataframe thead th {\n",
       "        text-align: right;\n",
       "    }\n",
       "</style>\n",
       "<table border=\"1\" class=\"dataframe\">\n",
       "  <thead>\n",
       "    <tr style=\"text-align: right;\">\n",
       "      <th></th>\n",
       "      <th>0</th>\n",
       "    </tr>\n",
       "  </thead>\n",
       "  <tbody>\n",
       "    <tr>\n",
       "      <th>0</th>\n",
       "      <td>Cencoderma – Instituição de Pesquisa e Desenvo...</td>\n",
       "    </tr>\n",
       "  </tbody>\n",
       "</table>\n",
       "</div>"
      ],
      "text/plain": [
       "                                                   0\n",
       "0  Cencoderma – Instituição de Pesquisa e Desenvo..."
      ]
     },
     "execution_count": 41,
     "metadata": {},
     "output_type": "execute_result"
    }
   ],
   "source": [
    "# readinf the PDF file that contain Table Data\n",
    "# read_pdf will save the pdf table into Pandas Dataframe\n",
    "df = tabula.read_pdf(\"base_de_dados/Interno em uso.pdf\", multiple_tables=True)\n",
    "# in order to print first 5 lines of Table\n",
    "df[0]"
   ]
  },
  {
   "cell_type": "code",
   "execution_count": 32,
   "metadata": {},
   "outputs": [
    {
     "data": {
      "text/html": [
       "<div>\n",
       "<style scoped>\n",
       "    .dataframe tbody tr th:only-of-type {\n",
       "        vertical-align: middle;\n",
       "    }\n",
       "\n",
       "    .dataframe tbody tr th {\n",
       "        vertical-align: top;\n",
       "    }\n",
       "\n",
       "    .dataframe thead th {\n",
       "        text-align: right;\n",
       "    }\n",
       "</style>\n",
       "<table border=\"1\" class=\"dataframe\">\n",
       "  <thead>\n",
       "    <tr style=\"text-align: right;\">\n",
       "      <th></th>\n",
       "      <th>0</th>\n",
       "    </tr>\n",
       "  </thead>\n",
       "  <tbody>\n",
       "    <tr>\n",
       "      <th>0</th>\n",
       "      <td>DESCRIÇÃO DO PRODUTO</td>\n",
       "    </tr>\n",
       "    <tr>\n",
       "      <th>1</th>\n",
       "      <td>DESCRIÇÃO DO PRODUTO</td>\n",
       "    </tr>\n",
       "  </tbody>\n",
       "</table>\n",
       "</div>"
      ],
      "text/plain": [
       "                      0\n",
       "0  DESCRIÇÃO DO PRODUTO\n",
       "1  DESCRIÇÃO DO PRODUTO"
      ]
     },
     "execution_count": 32,
     "metadata": {},
     "output_type": "execute_result"
    }
   ],
   "source": [
    "df[1]"
   ]
  },
  {
   "cell_type": "code",
   "execution_count": 33,
   "metadata": {},
   "outputs": [
    {
     "data": {
      "text/html": [
       "<div>\n",
       "<style scoped>\n",
       "    .dataframe tbody tr th:only-of-type {\n",
       "        vertical-align: middle;\n",
       "    }\n",
       "\n",
       "    .dataframe tbody tr th {\n",
       "        vertical-align: top;\n",
       "    }\n",
       "\n",
       "    .dataframe thead th {\n",
       "        text-align: right;\n",
       "    }\n",
       "</style>\n",
       "<table border=\"1\" class=\"dataframe\">\n",
       "  <thead>\n",
       "    <tr style=\"text-align: right;\">\n",
       "      <th></th>\n",
       "      <th>0</th>\n",
       "      <th>1</th>\n",
       "      <th>2</th>\n",
       "    </tr>\n",
       "  </thead>\n",
       "  <tbody>\n",
       "    <tr>\n",
       "      <th>0</th>\n",
       "      <td>DESCRIÇÃO DO PRODUTO</td>\n",
       "      <td>REF. DE FÓRMULA</td>\n",
       "      <td>CÓDIGO</td>\n",
       "    </tr>\n",
       "    <tr>\n",
       "      <th>1</th>\n",
       "      <td>DESCRIÇÃO DO PRODUTO</td>\n",
       "      <td>REF. DE FÓRMULA</td>\n",
       "      <td>CÓDIGO</td>\n",
       "    </tr>\n",
       "    <tr>\n",
       "      <th>2</th>\n",
       "      <td>2019.764.002.04</td>\n",
       "      <td>NaN</td>\n",
       "      <td>NaN</td>\n",
       "    </tr>\n",
       "  </tbody>\n",
       "</table>\n",
       "</div>"
      ],
      "text/plain": [
       "                      0                1       2\n",
       "0  DESCRIÇÃO DO PRODUTO  REF. DE FÓRMULA  CÓDIGO\n",
       "1  DESCRIÇÃO DO PRODUTO  REF. DE FÓRMULA  CÓDIGO\n",
       "2       2019.764.002.04              NaN     NaN"
      ]
     },
     "execution_count": 33,
     "metadata": {},
     "output_type": "execute_result"
    }
   ],
   "source": [
    "df[2]"
   ]
  },
  {
   "cell_type": "code",
   "execution_count": 34,
   "metadata": {},
   "outputs": [
    {
     "data": {
      "text/html": [
       "<div>\n",
       "<style scoped>\n",
       "    .dataframe tbody tr th:only-of-type {\n",
       "        vertical-align: middle;\n",
       "    }\n",
       "\n",
       "    .dataframe tbody tr th {\n",
       "        vertical-align: top;\n",
       "    }\n",
       "\n",
       "    .dataframe thead th {\n",
       "        text-align: right;\n",
       "    }\n",
       "</style>\n",
       "<table border=\"1\" class=\"dataframe\">\n",
       "  <thead>\n",
       "    <tr style=\"text-align: right;\">\n",
       "      <th></th>\n",
       "      <th>0</th>\n",
       "    </tr>\n",
       "  </thead>\n",
       "  <tbody>\n",
       "    <tr>\n",
       "      <th>0</th>\n",
       "      <td>REF. DE FÓRMULA</td>\n",
       "    </tr>\n",
       "    <tr>\n",
       "      <th>1</th>\n",
       "      <td>REF. DE FÓRMULA</td>\n",
       "    </tr>\n",
       "  </tbody>\n",
       "</table>\n",
       "</div>"
      ],
      "text/plain": [
       "                 0\n",
       "0  REF. DE FÓRMULA\n",
       "1  REF. DE FÓRMULA"
      ]
     },
     "execution_count": 34,
     "metadata": {},
     "output_type": "execute_result"
    }
   ],
   "source": [
    "df[3]"
   ]
  },
  {
   "cell_type": "code",
   "execution_count": 35,
   "metadata": {},
   "outputs": [
    {
     "data": {
      "text/html": [
       "<div>\n",
       "<style scoped>\n",
       "    .dataframe tbody tr th:only-of-type {\n",
       "        vertical-align: middle;\n",
       "    }\n",
       "\n",
       "    .dataframe tbody tr th {\n",
       "        vertical-align: top;\n",
       "    }\n",
       "\n",
       "    .dataframe thead th {\n",
       "        text-align: right;\n",
       "    }\n",
       "</style>\n",
       "<table border=\"1\" class=\"dataframe\">\n",
       "  <thead>\n",
       "    <tr style=\"text-align: right;\">\n",
       "      <th></th>\n",
       "      <th>0</th>\n",
       "    </tr>\n",
       "  </thead>\n",
       "  <tbody>\n",
       "    <tr>\n",
       "      <th>0</th>\n",
       "      <td>CÓDIGO</td>\n",
       "    </tr>\n",
       "    <tr>\n",
       "      <th>1</th>\n",
       "      <td>CÓDIGO</td>\n",
       "    </tr>\n",
       "  </tbody>\n",
       "</table>\n",
       "</div>"
      ],
      "text/plain": [
       "        0\n",
       "0  CÓDIGO\n",
       "1  CÓDIGO"
      ]
     },
     "execution_count": 35,
     "metadata": {},
     "output_type": "execute_result"
    }
   ],
   "source": [
    "df[4]"
   ]
  },
  {
   "cell_type": "markdown",
   "metadata": {},
   "source": [
    "### Os resultados da biblioteca acima para os PDFs da Boticario nao aparentam ser muito bons [fazer mais testes antes de descartar completamente]. Utilizar a especificacao de area tambem aparenta nao retornar outputs satisfatorios, conforme visto abaixo."
   ]
  },
  {
   "cell_type": "code",
   "execution_count": 76,
   "metadata": {},
   "outputs": [
    {
     "data": {
      "text/html": [
       "<div>\n",
       "<style scoped>\n",
       "    .dataframe tbody tr th:only-of-type {\n",
       "        vertical-align: middle;\n",
       "    }\n",
       "\n",
       "    .dataframe tbody tr th {\n",
       "        vertical-align: top;\n",
       "    }\n",
       "\n",
       "    .dataframe thead th {\n",
       "        text-align: right;\n",
       "    }\n",
       "</style>\n",
       "<table border=\"1\" class=\"dataframe\">\n",
       "  <thead>\n",
       "    <tr style=\"text-align: right;\">\n",
       "      <th></th>\n",
       "      <th>As avaliações do presente estudo foram realizadas seguin</th>\n",
       "    </tr>\n",
       "  </thead>\n",
       "  <tbody>\n",
       "    <tr>\n",
       "      <th>0</th>\n",
       "      <td>as devidas adaptações:</td>\n",
       "    </tr>\n",
       "    <tr>\n",
       "      <th>1</th>\n",
       "      <td>• Hidratação através da técnica de corneometri...</td>\n",
       "    </tr>\n",
       "  </tbody>\n",
       "</table>\n",
       "</div>"
      ],
      "text/plain": [
       "  As avaliações do presente estudo foram realizadas seguin\n",
       "0                             as devidas adaptações:      \n",
       "1  • Hidratação através da técnica de corneometri...      "
      ]
     },
     "execution_count": 76,
     "metadata": {},
     "output_type": "execute_result"
    }
   ],
   "source": [
    "#tabula.read_pdf(\"offense.pdf\", area=(126,149,212,380), pages=1)\n",
    "\n",
    "# area = (top, left, bottom, right)\n",
    "\n",
    "df2 = tabula.read_pdf(\"base_de_dados/Interno em uso.pdf\", area=(150,50,212,400), pages=2)\n",
    "#df2 = tabula.read_pdf(\"base_de_dados/Interno em uso.pdf\", guess=False, pages=2)\n",
    "df2"
   ]
  },
  {
   "cell_type": "markdown",
   "metadata": {},
   "source": [
    "# PDFMiner\n",
    "---\n",
    "\n",
    "Nao consegui instalar a biblioteca."
   ]
  },
  {
   "cell_type": "code",
   "execution_count": null,
   "metadata": {},
   "outputs": [],
   "source": []
  }
 ],
 "metadata": {
  "kernelspec": {
   "display_name": "Python 3",
   "language": "python",
   "name": "python3"
  },
  "language_info": {
   "codemirror_mode": {
    "name": "ipython",
    "version": 3
   },
   "file_extension": ".py",
   "mimetype": "text/x-python",
   "name": "python",
   "nbconvert_exporter": "python",
   "pygments_lexer": "ipython3",
   "version": "3.8.1"
  }
 },
 "nbformat": 4,
 "nbformat_minor": 2
}
